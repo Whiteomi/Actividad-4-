{
  "nbformat": 4,
  "nbformat_minor": 0,
  "metadata": {
    "colab": {
      "provenance": [],
      "include_colab_link": true
    },
    "kernelspec": {
      "name": "python3",
      "display_name": "Python 3"
    },
    "language_info": {
      "name": "python"
    }
  },
  "cells": [
    {
      "cell_type": "markdown",
      "metadata": {
        "id": "view-in-github",
        "colab_type": "text"
      },
      "source": [
        "<a href=\"https://colab.research.google.com/github/Whiteomi/Actividad-4-/blob/main/Actividad_4_Regresi%C3%B3n_Lineal_Y_Logistica.ipynb\" target=\"_parent\"><img src=\"https://colab.research.google.com/assets/colab-badge.svg\" alt=\"Open In Colab\"/></a>"
      ]
    },
    {
      "cell_type": "code",
      "execution_count": null,
      "metadata": {
        "id": "8EfWNxYQvZm5"
      },
      "outputs": [],
      "source": [
        "#Cargamos librerias \n",
        "#Importar librerias \n",
        "import pandas as pd \n",
        "import numpy as np \n",
        "import matplotlib.pyplot as plt \n",
        "import seaborn as sns\n",
        "import scipy.special as special \n",
        "from scipy.optimize import curve_fit \n",
        "from sklearn.metrics import r2_score \n",
        "from sklearn.model_selection import train_test_split \n",
        "from sklearn.preprocessing import StandardScaler "
      ]
    },
    {
      "cell_type": "markdown",
      "source": [
        "Realizado por: \n",
        "Saúl Jesús Cuervo Méndez,\n",
        "Omar Eduardo Pelcastre Reyes "
      ],
      "metadata": {
        "id": "5G8SIySrRjLH"
      }
    },
    {
      "cell_type": "code",
      "source": [
        "#Cargar archivo csv desde seaborn\n",
        "from google.colab import files \n",
        "files.upload()"
      ],
      "metadata": {
        "id": "cMMuODS0xvLa"
      },
      "execution_count": null,
      "outputs": []
    },
    {
      "cell_type": "code",
      "source": [
        "#Carga desde un archivo .xlsx sin indice \n",
        "data= pd.read_excel('microretailer_mit_lift_lab_actualizado.xlsx')"
      ],
      "metadata": {
        "id": "s9mUXGUQyKBv"
      },
      "execution_count": null,
      "outputs": []
    },
    {
      "cell_type": "markdown",
      "source": [
        "**Método de eliminación de valores nulos**"
      ],
      "metadata": {
        "id": "0c9ONmkXylsZ"
      }
    },
    {
      "cell_type": "code",
      "source": [
        "#Identificar valores nulos por columna \n",
        "valores_nulos=data.isnull().sum()\n",
        "valores_nulos"
      ],
      "metadata": {
        "colab": {
          "base_uri": "https://localhost:8080/"
        },
        "id": "I_I_lvm3ym27",
        "outputId": "90ee3fcd-ecc6-4a36-bc0a-a20b33e820e6"
      },
      "execution_count": null,
      "outputs": [
        {
          "output_type": "execute_result",
          "data": {
            "text/plain": [
              "_record_id                                0\n",
              "_title                                    0\n",
              "_server_updated_at                        0\n",
              "_updated_by                               0\n",
              "_geometry                                 0\n",
              "                                       ... \n",
              "234_willingness_participate_workshop    125\n",
              "318_shopkeeper_name                     249\n",
              "319_shopkeepers_last_name               252\n",
              "236_whatsapp                            255\n",
              "235_email                               283\n",
              "Length: 106, dtype: int64"
            ]
          },
          "metadata": {},
          "execution_count": 320
        }
      ]
    },
    {
      "cell_type": "code",
      "source": [
        "#Sustituir valores nulos por un str en concreto \n",
        "#data[\"268_number_fridges\"]= data[\"268_number_fridges\"].fillna(\"no_existe_información\")\n",
        "#Este método llamado valores por un str en concreto se utilizo para la sustitución de valores nulos en el apartado de 300_did_not_find, ya que son valores de tipo str.\n",
        "#Se sustituyo por la palabra \"no_existe_información\". "
      ],
      "metadata": {
        "id": "KT61HExAzi6e"
      },
      "execution_count": null,
      "outputs": []
    },
    {
      "cell_type": "code",
      "source": [
        "#Sustituir valores nulos por un str en concreto \n",
        "data[\"pictures_of_shelves_if_possible\"]= data[\"pictures_of_shelves_if_possible\"].fillna(\"no_photo\")\n",
        "#Este método llamado valores por un str en concreto se utilizo para la sustitución de valores nulos en el apartado de 300_did_not_find, ya que son valores de tipo str.\n",
        "#Se sustituyo por la palabra \"no_photo\". "
      ],
      "metadata": {
        "id": "qI_XrTP7z7MP"
      },
      "execution_count": null,
      "outputs": []
    },
    {
      "cell_type": "code",
      "source": [
        "#Sustituir valores nulos por un str en concreto \n",
        "data[\"233_date_establishment\"]= data[\"233_date_establishment\"].fillna(\"no_info\")\n",
        "#Este método llamado valores por un str en concreto se utilizo para la sustitución de valores nulos en el apartado de 300_did_not_find, ya que son valores de tipo str.\n",
        "#Se sustituyo por la palabra \"no_info\". "
      ],
      "metadata": {
        "id": "nXlI7o6z0WQl"
      },
      "execution_count": null,
      "outputs": []
    },
    {
      "cell_type": "code",
      "source": [
        "#Sustituir valores nulos por un str en concreto \n",
        "#data[\"2_current_permanent_employees\"]= data[\"2_current_permanent_employees\"].fillna(\"no_cuenta_con_empleados_permanentes\")\n",
        "#Este método llamado valores por un str en concreto se utilizo para la sustitución de valores nulos en el apartado de 300_did_not_find, ya que son valores de tipo str.\n",
        "#Se sustituyo por la palabra \"no_cuenta_con_empleados_permanentes\". "
      ],
      "metadata": {
        "id": "lxZwdn0m0peY"
      },
      "execution_count": null,
      "outputs": []
    },
    {
      "cell_type": "code",
      "source": [
        "#Sustituir valores nulos por un str en concreto \n",
        "#data[\"4_number_permanent_employees_last_year\"]= data[\"4_number_permanent_employees_last_year\"].fillna(\"no_tiene_información\")\n",
        "#Este método llamado valores por un str en concreto se utilizo para la sustitución de valores nulos en el apartado de 300_did_not_find, ya que son valores de tipo str.\n",
        "#Se sustituyo por la palabra \"no_tiene_información\". "
      ],
      "metadata": {
        "id": "zRy15McC02Gq"
      },
      "execution_count": null,
      "outputs": []
    },
    {
      "cell_type": "code",
      "source": [
        "#Sustituir valores nulos por un str en concreto \n",
        "data[\"5_change_store_space_last_year\"]= data[\"5_change_store_space_last_year\"].fillna(\"no_info\")\n",
        "#Este método llamado valores por un str en concreto se utilizo para la sustitución de valores nulos en el apartado de 300_did_not_find, ya que son valores de tipo str.\n",
        "#Se sustituyo por la palabra \"no_info\". "
      ],
      "metadata": {
        "id": "raa6lfl508zO"
      },
      "execution_count": null,
      "outputs": []
    },
    {
      "cell_type": "code",
      "source": [
        "#Sustituir valores nulos por un str en concreto \n",
        "data[\"6_change_employees_average_salary_last_year\"]= data[\"6_change_employees_average_salary_last_year\"].fillna(\"sin_contestar\")\n",
        "#Este método llamado valores por un str en concreto se utilizo para la sustitución de valores nulos en el apartado de 300_did_not_find, ya que son valores de tipo str.\n",
        "#Se sustituyo por la palabra \"sin_contestar\". "
      ],
      "metadata": {
        "id": "ifT62mKE1Cn-"
      },
      "execution_count": null,
      "outputs": []
    },
    {
      "cell_type": "code",
      "source": [
        "#Sustituir valores nulos por valores no nulos hacia adelante \"forward fill\" (\"ffill\")\n",
        "#Filtro por columnas \n",
        "data[\"20_reviews_finances_monthly\"]=data[\"20_reviews_finances_monthly\"].fillna(method=\"ffill\")\n",
        "#En este apartado se utilizo la sustitución de valores nulos por valores no nulos hacía adelante \"forward\"\n",
        "#Rellenando los valores nulos con los str que se encuentran adelante del valor nulo."
      ],
      "metadata": {
        "id": "J_tDit_G1Eku"
      },
      "execution_count": null,
      "outputs": []
    },
    {
      "cell_type": "code",
      "source": [
        "#Sustituir valores nulos por un str en concreto \n",
        "data[\"49_inventory_records\"]= data[\"49_inventory_records\"].fillna(\"no_info\")\n",
        "#Este método llamado valores por un str en concreto se utilizo para la sustitución de valores nulos en el apartado de 300_did_not_find, ya que son valores de tipo str.\n",
        "#Se sustituyo por la palabra \"no_info\". "
      ],
      "metadata": {
        "id": "quf2kwIY1Hmw"
      },
      "execution_count": null,
      "outputs": []
    },
    {
      "cell_type": "code",
      "source": [
        "#Sustituir valores nulos por un str en concreto \n",
        "data[\"18_sales_records\"]= data[\"18_sales_records\"].fillna(\"no_info\")\n",
        "#Este método llamado valores por un str en concreto se utilizo para la sustitución de valores nulos en el apartado de 300_did_not_find, ya que son valores de tipo str.\n",
        "#Se sustituyo por la palabra \"no_info\". "
      ],
      "metadata": {
        "id": "O9UGQJe31YhX"
      },
      "execution_count": null,
      "outputs": []
    },
    {
      "cell_type": "code",
      "source": [
        "#Sustituir valores nulos por un str en concreto \n",
        "data[\"155_sales_registers_used_for\"]= data[\"155_sales_registers_used_for\"].fillna(\"no_info\")\n",
        "#Este método llamado valores por un str en concreto se utilizo para la sustitución de valores nulos en el apartado de 300_did_not_find, ya que son valores de tipo str.\n",
        "#Se sustituyo por la palabra \"no_info\". "
      ],
      "metadata": {
        "id": "uR7VjcEa1Yj0"
      },
      "execution_count": null,
      "outputs": []
    },
    {
      "cell_type": "code",
      "source": [
        "#Sustituir valores nulos por un str en concreto \n",
        "#data[\"103_number_own_fridges\"]= data[\"103_number_own_fridges\"].fillna(\"nothing\")\n",
        "#Este método llamado valores por un str en concreto se utilizo para la sustitución de valores nulos en el apartado de 300_did_not_find, ya que son valores de tipo str.\n",
        "#Se sustituyo por la palabra \"no_info\". "
      ],
      "metadata": {
        "id": "ChlDrcxu1YnA"
      },
      "execution_count": null,
      "outputs": []
    },
    {
      "cell_type": "code",
      "source": [
        "#Sustituir valores nulos por valores no nulos hacia adelante \"forward fill\" (\"ffill\")\n",
        "#Filtro por columnas \n",
        "data[\"19_tax_id\"]=data[\"19_tax_id\"].fillna(method=\"ffill\")\n",
        "#En este apartado se utilizo la sustitución de valores nulos por valores no nulos hacía adelante \"forward\"\n",
        "#Rellenando los valores nulos con los str que se encuentran adelante del valor nulo."
      ],
      "metadata": {
        "id": "5J3gmRY61Y2c"
      },
      "execution_count": null,
      "outputs": []
    },
    {
      "cell_type": "code",
      "source": [
        "#Sustituir valores nulos por un str en concreto \n",
        "#data[\"145_number_direct_competitors\"]= data[\"103_number_own_fridges\"].fillna(\"nothing\")\n",
        "#Este método llamado valores por un str en concreto se utilizo para la sustitución de valores nulos en el apartado de 300_did_not_find, ya que son valores de tipo str.\n",
        "#Se sustituyo por la palabra \"nothing\". "
      ],
      "metadata": {
        "id": "S5wmDjPS1Y5B"
      },
      "execution_count": null,
      "outputs": []
    },
    {
      "cell_type": "code",
      "source": [
        "#Sustituir valores nulos por un str en concreto \n",
        "data[\"310_burnout\"]= data[\"310_burnout\"].fillna(\"nothing\")\n",
        "#Este método llamado valores por un str en concreto se utilizo para la sustitución de valores nulos en el apartado de 300_did_not_find, ya que son valores de tipo str.\n",
        "#Se sustituyo por la palabra \"nothing\". "
      ],
      "metadata": {
        "id": "mIpMAFim1tcC"
      },
      "execution_count": null,
      "outputs": []
    },
    {
      "cell_type": "code",
      "source": [
        "#Sustituir valores nulos por un str en concreto \n",
        "#data[\"24_burnout\"]= data[\"24_burnout\"].fillna(\"nothing\")\n",
        "#Este método llamado valores por un str en concreto se utilizo para la sustitución de valores nulos en el apartado de 300_did_not_find, ya que son valores de tipo str.\n",
        "#Se sustituyo por la palabra \"nothing\". "
      ],
      "metadata": {
        "id": "LDTa5RIt1teo"
      },
      "execution_count": null,
      "outputs": []
    },
    {
      "cell_type": "code",
      "source": [
        "#Sustituir valores nulos por un str en concreto \n",
        "data[\"186_internet_connection\"]= data[\"186_internet_connection\"].fillna(\"nothing\")\n",
        "#Este método llamado valores por un str en concreto se utilizo para la sustitución de valores nulos en el apartado de 300_did_not_find, ya que son valores de tipo str.\n",
        "#Se sustituyo por la palabra \"nothing\". "
      ],
      "metadata": {
        "id": "BptHzuyb1tg2"
      },
      "execution_count": null,
      "outputs": []
    },
    {
      "cell_type": "code",
      "source": [
        "#Sustituir valores nulos por un str en concreto \n",
        "data[\"210_sales_channels\"]= data[\"210_sales_channels\"].fillna(\"nothing\")\n",
        "#Este método llamado valores por un str en concreto se utilizo para la sustitución de valores nulos en el apartado de 300_did_not_find, ya que son valores de tipo str.\n",
        "#Se sustituyo por la palabra \"nothing\"."
      ],
      "metadata": {
        "id": "qGsZheLg1tjP"
      },
      "execution_count": null,
      "outputs": []
    },
    {
      "cell_type": "code",
      "source": [
        "#Sustituir valores nulos por un str en concreto \n",
        "data[\"189_payment_methods\"]= data[\"189_payment_methods\"].fillna(\"nothing\")\n",
        "#Este método llamado valores por un str en concreto se utilizo para la sustitución de valores nulos en el apartado de 300_did_not_find, ya que son valores de tipo str.\n",
        "#Se sustituyo por la palabra \"nothing\". "
      ],
      "metadata": {
        "id": "T_NQ7kV61tlc"
      },
      "execution_count": null,
      "outputs": []
    },
    {
      "cell_type": "code",
      "source": [
        "#Sustituir valores nulos por un str en concreto \n",
        "data[\"28_prefered_payment_method\"]= data[\"28_prefered_payment_method\"].fillna(\"nothing\")\n",
        "#Este método llamado valores por un str en concreto se utilizo para la sustitución de valores nulos en el apartado de 300_did_not_find, ya que son valores de tipo str.\n",
        "#Se sustituyo por la palabra \"nothing\". "
      ],
      "metadata": {
        "id": "QFHHyhzk2Zkk"
      },
      "execution_count": null,
      "outputs": []
    },
    {
      "cell_type": "code",
      "source": [
        "#Sustituir valores nulos por un str en concreto \n",
        "data[\"31_different_prices_payment_method\"]= data[\"31_different_prices_payment_method\"].fillna(\"nothing\")\n",
        "#Este método llamado valores por un str en concreto se utilizo para la sustitución de valores nulos en el apartado de 300_did_not_find, ya que son valores de tipo str.\n",
        "#Se sustituyo por la palabra \"nothing\"."
      ],
      "metadata": {
        "id": "g3kOPvjs2ZnS"
      },
      "execution_count": null,
      "outputs": []
    },
    {
      "cell_type": "code",
      "source": [
        "#Sustituir valores nulos por un str en concreto \n",
        "data[\"269_cash_discount\"]= data[\"269_cash_discount\"].fillna(\"nothing\")\n",
        "#Este método llamado valores por un str en concreto se utilizo para la sustitución de valores nulos en el apartado de 300_did_not_find, ya que son valores de tipo str.\n",
        "#Se sustituyo por la palabra \"nothing\"."
      ],
      "metadata": {
        "id": "EG0fOewX2Zpn"
      },
      "execution_count": null,
      "outputs": []
    },
    {
      "cell_type": "code",
      "source": [
        "#Sustituir valores nulos por un str en concreto \n",
        "data[\"270_card_extra_charge\"]= data[\"270_card_extra_charge\"].fillna(\"nothing\")\n",
        "#Este método llamado valores por un str en concreto se utilizo para la sustitución de valores nulos en el apartado de 300_did_not_find, ya que son valores de tipo str.\n",
        "#Se sustituyo por la palabra \"nothing\"."
      ],
      "metadata": {
        "id": "V64VXopf2ZsA"
      },
      "execution_count": null,
      "outputs": []
    },
    {
      "cell_type": "code",
      "source": [
        "#Sustituir valores nulos por un str en concreto \n",
        "data[\"271_card_fee\"]= data[\"271_card_fee\"].fillna(\"nothing\")\n",
        "#Este método llamado valores por un str en concreto se utilizo para la sustitución de valores nulos en el apartado de 300_did_not_find, ya que son valores de tipo str.\n",
        "#Se sustituyo por la palabra \"nothing\"."
      ],
      "metadata": {
        "id": "c8Gux2v42ZuZ"
      },
      "execution_count": null,
      "outputs": []
    },
    {
      "cell_type": "code",
      "source": [
        "#Sustituir valores nulos por un str en concreto \n",
        "#data[\"272_card_days_receive_money\"]= data[\"272_card_days_receive_money\"].fillna(\"nothing\")\n",
        "#Este método llamado valores por un str en concreto se utilizo para la sustitución de valores nulos en el apartado de 300_did_not_find, ya que son valores de tipo str.\n",
        "#Se sustituyo por la palabra \"nothing\"."
      ],
      "metadata": {
        "id": "X1a8U4iD2Zwo"
      },
      "execution_count": null,
      "outputs": []
    },
    {
      "cell_type": "code",
      "source": [
        "#Sustituir valores nulos por un str en concreto \n",
        "data[\"273_platform_extra_charge\"]= data[\"273_platform_extra_charge\"].fillna(\"nothing\")\n",
        "#Este método llamado valores por un str en concreto se utilizo para la sustitución de valores nulos en el apartado de 300_did_not_find, ya que son valores de tipo str.\n",
        "#Se sustituyo por la palabra \"nothing\"."
      ],
      "metadata": {
        "id": "jAjOQiDB2Zyx"
      },
      "execution_count": null,
      "outputs": []
    },
    {
      "cell_type": "code",
      "source": [
        "#Sustituir valores nulos por un str en concreto \n",
        "data[\"274_platform_fee\"]= data[\"274_platform_fee\"].fillna(\"nothing\")\n",
        "#Este método llamado valores por un str en concreto se utilizo para la sustitución de valores nulos en el apartado de 300_did_not_find, ya que son valores de tipo str.\n",
        "#Se sustituyo por la palabra \"nothing\"."
      ],
      "metadata": {
        "id": "bg55PCJA2Z08"
      },
      "execution_count": null,
      "outputs": []
    },
    {
      "cell_type": "code",
      "source": [
        "#Sustituir valores nulos por un str en concreto \n",
        "data[\"275_platform_days_receive_money\"]= data[\"275_platform_days_receive_money\"].fillna(\"nothing\")\n",
        "#Este método llamado valores por un str en concreto se utilizo para la sustitución de valores nulos en el apartado de 300_did_not_find, ya que son valores de tipo str.\n",
        "#Se sustituyo por la palabra \"nothing\"."
      ],
      "metadata": {
        "id": "lE2CXfGE2Z3F"
      },
      "execution_count": null,
      "outputs": []
    },
    {
      "cell_type": "code",
      "source": [
        "#Sustituir valores nulos por un str en concreto \n",
        "data[\"30_payment_methods_large_purchases\"]= data[\"30_payment_methods_large_purchases\"].fillna(\"nothing\")\n",
        "#Este método llamado valores por un str en concreto se utilizo para la sustitución de valores nulos en el apartado de 300_did_not_find, ya que son valores de tipo str.\n",
        "#Se sustituyo por la palabra \"nothing\"."
      ],
      "metadata": {
        "id": "-A5NVUU92Z54"
      },
      "execution_count": null,
      "outputs": []
    },
    {
      "cell_type": "code",
      "source": [
        "#Sustituir valores nulos por un str en concreto \n",
        "data[\"214_customer_relationship_tools\"]= data[\"214_customer_relationship_tools\"].fillna(\"nothing\")\n",
        "#Este método llamado valores por un str en concreto se utilizo para la sustitución de valores nulos en el apartado de 300_did_not_find, ya que son valores de tipo str.\n",
        "#Se sustituyo por la palabra \"nothing\"."
      ],
      "metadata": {
        "id": "qrQYDZ3w2Z8c"
      },
      "execution_count": null,
      "outputs": []
    },
    {
      "cell_type": "code",
      "source": [
        "#Sustituir valores nulos por un str en concreto \n",
        "data[\"33_credit_to_customers\"]= data[\"33_credit_to_customers\"].fillna(\"nothing\")\n",
        "#Este método llamado valores por un str en concreto se utilizo para la sustitución de valores nulos en el apartado de 300_did_not_find, ya que son valores de tipo str.\n",
        "#Se sustituyo por la palabra \"nothing\"."
      ],
      "metadata": {
        "id": "-bcQmNgy2Z_C"
      },
      "execution_count": null,
      "outputs": []
    },
    {
      "cell_type": "code",
      "source": [
        "#Sustituir valores nulos por un str en concreto \n",
        "#data[\"276_expected_days_informal_credit\"]= data[\"276_expected_days_informal_credit\"].fillna(\"nothing\")\n",
        "#Este método llamado valores por un str en concreto se utilizo para la sustitución de valores nulos en el apartado de 300_did_not_find, ya que son valores de tipo str.\n",
        "#Se sustituyo por la palabra \"nothing\"."
      ],
      "metadata": {
        "id": "31OVuR_Q2aBU"
      },
      "execution_count": null,
      "outputs": []
    },
    {
      "cell_type": "code",
      "source": [
        "#Sustituir valores nulos por un str en concreto \n",
        "data[\"35_interest_rate\"]= data[\"35_interest_rate\"].fillna(\"nothing\")\n",
        "#Este método llamado valores por un str en concreto se utilizo para la sustitución de valores nulos en el apartado de 300_did_not_find, ya que son valores de tipo str.\n",
        "#Se sustituyo por la palabra \"nothing\"."
      ],
      "metadata": {
        "id": "vEEGKvBb2aEy"
      },
      "execution_count": null,
      "outputs": []
    },
    {
      "cell_type": "code",
      "source": [
        "#Sustituir valores nulos por un str en concreto \n",
        "#data[\"36_credit_default_rate\"]= data[\"36_credit_default_rate\"].fillna(\"nothing\")\n",
        "#Este método llamado valores por un str en concreto se utilizo para la sustitución de valores nulos en el apartado de 300_did_not_find, ya que son valores de tipo str.\n",
        "#Se sustituyo por la palabra \"nothing\"."
      ],
      "metadata": {
        "id": "jhGfXKfm1tnl"
      },
      "execution_count": null,
      "outputs": []
    },
    {
      "cell_type": "code",
      "source": [
        "#Sustituir valores nulos por un str en concreto \n",
        "data[\"38_average_margin_profits\"]= data[\"38_average_margin_profits\"].fillna(\"nothing\")\n",
        "#Este método llamado valores por un str en concreto se utilizo para la sustitución de valores nulos en el apartado de 300_did_not_find, ya que son valores de tipo str.\n",
        "#Se sustituyo por la palabra \"nothing\"."
      ],
      "metadata": {
        "id": "akw-4U1_1tq0"
      },
      "execution_count": null,
      "outputs": []
    },
    {
      "cell_type": "code",
      "source": [
        "#Sustituir valores nulos por un str en concreto \n",
        "data[\"193_sales_planning_tools\"]= data[\"193_sales_planning_tools\"].fillna(\"nothing\")\n",
        "#Este método llamado valores por un str en concreto se utilizo para la sustitución de valores nulos en el apartado de 300_did_not_find, ya que son valores de tipo str.\n",
        "#Se sustituyo por la palabra \"nothing\"."
      ],
      "metadata": {
        "id": "wD1C-Qx31Y8o"
      },
      "execution_count": null,
      "outputs": []
    },
    {
      "cell_type": "code",
      "source": [
        "#Sustituir valores nulos por un str en concreto \n",
        "data[\"227_agreement_ecommerce_platforms\"]= data[\"227_agreement_ecommerce_platforms\"].fillna(\"nothing\")\n",
        "#Este método llamado valores por un str en concreto se utilizo para la sustitución de valores nulos en el apartado de 300_did_not_find, ya que son valores de tipo str.\n",
        "#Se sustituyo por la palabra \"nothing\"."
      ],
      "metadata": {
        "id": "0W4tdfxI3Ata"
      },
      "execution_count": null,
      "outputs": []
    },
    {
      "cell_type": "code",
      "source": [
        "#Sustituir valores nulos por un str en concreto \n",
        "data[\"60_services\"]= data[\"60_services\"].fillna(\"nothing\")\n",
        "#Este método llamado valores por un str en concreto se utilizo para la sustitución de valores nulos en el apartado de 300_did_not_find, ya que son valores de tipo str.\n",
        "#Se sustituyo por la palabra \"nothing\"."
      ],
      "metadata": {
        "id": "NkHGukPT3AvX"
      },
      "execution_count": null,
      "outputs": []
    },
    {
      "cell_type": "code",
      "source": [
        "#Sustituir valores nulos por un str en concreto \n",
        "#data[\"315_frequency_topups\"]= data[\"315_frequency_topups\"].fillna(\"nothing\")\n",
        "#Este método llamado valores por un str en concreto se utilizo para la sustitución de valores nulos en el apartado de 300_did_not_find, ya que son valores de tipo str.\n",
        "#Se sustituyo por la palabra \"nothing\"."
      ],
      "metadata": {
        "id": "DIXq0jH23Axq"
      },
      "execution_count": null,
      "outputs": []
    },
    {
      "cell_type": "code",
      "source": [
        "#Sustituir valores nulos por un str en concreto \n",
        "#data[\"316_frequency_utility_bills\"]= data[\"316_frequency_utility_bills\"].fillna(\"nothing\")\n",
        "#Este método llamado valores por un str en concreto se utilizo para la sustitución de valores nulos en el apartado de 300_did_not_find, ya que son valores de tipo str.\n",
        "#Se sustituyo por la palabra \"nothing\"."
      ],
      "metadata": {
        "id": "ix3_lmvO3A0G"
      },
      "execution_count": null,
      "outputs": []
    },
    {
      "cell_type": "code",
      "source": [
        "#Sustituir valores nulos por un str en concreto \n",
        "#data[\"317_home_deliveries\"]= data[\"317_home_deliveries\"].fillna(\"nothing\")\n",
        "#Este método llamado valores por un str en concreto se utilizo para la sustitución de valores nulos en el apartado de 300_did_not_find, ya que son valores de tipo str.\n",
        "#Se sustituyo por la palabra \"nothing\"."
      ],
      "metadata": {
        "id": "7wDoNhQ83A2F"
      },
      "execution_count": null,
      "outputs": []
    },
    {
      "cell_type": "code",
      "source": [
        "#Sustituir valores nulos por un str en concreto \n",
        "#data[\"62_frequency_only_services\"]= data[\"62_frequency_only_services\"].fillna(\"nothing\")\n",
        "#Este método llamado valores por un str en concreto se utilizo para la sustitución de valores nulos en el apartado de 300_did_not_find, ya que son valores de tipo str.\n",
        "#Se sustituyo por la palabra \"nothing\"."
      ],
      "metadata": {
        "id": "brcrBv343A42"
      },
      "execution_count": null,
      "outputs": []
    },
    {
      "cell_type": "code",
      "source": [
        "#Sustituir valores nulos por un str en concreto \n",
        "#data[\"78_number_home_deliveries_week\"]= data[\"78_number_home_deliveries_week\"].fillna(\"nothing\")\n",
        "#Este método llamado valores por un str en concreto se utilizo para la sustitución de valores nulos en el apartado de 300_did_not_find, ya que son valores de tipo str.\n",
        "#Se sustituyo por la palabra \"nothing\"."
      ],
      "metadata": {
        "id": "cj8InfTi3A69"
      },
      "execution_count": null,
      "outputs": []
    },
    {
      "cell_type": "code",
      "source": [
        "#Sustituir valores nulos por un str en concreto \n",
        "data[\"77_delivery_timeslots\"]= data[\"77_delivery_timeslots\"].fillna(\"nothing\")\n",
        "#Este método llamado valores por un str en concreto se utilizo para la sustitución de valores nulos en el apartado de 300_did_not_find, ya que son valores de tipo str.\n",
        "#Se sustituyo por la palabra \"nothing\"."
      ],
      "metadata": {
        "id": "8jzLdna23A9M"
      },
      "execution_count": null,
      "outputs": []
    },
    {
      "cell_type": "code",
      "source": [
        "#Sustituir valores nulos por un str en concreto \n",
        "data[\"79_delivery_vehicle\"]= data[\"79_delivery_vehicle\"].fillna(\"nothing\")\n",
        "#Este método llamado valores por un str en concreto se utilizo para la sustitución de valores nulos en el apartado de 300_did_not_find, ya que son valores de tipo str.\n",
        "#Se sustituyo por la palabra \"nothing\"."
      ],
      "metadata": {
        "id": "PTm6ZO-Q3A_s"
      },
      "execution_count": null,
      "outputs": []
    },
    {
      "cell_type": "code",
      "source": [
        "#Sustituir valores nulos por un str en concreto \n",
        "data[\"64_comission_services\"]= data[\"64_comission_services\"].fillna(\"nothing\")\n",
        "#Este método llamado valores por un str en concreto se utilizo para la sustitución de valores nulos en el apartado de 300_did_not_find, ya que son valores de tipo str.\n",
        "#Se sustituyo por la palabra \"nothing\"."
      ],
      "metadata": {
        "id": "ByIAMUHY3BBw"
      },
      "execution_count": null,
      "outputs": []
    },
    {
      "cell_type": "code",
      "source": [
        "#Sustituir valores nulos por un str en concreto \n",
        "data[\"66_percentaje_services_income\"]= data[\"66_percentaje_services_income\"].fillna(\"nothing\")\n",
        "#Este método llamado valores por un str en concreto se utilizo para la sustitución de valores nulos en el apartado de 300_did_not_find, ya que son valores de tipo str.\n",
        "#Se sustituyo por la palabra \"nothing\"."
      ],
      "metadata": {
        "id": "yn-goyv03BD5"
      },
      "execution_count": null,
      "outputs": []
    },
    {
      "cell_type": "code",
      "source": [
        "#Sustituir valores nulos por un str en concreto \n",
        "data[\"69_why_not_services\"]= data[\"69_why_not_services\"].fillna(\"nothing\")\n",
        "#Este método llamado valores por un str en concreto se utilizo para la sustitución de valores nulos en el apartado de 300_did_not_find, ya que son valores de tipo str.\n",
        "#Se sustituyo por la palabra \"nothing\"."
      ],
      "metadata": {
        "id": "HiwgtmkQ3BHD"
      },
      "execution_count": null,
      "outputs": []
    },
    {
      "cell_type": "code",
      "source": [
        "#Sustituir valores nulos por un str en concreto \n",
        "data[\"311_topups\"]= data[\"311_topups\"].fillna(\"nothing\")\n",
        "#Este método llamado valores por un str en concreto se utilizo para la sustitución de valores nulos en el apartado de 300_did_not_find, ya que son valores de tipo str.\n",
        "#Se sustituyo por la palabra \"nothing\"."
      ],
      "metadata": {
        "id": "yg2eTC8C3aFU"
      },
      "execution_count": null,
      "outputs": []
    },
    {
      "cell_type": "code",
      "source": [
        "#Sustituir valores nulos por un str en concreto \n",
        "data[\"312_payment_of_utilities\"]= data[\"312_payment_of_utilities\"].fillna(\"nothing\")\n",
        "#Este método llamado valores por un str en concreto se utilizo para la sustitución de valores nulos en el apartado de 300_did_not_find, ya que son valores de tipo str.\n",
        "#Se sustituyo por la palabra \"nothing\"."
      ],
      "metadata": {
        "id": "PevHrmJw3aHc"
      },
      "execution_count": null,
      "outputs": []
    },
    {
      "cell_type": "code",
      "source": [
        "#Sustituir valores nulos por un str en concreto \n",
        "data[\"313_home_deliveries\"]= data[\"313_home_deliveries\"].fillna(\"nothing\")\n",
        "#Este método llamado valores por un str en concreto se utilizo para la sustitución de valores nulos en el apartado de 300_did_not_find, ya que son valores de tipo str.\n",
        "#Se sustituyo por la palabra \"nothing\"."
      ],
      "metadata": {
        "id": "bAgzZtGa3aJv"
      },
      "execution_count": null,
      "outputs": []
    },
    {
      "cell_type": "code",
      "source": [
        "#Sustituir valores nulos por un str en concreto \n",
        "data[\"314_reception_delivery_packages\"]= data[\"314_reception_delivery_packages\"].fillna(\"nothing\")\n",
        "#Este método llamado valores por un str en concreto se utilizo para la sustitución de valores nulos en el apartado de 300_did_not_find, ya que son valores de tipo str.\n",
        "#Se sustituyo por la palabra \"nothing\"."
      ],
      "metadata": {
        "id": "DqtOY9e-3aMA"
      },
      "execution_count": null,
      "outputs": []
    },
    {
      "cell_type": "code",
      "source": [
        "#Sustituir valores nulos por un str en concreto \n",
        "data[\"42_willingness_share_inventory_data_suppliers\"]= data[\"42_willingness_share_inventory_data_suppliers\"].fillna(\"nothing\")\n",
        "#Este método llamado valores por un str en concreto se utilizo para la sustitución de valores nulos en el apartado de 300_did_not_find, ya que son valores de tipo str.\n",
        "#Se sustituyo por la palabra \"nothing\"."
      ],
      "metadata": {
        "id": "UQ54AZto3aOh"
      },
      "execution_count": null,
      "outputs": []
    },
    {
      "cell_type": "code",
      "source": [
        "#Sustituir valores nulos por un str en concreto \n",
        "data[\"44_willingness_inventory_management_suppliers\"]= data[\"44_willingness_inventory_management_suppliers\"].fillna(\"nothing\")\n",
        "#Este método llamado valores por un str en concreto se utilizo para la sustitución de valores nulos en el apartado de 300_did_not_find, ya que son valores de tipo str.\n",
        "#Se sustituyo por la palabra \"nothing\"."
      ],
      "metadata": {
        "id": "PXKHs2113aQg"
      },
      "execution_count": null,
      "outputs": []
    },
    {
      "cell_type": "code",
      "source": [
        "#Sustituir valores nulos por un str en concreto \n",
        "data[\"45_willingness_reorder_suppliers\"]= data[\"45_willingness_reorder_suppliers\"].fillna(\"nothing\")\n",
        "#Este método llamado valores por un str en concreto se utilizo para la sustitución de valores nulos en el apartado de 300_did_not_find, ya que son valores de tipo str.\n",
        "#Se sustituyo por la palabra \"nothing\"."
      ],
      "metadata": {
        "id": "zdyJM4hG3aSk"
      },
      "execution_count": null,
      "outputs": []
    },
    {
      "cell_type": "code",
      "source": [
        "#Sustituir valores nulos por un str en concreto \n",
        "data[\"46_willingness_reorder_suppliers_variety\"]= data[\"46_willingness_reorder_suppliers_variety\"].fillna(\"nothing\")\n",
        "#Este método llamado valores por un str en concreto se utilizo para la sustitución de valores nulos en el apartado de 300_did_not_find, ya que son valores de tipo str.\n",
        "#Se sustituyo por la palabra \"nothing\"."
      ],
      "metadata": {
        "id": "pGBSjDuQ3aU1"
      },
      "execution_count": null,
      "outputs": []
    },
    {
      "cell_type": "code",
      "source": [
        "#Sustituir valores nulos por un str en concreto \n",
        "data[\"47_willingness_reorder_suppliers_lower_prices\"]= data[\"47_willingness_reorder_suppliers_lower_prices\"].fillna(\"nothing\")\n",
        "#Este método llamado valores por un str en concreto se utilizo para la sustitución de valores nulos en el apartado de 300_did_not_find, ya que son valores de tipo str.\n",
        "#Se sustituyo por la palabra \"nothing\"."
      ],
      "metadata": {
        "id": "at4a4g3h3aW6"
      },
      "execution_count": null,
      "outputs": []
    },
    {
      "cell_type": "code",
      "source": [
        "#Sustituir valores nulos por un str en concreto \n",
        "data[\"43_willingness_share_sales_data_suppliers\"]= data[\"43_willingness_share_sales_data_suppliers\"].fillna(\"nothing\")\n",
        "#Este método llamado valores por un str en concreto se utilizo para la sustitución de valores nulos en el apartado de 300_did_not_find, ya que son valores de tipo str.\n",
        "#Se sustituyo por la palabra \"nothing\"."
      ],
      "metadata": {
        "id": "-JTSpK883aZB"
      },
      "execution_count": null,
      "outputs": []
    },
    {
      "cell_type": "code",
      "source": [
        "#Sustituir valores nulos por un str en concreto \n",
        "data[\"58_willingness_share_sales_data_mse\"]= data[\"58_willingness_share_sales_data_mse\"].fillna(\"nothing\")\n",
        "#Este método llamado valores por un str en concreto se utilizo para la sustitución de valores nulos en el apartado de 300_did_not_find, ya que son valores de tipo str.\n",
        "#Se sustituyo por la palabra \"nothing\"."
      ],
      "metadata": {
        "id": "gZJkQ4UQ3abb"
      },
      "execution_count": null,
      "outputs": []
    },
    {
      "cell_type": "code",
      "source": [
        "#Sustituir valores nulos por un str en concreto \n",
        "data[\"59_willingness_share_sales_data_mse_better_prices\"]= data[\"59_willingness_share_sales_data_mse_better_prices\"].fillna(\"nothing\")\n",
        "#Este método llamado valores por un str en concreto se utilizo para la sustitución de valores nulos en el apartado de 300_did_not_find, ya que son valores de tipo str.\n",
        "#Se sustituyo por la palabra \"nothing\"."
      ],
      "metadata": {
        "id": "VBMT5IML3add"
      },
      "execution_count": null,
      "outputs": []
    },
    {
      "cell_type": "code",
      "source": [
        "#Sustituir valores nulos por un str en concreto \n",
        "#data[\"172_supplier_frequency\"]= data[\"172_supplier_frequency\"].fillna(\"nothing\")\n",
        "#Este método llamado valores por un str en concreto se utilizo para la sustitución de valores nulos en el apartado de 300_did_not_find, ya que son valores de tipo str.\n",
        "#Se sustituyo por la palabra \"nothing\"."
      ],
      "metadata": {
        "id": "t9V14FSq3agr"
      },
      "execution_count": null,
      "outputs": []
    },
    {
      "cell_type": "code",
      "source": [
        "#Sustituir valores nulos por un str en concreto \n",
        "data[\"185_place_orders_suppliers\"]= data[\"185_place_orders_suppliers\"].fillna(\"nothing\")\n",
        "#Este método llamado valores por un str en concreto se utilizo para la sustitución de valores nulos en el apartado de 300_did_not_find, ya que son valores de tipo str.\n",
        "#Se sustituyo por la palabra \"nothing\"."
      ],
      "metadata": {
        "id": "DoukS7-O37VA"
      },
      "execution_count": null,
      "outputs": []
    },
    {
      "cell_type": "code",
      "source": [
        "#Sustituir valores nulos por un str en concreto \n",
        "data[\"53_special_conditions_suppliers\"]= data[\"53_special_conditions_suppliers\"].fillna(\"nothing\")\n",
        "#Este método llamado valores por un str en concreto se utilizo para la sustitución de valores nulos en el apartado de 300_did_not_find, ya que son valores de tipo str.\n",
        "#Se sustituyo por la palabra \"nothing\"."
      ],
      "metadata": {
        "id": "49nWV9Ge37XJ"
      },
      "execution_count": null,
      "outputs": []
    },
    {
      "cell_type": "code",
      "source": [
        "#Sustituir valores nulos por un str en concreto \n",
        "data[\"278_credit_interest\"]= data[\"278_credit_interest\"].fillna(\"nothing\")\n",
        "#Este método llamado valores por un str en concreto se utilizo para la sustitución de valores nulos en el apartado de 300_did_not_find, ya que son valores de tipo str.\n",
        "#Se sustituyo por la palabra \"nothing\"."
      ],
      "metadata": {
        "id": "Jq2u65Fi37ZP"
      },
      "execution_count": null,
      "outputs": []
    },
    {
      "cell_type": "code",
      "source": [
        "#Sustituir valores nulos por un str en concreto \n",
        "data[\"192_procurement_planning_tools\"]= data[\"192_procurement_planning_tools\"].fillna(\"nothing\")\n",
        "#Este método llamado valores por un str en concreto se utilizo para la sustitución de valores nulos en el apartado de 300_did_not_find, ya que son valores de tipo str.\n",
        "#Se sustituyo por la palabra \"nothing\"."
      ],
      "metadata": {
        "id": "gWWSTYeQ37b0"
      },
      "execution_count": null,
      "outputs": []
    },
    {
      "cell_type": "code",
      "source": [
        "#Sustituir valores nulos por un str en concreto \n",
        "data[\"277_payment_method_suppliers\"]= data[\"277_payment_method_suppliers\"].fillna(\"nothing\")\n",
        "#Este método llamado valores por un str en concreto se utilizo para la sustitución de valores nulos en el apartado de 300_did_not_find, ya que son valores de tipo str.\n",
        "#Se sustituyo por la palabra \"nothing\"."
      ],
      "metadata": {
        "id": "tGiQP9wU37dx"
      },
      "execution_count": null,
      "outputs": []
    },
    {
      "cell_type": "code",
      "source": [
        "#Sustituir valores nulos por un str en concreto \n",
        "data[\"56_procurement_changes_pandemic\"]= data[\"56_procurement_changes_pandemic\"].fillna(\"nothing\")\n",
        "#Este método llamado valores por un str en concreto se utilizo para la sustitución de valores nulos en el apartado de 300_did_not_find, ya que son valores de tipo str.\n",
        "#Se sustituyo por la palabra \"nothing\"."
      ],
      "metadata": {
        "id": "rRccbum-37gF"
      },
      "execution_count": null,
      "outputs": []
    },
    {
      "cell_type": "code",
      "source": [
        "#Sustituir valores nulos por un str en concreto \n",
        "data[\"279_changes_procurement_pandemic\"]= data[\"279_changes_procurement_pandemic\"].fillna(\"nothing\")\n",
        "#Este método llamado valores por un str en concreto se utilizo para la sustitución de valores nulos en el apartado de 300_did_not_find, ya que son valores de tipo str.\n",
        "#Se sustituyo por la palabra \"nothing\"."
      ],
      "metadata": {
        "id": "Xd5JHC-b37ic"
      },
      "execution_count": null,
      "outputs": []
    },
    {
      "cell_type": "code",
      "source": [
        "#Sustituir valores nulos por un str en concreto \n",
        "data[\"157_frequency_organize_shelves\"]= data[\"157_frequency_organize_shelves\"].fillna(\"nothing\")\n",
        "#Este método llamado valores por un str en concreto se utilizo para la sustitución de valores nulos en el apartado de 300_did_not_find, ya que son valores de tipo str.\n",
        "#Se sustituyo por la palabra \"nothing\"."
      ],
      "metadata": {
        "id": "lLPaDaZ037lJ"
      },
      "execution_count": null,
      "outputs": []
    },
    {
      "cell_type": "code",
      "source": [
        "#Sustituir valores nulos por un str en concreto \n",
        "data[\"158_charact_organize_products_on_shelves\"]= data[\"158_charact_organize_products_on_shelves\"].fillna(\"nothing\")\n",
        "#Este método llamado valores por un str en concreto se utilizo para la sustitución de valores nulos en el apartado de 300_did_not_find, ya que son valores de tipo str.\n",
        "#Se sustituyo por la palabra \"nothing\"."
      ],
      "metadata": {
        "id": "cRmHK6hn37nX"
      },
      "execution_count": null,
      "outputs": []
    },
    {
      "cell_type": "code",
      "source": [
        "#Sustituir valores nulos por un str en concreto \n",
        "data[\"161_actions_stockouts\"]= data[\"161_actions_stockouts\"].fillna(\"nothing\")\n",
        "#Este método llamado valores por un str en concreto se utilizo para la sustitución de valores nulos en el apartado de 300_did_not_find, ya que son valores de tipo str.\n",
        "#Se sustituyo por la palabra \"nothing\"."
      ],
      "metadata": {
        "id": "nn0dlpu137pR"
      },
      "execution_count": null,
      "outputs": []
    },
    {
      "cell_type": "code",
      "source": [
        "#Sustituir valores nulos por un str en concreto \n",
        "data[\"162_inventory_extra_space\"]= data[\"162_inventory_extra_space\"].fillna(\"nothing\")\n",
        "#Este método llamado valores por un str en concreto se utilizo para la sustitución de valores nulos en el apartado de 300_did_not_find, ya que son valores de tipo str.\n",
        "#Se sustituyo por la palabra \"nothing\"."
      ],
      "metadata": {
        "id": "HaDWcCYJ37rp"
      },
      "execution_count": null,
      "outputs": []
    },
    {
      "cell_type": "code",
      "source": [
        "#Sustituir valores nulos por un str en concreto \n",
        "data[\"163_number_high_perishable_products\"]= data[\"163_number_high_perishable_products\"].fillna(\"nothing\")\n",
        "#Este método llamado valores por un str en concreto se utilizo para la sustitución de valores nulos en el apartado de 300_did_not_find, ya que son valores de tipo str.\n",
        "#Se sustituyo por la palabra \"nothing\"."
      ],
      "metadata": {
        "id": "t4DOFBMq37tw"
      },
      "execution_count": null,
      "outputs": []
    },
    {
      "cell_type": "code",
      "source": [
        "#Sustituir valores nulos por un str en concreto \n",
        "data[\"249_technology_training\"]= data[\"249_technology_training\"].fillna(\"nothing\")\n",
        "#Este método llamado valores por un str en concreto se utilizo para la sustitución de valores nulos en el apartado de 300_did_not_find, ya que son valores de tipo str.\n",
        "#Se sustituyo por la palabra \"nothing\"."
      ],
      "metadata": {
        "id": "OHAvfMyo37v7"
      },
      "execution_count": null,
      "outputs": []
    },
    {
      "cell_type": "code",
      "source": [
        "#Sustituir valores nulos por un str en concreto \n",
        "data[\"250_technology_investment_operations\"]= data[\"250_technology_investment_operations\"].fillna(\"nothing\")\n",
        "#Este método llamado valores por un str en concreto se utilizo para la sustitución de valores nulos en el apartado de 300_did_not_find, ya que son valores de tipo str.\n",
        "#Se sustituyo por la palabra \"nothing\"."
      ],
      "metadata": {
        "id": "sB7gTOC537yO"
      },
      "execution_count": null,
      "outputs": []
    },
    {
      "cell_type": "code",
      "source": [
        "#Sustituir valores nulos por un str en concreto \n",
        "data[\"251_technology_investment_customers\"]= data[\"251_technology_investment_customers\"].fillna(\"nothing\")\n",
        "#Este método llamado valores por un str en concreto se utilizo para la sustitución de valores nulos en el apartado de 300_did_not_find, ya que son valores de tipo str.\n",
        "#Se sustituyo por la palabra \"nothing\"."
      ],
      "metadata": {
        "id": "9yrT1NQ637z4"
      },
      "execution_count": null,
      "outputs": []
    },
    {
      "cell_type": "code",
      "source": [
        "#Sustituir valores nulos por un str en concreto \n",
        "data[\"254_technology_roadmap\"]= data[\"254_technology_roadmap\"].fillna(\"nothing\")\n",
        "#Este método llamado valores por un str en concreto se utilizo para la sustitución de valores nulos en el apartado de 300_did_not_find, ya que son valores de tipo str.\n",
        "#Se sustituyo por la palabra \"nothing\"."
      ],
      "metadata": {
        "id": "SBgKguXs373T"
      },
      "execution_count": null,
      "outputs": []
    },
    {
      "cell_type": "code",
      "source": [
        "#Sustituir valores nulos por un str en concreto \n",
        "data[\"260_technology_scalable\"]= data[\"260_technology_scalable\"].fillna(\"nothing\")\n",
        "#Este método llamado valores por un str en concreto se utilizo para la sustitución de valores nulos en el apartado de 300_did_not_find, ya que son valores de tipo str.\n",
        "#Se sustituyo por la palabra \"nothing\"."
      ],
      "metadata": {
        "id": "yMneXjLL4doI"
      },
      "execution_count": null,
      "outputs": []
    },
    {
      "cell_type": "code",
      "source": [
        "#Sustituir valores nulos por un str en concreto \n",
        "data[\"261_technology_organization\"]= data[\"261_technology_organization\"].fillna(\"nothing\")\n",
        "#Este método llamado valores por un str en concreto se utilizo para la sustitución de valores nulos en el apartado de 300_did_not_find, ya que son valores de tipo str.\n",
        "#Se sustituyo por la palabra \"nothing\"."
      ],
      "metadata": {
        "id": "w1ATuPhn4drP"
      },
      "execution_count": null,
      "outputs": []
    },
    {
      "cell_type": "code",
      "source": [
        "#Sustituir valores nulos por un str en concreto \n",
        "data[\"262_technology_serve_customers\"]= data[\"262_technology_serve_customers\"].fillna(\"nothing\")\n",
        "#Este método llamado valores por un str en concreto se utilizo para la sustitución de valores nulos en el apartado de 300_did_not_find, ya que son valores de tipo str.\n",
        "#Se sustituyo por la palabra \"nothing\"."
      ],
      "metadata": {
        "id": "rCE7NGVq4dte"
      },
      "execution_count": null,
      "outputs": []
    },
    {
      "cell_type": "code",
      "source": [
        "#Sustituir valores nulos por un str en concreto \n",
        "data[\"263_technology_secure_sales\"]= data[\"263_technology_secure_sales\"].fillna(\"nothing\")\n",
        "#Este método llamado valores por un str en concreto se utilizo para la sustitución de valores nulos en el apartado de 300_did_not_find, ya que son valores de tipo str.\n",
        "#Se sustituyo por la palabra \"nothing\"."
      ],
      "metadata": {
        "id": "DaQLBuMm4du_"
      },
      "execution_count": null,
      "outputs": []
    },
    {
      "cell_type": "code",
      "source": [
        "#Sustituir valores nulos por un str en concreto \n",
        "data[\"264_technology_budget\"]= data[\"264_technology_budget\"].fillna(\"nothing\")\n",
        "#Este método llamado valores por un str en concreto se utilizo para la sustitución de valores nulos en el apartado de 300_did_not_find, ya que son valores de tipo str.\n",
        "#Se sustituyo por la palabra \"nothing\"."
      ],
      "metadata": {
        "id": "gNzsQM2E4dwp"
      },
      "execution_count": null,
      "outputs": []
    },
    {
      "cell_type": "code",
      "source": [
        "#Sustituir valores nulos por un str en concreto \n",
        "data[\"267_technology_investment_customer_preferences\"]= data[\"267_technology_investment_customer_preferences\"].fillna(\"nothing\")\n",
        "#Este método llamado valores por un str en concreto se utilizo para la sustitución de valores nulos en el apartado de 300_did_not_find, ya que son valores de tipo str.\n",
        "#Se sustituyo por la palabra \"nothing\"."
      ],
      "metadata": {
        "id": "w1-Os5p_4dy-"
      },
      "execution_count": null,
      "outputs": []
    },
    {
      "cell_type": "code",
      "source": [
        "#Sustituir valores nulos por un str en concreto \n",
        "data[\"234_willingness_participate_workshop\"]= data[\"234_willingness_participate_workshop\"].fillna(\"nothing\")\n",
        "#Este método llamado valores por un str en concreto se utilizo para la sustitución de valores nulos en el apartado de 300_did_not_find, ya que son valores de tipo str.\n",
        "#Se sustituyo por la palabra \"nothing\"."
      ],
      "metadata": {
        "id": "YW6viVVW4d1Q"
      },
      "execution_count": null,
      "outputs": []
    },
    {
      "cell_type": "code",
      "source": [
        "#Sustituir valores nulos por un str en concreto \n",
        "data[\"318_shopkeeper_name\"]= data[\"318_shopkeeper_name\"].fillna(\"nothing\")\n",
        "#Este método llamado valores por un str en concreto se utilizo para la sustitución de valores nulos en el apartado de 300_did_not_find, ya que son valores de tipo str.\n",
        "#Se sustituyo por la palabra \"nothing\"."
      ],
      "metadata": {
        "id": "HxCgU-Oy4d4R"
      },
      "execution_count": null,
      "outputs": []
    },
    {
      "cell_type": "code",
      "source": [
        "#Sustituir valores nulos por un str en concreto \n",
        "data[\"319_shopkeepers_last_name\"]= data[\"319_shopkeepers_last_name\"].fillna(\"nothing\")\n",
        "#Este método llamado valores por un str en concreto se utilizo para la sustitución de valores nulos en el apartado de 300_did_not_find, ya que son valores de tipo str.\n",
        "#Se sustituyo por la palabra \"nothing\"."
      ],
      "metadata": {
        "id": "-dd1lu_i4d6e"
      },
      "execution_count": null,
      "outputs": []
    },
    {
      "cell_type": "code",
      "source": [
        "#Sustituir valores nulos por un str en concreto \n",
        "data[\"236_whatsapp\"]= data[\"236_whatsapp\"].fillna(\"nothing\")\n",
        "#Este método llamado valores por un str en concreto se utilizo para la sustitución de valores nulos en el apartado de 300_did_not_find, ya que son valores de tipo str.\n",
        "#Se sustituyo por la palabra \"nothing\"."
      ],
      "metadata": {
        "id": "k4y2n5uf4d9S"
      },
      "execution_count": null,
      "outputs": []
    },
    {
      "cell_type": "code",
      "source": [
        "#Sustituir valores nulos por un str en concreto \n",
        "data[\"235_email\"]= data[\"235_email\"].fillna(\"nothing\")\n",
        "#Este método llamado valores por un str en concreto se utilizo para la sustitución de valores nulos en el apartado de 300_did_not_find, ya que son valores de tipo str.\n",
        "#Se sustituyo por la palabra \"nothing\"."
      ],
      "metadata": {
        "id": "ED55YyBJ4d_7"
      },
      "execution_count": null,
      "outputs": []
    },
    {
      "cell_type": "code",
      "source": [
        "#Sustituir valores nulos por un str en concreto \n",
        "data[\"228_store_name\"]= data[\"228_store_name\"].fillna(\"nothing\")\n",
        "#Este método llamado valores por un str en concreto se utilizo para la sustitución de valores nulos en el apartado de 300_did_not_find, ya que son valores de tipo str.\n",
        "#Se sustituyo por la palabra \"nothing\"."
      ],
      "metadata": {
        "id": "Bhc8kHwm5Y6k"
      },
      "execution_count": null,
      "outputs": []
    },
    {
      "cell_type": "code",
      "source": [
        "#Corroboramos valores nulos \n",
        "valores_nulos=data.isnull().sum().sum()\n",
        "valores_nulos"
      ],
      "metadata": {
        "colab": {
          "base_uri": "https://localhost:8080/"
        },
        "id": "AZlHBT9j4exJ",
        "outputId": "5292f4cc-316f-4930-81ff-eeade2b221bb"
      },
      "execution_count": null,
      "outputs": [
        {
          "output_type": "execute_result",
          "data": {
            "text/plain": [
              "3428"
            ]
          },
          "metadata": {},
          "execution_count": 410
        }
      ]
    },
    {
      "cell_type": "code",
      "source": [
        "data.info(int)"
      ],
      "metadata": {
        "colab": {
          "base_uri": "https://localhost:8080/"
        },
        "id": "QZ8Xrc6d4ezq",
        "outputId": "de7fffab-2c2a-44b1-9ad0-769befc05698"
      },
      "execution_count": null,
      "outputs": [
        {
          "output_type": "stream",
          "name": "stdout",
          "text": [
            "<class 'pandas.core.frame.DataFrame'>\n",
            "RangeIndex: 330 entries, 0 to 329\n",
            "Data columns (total 106 columns):\n",
            " #    Column                                                      Dtype  \n",
            "---   ------                                                      -----  \n",
            " 0    _record_id                                                  object \n",
            " 1    _title                                                      object \n",
            " 2    _server_updated_at                                          object \n",
            " 3    _updated_by                                                 object \n",
            " 4    _geometry                                                   object \n",
            " 5    _latitude                                                   float64\n",
            " 6    _longitude                                                  float64\n",
            " 7    228_store_name                                              object \n",
            " 8    229_store_picture                                           object \n",
            " 9    232_type_of_store                                           object \n",
            " 10   108_does_the_micro_retailer_has_a_barred_window_            object \n",
            " 11   99_does_the_micro_retailer_exhibits_products_outside_       object \n",
            " 12   102_does_the_micro_retailer_sells_fresh_products_           object \n",
            " 13   97_number_of_customers_in_store                             int64  \n",
            " 14   268_number_fridges                                          float64\n",
            " 15   184_store_devices                                           object \n",
            " 16   104_how_many_shelves_does_the_micro_retailer_have           int64  \n",
            " 17   pictures_of_shelves_if_possible                             object \n",
            " 18   hola_somos_estudiantes_del_tec_de_monterrey_estamos_realiz  object \n",
            " 19   le_comento_que_toda_esta_informacin_es_confidencial         object \n",
            " 20   233_date_establishment                                      object \n",
            " 21   2_current_permanent_employees                               float64\n",
            " 22   4_number_permanent_employees_last_year                      float64\n",
            " 23   5_change_store_space_last_year                              object \n",
            " 24   6_change_employees_average_salary_last_year                 object \n",
            " 25   20_reviews_finances_monthly                                 object \n",
            " 26   49_inventory_records                                        object \n",
            " 27   18_sales_records                                            object \n",
            " 28   155_sales_registers_used_for                                object \n",
            " 29   103_number_own_fridges                                      float64\n",
            " 30   19_tax_id                                                   object \n",
            " 31   145_number_direct_competitors                               float64\n",
            " 32   310_burnout                                                 object \n",
            " 33   24_burnout                                                  float64\n",
            " 34   186_internet_connection                                     object \n",
            " 35   210_sales_channels                                          object \n",
            " 36   189_payment_methods                                         object \n",
            " 37   28_prefered_payment_method                                  object \n",
            " 38   31_different_prices_payment_method                          object \n",
            " 39   269_cash_discount                                           object \n",
            " 40   270_card_extra_charge                                       object \n",
            " 41   271_card_fee                                                object \n",
            " 42   272_card_days_receive_money                                 float64\n",
            " 43   273_platform_extra_charge                                   object \n",
            " 44   274_platform_fee                                            object \n",
            " 45   275_platform_days_receive_money                             object \n",
            " 46   30_payment_methods_large_purchases                          object \n",
            " 47   214_customer_relationship_tools                             object \n",
            " 48   33_credit_to_customers                                      object \n",
            " 49   276_expected_days_informal_credit                           float64\n",
            " 50   35_interest_rate                                            object \n",
            " 51   36_credit_default_rate                                      float64\n",
            " 52   38_average_margin_profits                                   object \n",
            " 53   193_sales_planning_tools                                    object \n",
            " 54   227_agreement_ecommerce_platforms                           object \n",
            " 55   60_services                                                 object \n",
            " 56   315_frequency_topups                                        float64\n",
            " 57   316_frequency_utility_bills                                 float64\n",
            " 58   317_home_deliveries                                         float64\n",
            " 59   62_frequency_only_services                                  float64\n",
            " 60   78_number_home_deliveries_week                              float64\n",
            " 61   77_delivery_timeslots                                       object \n",
            " 62   79_delivery_vehicle                                         object \n",
            " 63   64_comission_services                                       object \n",
            " 64   66_percentaje_services_income                               object \n",
            " 65   69_why_not_services                                         object \n",
            " 66   311_topups                                                  object \n",
            " 67   312_payment_of_utilities                                    object \n",
            " 68   313_home_deliveries                                         object \n",
            " 69   314_reception_delivery_packages                             object \n",
            " 70   42_willingness_share_inventory_data_suppliers               object \n",
            " 71   44_willingness_inventory_management_suppliers               object \n",
            " 72   45_willingness_reorder_suppliers                            object \n",
            " 73   46_willingness_reorder_suppliers_variety                    object \n",
            " 74   47_willingness_reorder_suppliers_lower_prices               object \n",
            " 75   43_willingness_share_sales_data_suppliers                   object \n",
            " 76   58_willingness_share_sales_data_mse                         object \n",
            " 77   59_willingness_share_sales_data_mse_better_prices           object \n",
            " 78   172_supplier_frequency                                      float64\n",
            " 79   185_place_orders_suppliers                                  object \n",
            " 80   53_special_conditions_suppliers                             object \n",
            " 81   278_credit_interest                                         object \n",
            " 82   192_procurement_planning_tools                              object \n",
            " 83   277_payment_method_suppliers                                object \n",
            " 84   56_procurement_changes_pandemic                             object \n",
            " 85   279_changes_procurement_pandemic                            object \n",
            " 86   157_frequency_organize_shelves                              object \n",
            " 87   158_charact_organize_products_on_shelves                    object \n",
            " 88   161_actions_stockouts                                       object \n",
            " 89   162_inventory_extra_space                                   object \n",
            " 90   163_number_high_perishable_products                         object \n",
            " 91   249_technology_training                                     object \n",
            " 92   250_technology_investment_operations                        object \n",
            " 93   251_technology_investment_customers                         object \n",
            " 94   254_technology_roadmap                                      object \n",
            " 95   260_technology_scalable                                     object \n",
            " 96   261_technology_organization                                 object \n",
            " 97   262_technology_serve_customers                              object \n",
            " 98   263_technology_secure_sales                                 object \n",
            " 99   264_technology_budget                                       object \n",
            " 100  267_technology_investment_customer_preferences              object \n",
            " 101  234_willingness_participate_workshop                        object \n",
            " 102  318_shopkeeper_name                                         object \n",
            " 103  319_shopkeepers_last_name                                   object \n",
            " 104  236_whatsapp                                                object \n",
            " 105  235_email                                                   object \n",
            "dtypes: float64(17), int64(2), object(87)\n",
            "memory usage: 273.4+ KB\n"
          ]
        }
      ]
    },
    {
      "cell_type": "code",
      "source": [
        "#Filtro por columnas\n",
        "filtro_col=data.iloc[ : , [0,1,2,3,4,5,6,7,8,10,11,12,15,17,18,19,20,23,24,25,26,27,28,30,32,34,35,36,37,38,39,40,41,43,44,45,46,47,48,50,52,53,54,55,61,62,63,64,65,66,67,68,69,70,71,72,73,74,75,76,77,79,80,81,82,83,84,85,86,87,88,89,90,91,92,93,94,95,96,97,98,99,100,101,102,103,104,105]]\n",
        "filtro_col"
      ],
      "metadata": {
        "id": "3R7vIIe54e3L",
        "outputId": "2dbf13ad-9796-492b-9fe1-06ace969fab6",
        "colab": {
          "base_uri": "https://localhost:8080/",
          "height": 991
        }
      },
      "execution_count": null,
      "outputs": [
        {
          "output_type": "execute_result",
          "data": {
            "text/plain": [
              "                               _record_id             _title  \\\n",
              "0    71326e5f-441e-4be7-bc68-b828973b8e3b  November 17, 2022   \n",
              "1    a38b7c68-0afa-4419-a580-7086538b2e21  November 17, 2022   \n",
              "2    c11ef540-e06c-4722-a071-09a127ebc23c  November 10, 2022   \n",
              "3    c7434cb2-dde0-4901-80d7-3d60506ebd27  November 10, 2022   \n",
              "4    3c2177cc-677b-4106-8ed2-6e50f7671a0e  November 17, 2022   \n",
              "..                                    ...                ...   \n",
              "325  efe2e285-c67e-4a07-8331-218bc4a7203d   November 3, 2022   \n",
              "326  2413f06e-15cc-4a6f-8e83-5224c6824b12   November 3, 2022   \n",
              "327  9ff658db-4dc5-48b6-aa0b-5c6668bb6720   November 3, 2022   \n",
              "328  e88aa9c1-dc8b-4180-99a1-2e0118ad905d   November 3, 2022   \n",
              "329  bf720ff0-3b7d-47ed-ba49-f5d4bfb7293c   November 3, 2022   \n",
              "\n",
              "          _server_updated_at     _updated_by  \\\n",
              "0    2022-11-18 20:48:40 UTC   Uriel Bonilla   \n",
              "1    2022-11-18 20:48:39 UTC   Uriel Bonilla   \n",
              "2    2022-11-18 20:48:38 UTC   Uriel Bonilla   \n",
              "3    2022-11-18 20:48:38 UTC   Uriel Bonilla   \n",
              "4    2022-11-18 13:30:19 UTC   Fernando Báez   \n",
              "..                       ...             ...   \n",
              "325  2022-11-03 17:05:23 UTC  Francisco Adán   \n",
              "326  2022-11-03 16:50:48 UTC    Emilio Garza   \n",
              "327  2022-11-03 16:28:14 UTC    Emilio Garza   \n",
              "328  2022-11-03 16:18:37 UTC  Francisco Adán   \n",
              "329  2022-11-03 16:15:13 UTC    Emilio Garza   \n",
              "\n",
              "                                         _geometry  _latitude  _longitude  \\\n",
              "0    SRID=4326;POINT(-98.2013790035 19.0439654034)  19.043965  -98.201379   \n",
              "1    SRID=4326;POINT(-98.2016961782 19.0439749111)  19.043975  -98.201696   \n",
              "2    SRID=4326;POINT(-98.1964474585 19.0432999683)  19.043300  -98.196447   \n",
              "3     SRID=4326;POINT(-98.197072078 19.0405699102)  19.040570  -98.197072   \n",
              "4     SRID=4326;POINT(-98.201134218 19.0436743967)  19.043674  -98.201134   \n",
              "..                                             ...        ...         ...   \n",
              "325         SRID=4326;POINT(-98.194174 19.0431876)  19.043188  -98.194174   \n",
              "326  SRID=4326;POINT(-98.1940658722 19.0431145635)  19.043115  -98.194066   \n",
              "327  SRID=4326;POINT(-98.1934387078 19.0428094171)  19.042809  -98.193439   \n",
              "328          SRID=4326;POINT(-98.193818 19.042558)  19.042558  -98.193818   \n",
              "329  SRID=4326;POINT(-98.1937349172 19.0428229892)  19.042823  -98.193735   \n",
              "\n",
              "                                        228_store_name 229_store_picture  \\\n",
              "0                               Mini súper 7 hermanos            1 Photo   \n",
              "1                                     Super papas Lulu           1 Photo   \n",
              "2                                      Arte Paquistán            1 Photo   \n",
              "3                                            El vestir           1 Photo   \n",
              "4                                       Antojitos Tony           1 Photo   \n",
              "..                                                 ...               ...   \n",
              "325                                      Xuti Galería            1 Photo   \n",
              "326                                         July Store           1 Photo   \n",
              "327                                          La fonda            1 Photo   \n",
              "328  Birria de Res \"Hermanos Negreros 2\" estilo Tij...           1 Photo   \n",
              "329                          Restaurante el alfeñique            1 Photo   \n",
              "\n",
              "    108_does_the_micro_retailer_has_a_barred_window_  ...  \\\n",
              "0                                                 no  ...   \n",
              "1                                                 no  ...   \n",
              "2                                                 no  ...   \n",
              "3                                                 no  ...   \n",
              "4                                                 no  ...   \n",
              "..                                               ...  ...   \n",
              "325                                               no  ...   \n",
              "326                                              yes  ...   \n",
              "327                                              yes  ...   \n",
              "328                                               no  ...   \n",
              "329                                               no  ...   \n",
              "\n",
              "    261_technology_organization  262_technology_serve_customers  \\\n",
              "0                    De acuerdo  Ni de acuerdo ni en desacuerdo   \n",
              "1                       nothing                         nothing   \n",
              "2                       nothing                         nothing   \n",
              "3                 En desacuerdo                         nothing   \n",
              "4                       nothing                         nothing   \n",
              "..                          ...                             ...   \n",
              "325    Totalmente en desacuerdo        Totalmente en desacuerdo   \n",
              "326                     nothing                         nothing   \n",
              "327                     nothing                         nothing   \n",
              "328                     nothing                         nothing   \n",
              "329                     nothing                         nothing   \n",
              "\n",
              "        263_technology_secure_sales           264_technology_budget  \\\n",
              "0    Ni de acuerdo ni en desacuerdo  Ni de acuerdo ni en desacuerdo   \n",
              "1                           nothing                         nothing   \n",
              "2                           nothing                         nothing   \n",
              "3                     En desacuerdo        Totalmente en desacuerdo   \n",
              "4                           nothing                         nothing   \n",
              "..                              ...                             ...   \n",
              "325        Totalmente en desacuerdo        Totalmente en desacuerdo   \n",
              "326                         nothing                         nothing   \n",
              "327                         nothing                         nothing   \n",
              "328                         nothing                         nothing   \n",
              "329                         nothing                         nothing   \n",
              "\n",
              "    267_technology_investment_customer_preferences  \\\n",
              "0                   Ni de acuerdo ni en desacuerdo   \n",
              "1                                          nothing   \n",
              "2                                          nothing   \n",
              "3                                    En desacuerdo   \n",
              "4                                          nothing   \n",
              "..                                             ...   \n",
              "325                                     De acuerdo   \n",
              "326                                        nothing   \n",
              "327                                        nothing   \n",
              "328                                        nothing   \n",
              "329                                        nothing   \n",
              "\n",
              "    234_willingness_participate_workshop 318_shopkeeper_name  \\\n",
              "0                                     no             nothing   \n",
              "1                                nothing             nothing   \n",
              "2                                nothing             nothing   \n",
              "3                                     no             nothing   \n",
              "4                                nothing             nothing   \n",
              "..                                   ...                 ...   \n",
              "325                                  yes              Frida    \n",
              "326                              nothing             nothing   \n",
              "327                              nothing             nothing   \n",
              "328                              nothing             nothing   \n",
              "329                              nothing             nothing   \n",
              "\n",
              "    319_shopkeepers_last_name  236_whatsapp              235_email  \n",
              "0                     nothing       nothing                nothing  \n",
              "1                     nothing       nothing                nothing  \n",
              "2                     nothing       nothing                nothing  \n",
              "3                     nothing       nothing                nothing  \n",
              "4                     nothing       nothing                nothing  \n",
              "..                        ...           ...                    ...  \n",
              "325         Juárez Hernández   2212380183.0  Hachi401096@gmail.com  \n",
              "326                   nothing       nothing                nothing  \n",
              "327                   nothing       nothing                nothing  \n",
              "328                   nothing       nothing                nothing  \n",
              "329                   nothing       nothing                nothing  \n",
              "\n",
              "[330 rows x 88 columns]"
            ],
            "text/html": [
              "\n",
              "  <div id=\"df-9605fea7-a169-4916-85b5-88ff727fec2a\">\n",
              "    <div class=\"colab-df-container\">\n",
              "      <div>\n",
              "<style scoped>\n",
              "    .dataframe tbody tr th:only-of-type {\n",
              "        vertical-align: middle;\n",
              "    }\n",
              "\n",
              "    .dataframe tbody tr th {\n",
              "        vertical-align: top;\n",
              "    }\n",
              "\n",
              "    .dataframe thead th {\n",
              "        text-align: right;\n",
              "    }\n",
              "</style>\n",
              "<table border=\"1\" class=\"dataframe\">\n",
              "  <thead>\n",
              "    <tr style=\"text-align: right;\">\n",
              "      <th></th>\n",
              "      <th>_record_id</th>\n",
              "      <th>_title</th>\n",
              "      <th>_server_updated_at</th>\n",
              "      <th>_updated_by</th>\n",
              "      <th>_geometry</th>\n",
              "      <th>_latitude</th>\n",
              "      <th>_longitude</th>\n",
              "      <th>228_store_name</th>\n",
              "      <th>229_store_picture</th>\n",
              "      <th>108_does_the_micro_retailer_has_a_barred_window_</th>\n",
              "      <th>...</th>\n",
              "      <th>261_technology_organization</th>\n",
              "      <th>262_technology_serve_customers</th>\n",
              "      <th>263_technology_secure_sales</th>\n",
              "      <th>264_technology_budget</th>\n",
              "      <th>267_technology_investment_customer_preferences</th>\n",
              "      <th>234_willingness_participate_workshop</th>\n",
              "      <th>318_shopkeeper_name</th>\n",
              "      <th>319_shopkeepers_last_name</th>\n",
              "      <th>236_whatsapp</th>\n",
              "      <th>235_email</th>\n",
              "    </tr>\n",
              "  </thead>\n",
              "  <tbody>\n",
              "    <tr>\n",
              "      <th>0</th>\n",
              "      <td>71326e5f-441e-4be7-bc68-b828973b8e3b</td>\n",
              "      <td>November 17, 2022</td>\n",
              "      <td>2022-11-18 20:48:40 UTC</td>\n",
              "      <td>Uriel Bonilla</td>\n",
              "      <td>SRID=4326;POINT(-98.2013790035 19.0439654034)</td>\n",
              "      <td>19.043965</td>\n",
              "      <td>-98.201379</td>\n",
              "      <td>Mini súper 7 hermanos</td>\n",
              "      <td>1 Photo</td>\n",
              "      <td>no</td>\n",
              "      <td>...</td>\n",
              "      <td>De acuerdo</td>\n",
              "      <td>Ni de acuerdo ni en desacuerdo</td>\n",
              "      <td>Ni de acuerdo ni en desacuerdo</td>\n",
              "      <td>Ni de acuerdo ni en desacuerdo</td>\n",
              "      <td>Ni de acuerdo ni en desacuerdo</td>\n",
              "      <td>no</td>\n",
              "      <td>nothing</td>\n",
              "      <td>nothing</td>\n",
              "      <td>nothing</td>\n",
              "      <td>nothing</td>\n",
              "    </tr>\n",
              "    <tr>\n",
              "      <th>1</th>\n",
              "      <td>a38b7c68-0afa-4419-a580-7086538b2e21</td>\n",
              "      <td>November 17, 2022</td>\n",
              "      <td>2022-11-18 20:48:39 UTC</td>\n",
              "      <td>Uriel Bonilla</td>\n",
              "      <td>SRID=4326;POINT(-98.2016961782 19.0439749111)</td>\n",
              "      <td>19.043975</td>\n",
              "      <td>-98.201696</td>\n",
              "      <td>Super papas Lulu</td>\n",
              "      <td>1 Photo</td>\n",
              "      <td>no</td>\n",
              "      <td>...</td>\n",
              "      <td>nothing</td>\n",
              "      <td>nothing</td>\n",
              "      <td>nothing</td>\n",
              "      <td>nothing</td>\n",
              "      <td>nothing</td>\n",
              "      <td>nothing</td>\n",
              "      <td>nothing</td>\n",
              "      <td>nothing</td>\n",
              "      <td>nothing</td>\n",
              "      <td>nothing</td>\n",
              "    </tr>\n",
              "    <tr>\n",
              "      <th>2</th>\n",
              "      <td>c11ef540-e06c-4722-a071-09a127ebc23c</td>\n",
              "      <td>November 10, 2022</td>\n",
              "      <td>2022-11-18 20:48:38 UTC</td>\n",
              "      <td>Uriel Bonilla</td>\n",
              "      <td>SRID=4326;POINT(-98.1964474585 19.0432999683)</td>\n",
              "      <td>19.043300</td>\n",
              "      <td>-98.196447</td>\n",
              "      <td>Arte Paquistán</td>\n",
              "      <td>1 Photo</td>\n",
              "      <td>no</td>\n",
              "      <td>...</td>\n",
              "      <td>nothing</td>\n",
              "      <td>nothing</td>\n",
              "      <td>nothing</td>\n",
              "      <td>nothing</td>\n",
              "      <td>nothing</td>\n",
              "      <td>nothing</td>\n",
              "      <td>nothing</td>\n",
              "      <td>nothing</td>\n",
              "      <td>nothing</td>\n",
              "      <td>nothing</td>\n",
              "    </tr>\n",
              "    <tr>\n",
              "      <th>3</th>\n",
              "      <td>c7434cb2-dde0-4901-80d7-3d60506ebd27</td>\n",
              "      <td>November 10, 2022</td>\n",
              "      <td>2022-11-18 20:48:38 UTC</td>\n",
              "      <td>Uriel Bonilla</td>\n",
              "      <td>SRID=4326;POINT(-98.197072078 19.0405699102)</td>\n",
              "      <td>19.040570</td>\n",
              "      <td>-98.197072</td>\n",
              "      <td>El vestir</td>\n",
              "      <td>1 Photo</td>\n",
              "      <td>no</td>\n",
              "      <td>...</td>\n",
              "      <td>En desacuerdo</td>\n",
              "      <td>nothing</td>\n",
              "      <td>En desacuerdo</td>\n",
              "      <td>Totalmente en desacuerdo</td>\n",
              "      <td>En desacuerdo</td>\n",
              "      <td>no</td>\n",
              "      <td>nothing</td>\n",
              "      <td>nothing</td>\n",
              "      <td>nothing</td>\n",
              "      <td>nothing</td>\n",
              "    </tr>\n",
              "    <tr>\n",
              "      <th>4</th>\n",
              "      <td>3c2177cc-677b-4106-8ed2-6e50f7671a0e</td>\n",
              "      <td>November 17, 2022</td>\n",
              "      <td>2022-11-18 13:30:19 UTC</td>\n",
              "      <td>Fernando Báez</td>\n",
              "      <td>SRID=4326;POINT(-98.201134218 19.0436743967)</td>\n",
              "      <td>19.043674</td>\n",
              "      <td>-98.201134</td>\n",
              "      <td>Antojitos Tony</td>\n",
              "      <td>1 Photo</td>\n",
              "      <td>no</td>\n",
              "      <td>...</td>\n",
              "      <td>nothing</td>\n",
              "      <td>nothing</td>\n",
              "      <td>nothing</td>\n",
              "      <td>nothing</td>\n",
              "      <td>nothing</td>\n",
              "      <td>nothing</td>\n",
              "      <td>nothing</td>\n",
              "      <td>nothing</td>\n",
              "      <td>nothing</td>\n",
              "      <td>nothing</td>\n",
              "    </tr>\n",
              "    <tr>\n",
              "      <th>...</th>\n",
              "      <td>...</td>\n",
              "      <td>...</td>\n",
              "      <td>...</td>\n",
              "      <td>...</td>\n",
              "      <td>...</td>\n",
              "      <td>...</td>\n",
              "      <td>...</td>\n",
              "      <td>...</td>\n",
              "      <td>...</td>\n",
              "      <td>...</td>\n",
              "      <td>...</td>\n",
              "      <td>...</td>\n",
              "      <td>...</td>\n",
              "      <td>...</td>\n",
              "      <td>...</td>\n",
              "      <td>...</td>\n",
              "      <td>...</td>\n",
              "      <td>...</td>\n",
              "      <td>...</td>\n",
              "      <td>...</td>\n",
              "      <td>...</td>\n",
              "    </tr>\n",
              "    <tr>\n",
              "      <th>325</th>\n",
              "      <td>efe2e285-c67e-4a07-8331-218bc4a7203d</td>\n",
              "      <td>November 3, 2022</td>\n",
              "      <td>2022-11-03 17:05:23 UTC</td>\n",
              "      <td>Francisco Adán</td>\n",
              "      <td>SRID=4326;POINT(-98.194174 19.0431876)</td>\n",
              "      <td>19.043188</td>\n",
              "      <td>-98.194174</td>\n",
              "      <td>Xuti Galería</td>\n",
              "      <td>1 Photo</td>\n",
              "      <td>no</td>\n",
              "      <td>...</td>\n",
              "      <td>Totalmente en desacuerdo</td>\n",
              "      <td>Totalmente en desacuerdo</td>\n",
              "      <td>Totalmente en desacuerdo</td>\n",
              "      <td>Totalmente en desacuerdo</td>\n",
              "      <td>De acuerdo</td>\n",
              "      <td>yes</td>\n",
              "      <td>Frida</td>\n",
              "      <td>Juárez Hernández</td>\n",
              "      <td>2212380183.0</td>\n",
              "      <td>Hachi401096@gmail.com</td>\n",
              "    </tr>\n",
              "    <tr>\n",
              "      <th>326</th>\n",
              "      <td>2413f06e-15cc-4a6f-8e83-5224c6824b12</td>\n",
              "      <td>November 3, 2022</td>\n",
              "      <td>2022-11-03 16:50:48 UTC</td>\n",
              "      <td>Emilio Garza</td>\n",
              "      <td>SRID=4326;POINT(-98.1940658722 19.0431145635)</td>\n",
              "      <td>19.043115</td>\n",
              "      <td>-98.194066</td>\n",
              "      <td>July Store</td>\n",
              "      <td>1 Photo</td>\n",
              "      <td>yes</td>\n",
              "      <td>...</td>\n",
              "      <td>nothing</td>\n",
              "      <td>nothing</td>\n",
              "      <td>nothing</td>\n",
              "      <td>nothing</td>\n",
              "      <td>nothing</td>\n",
              "      <td>nothing</td>\n",
              "      <td>nothing</td>\n",
              "      <td>nothing</td>\n",
              "      <td>nothing</td>\n",
              "      <td>nothing</td>\n",
              "    </tr>\n",
              "    <tr>\n",
              "      <th>327</th>\n",
              "      <td>9ff658db-4dc5-48b6-aa0b-5c6668bb6720</td>\n",
              "      <td>November 3, 2022</td>\n",
              "      <td>2022-11-03 16:28:14 UTC</td>\n",
              "      <td>Emilio Garza</td>\n",
              "      <td>SRID=4326;POINT(-98.1934387078 19.0428094171)</td>\n",
              "      <td>19.042809</td>\n",
              "      <td>-98.193439</td>\n",
              "      <td>La fonda</td>\n",
              "      <td>1 Photo</td>\n",
              "      <td>yes</td>\n",
              "      <td>...</td>\n",
              "      <td>nothing</td>\n",
              "      <td>nothing</td>\n",
              "      <td>nothing</td>\n",
              "      <td>nothing</td>\n",
              "      <td>nothing</td>\n",
              "      <td>nothing</td>\n",
              "      <td>nothing</td>\n",
              "      <td>nothing</td>\n",
              "      <td>nothing</td>\n",
              "      <td>nothing</td>\n",
              "    </tr>\n",
              "    <tr>\n",
              "      <th>328</th>\n",
              "      <td>e88aa9c1-dc8b-4180-99a1-2e0118ad905d</td>\n",
              "      <td>November 3, 2022</td>\n",
              "      <td>2022-11-03 16:18:37 UTC</td>\n",
              "      <td>Francisco Adán</td>\n",
              "      <td>SRID=4326;POINT(-98.193818 19.042558)</td>\n",
              "      <td>19.042558</td>\n",
              "      <td>-98.193818</td>\n",
              "      <td>Birria de Res \"Hermanos Negreros 2\" estilo Tij...</td>\n",
              "      <td>1 Photo</td>\n",
              "      <td>no</td>\n",
              "      <td>...</td>\n",
              "      <td>nothing</td>\n",
              "      <td>nothing</td>\n",
              "      <td>nothing</td>\n",
              "      <td>nothing</td>\n",
              "      <td>nothing</td>\n",
              "      <td>nothing</td>\n",
              "      <td>nothing</td>\n",
              "      <td>nothing</td>\n",
              "      <td>nothing</td>\n",
              "      <td>nothing</td>\n",
              "    </tr>\n",
              "    <tr>\n",
              "      <th>329</th>\n",
              "      <td>bf720ff0-3b7d-47ed-ba49-f5d4bfb7293c</td>\n",
              "      <td>November 3, 2022</td>\n",
              "      <td>2022-11-03 16:15:13 UTC</td>\n",
              "      <td>Emilio Garza</td>\n",
              "      <td>SRID=4326;POINT(-98.1937349172 19.0428229892)</td>\n",
              "      <td>19.042823</td>\n",
              "      <td>-98.193735</td>\n",
              "      <td>Restaurante el alfeñique</td>\n",
              "      <td>1 Photo</td>\n",
              "      <td>no</td>\n",
              "      <td>...</td>\n",
              "      <td>nothing</td>\n",
              "      <td>nothing</td>\n",
              "      <td>nothing</td>\n",
              "      <td>nothing</td>\n",
              "      <td>nothing</td>\n",
              "      <td>nothing</td>\n",
              "      <td>nothing</td>\n",
              "      <td>nothing</td>\n",
              "      <td>nothing</td>\n",
              "      <td>nothing</td>\n",
              "    </tr>\n",
              "  </tbody>\n",
              "</table>\n",
              "<p>330 rows × 88 columns</p>\n",
              "</div>\n",
              "      <button class=\"colab-df-convert\" onclick=\"convertToInteractive('df-9605fea7-a169-4916-85b5-88ff727fec2a')\"\n",
              "              title=\"Convert this dataframe to an interactive table.\"\n",
              "              style=\"display:none;\">\n",
              "        \n",
              "  <svg xmlns=\"http://www.w3.org/2000/svg\" height=\"24px\"viewBox=\"0 0 24 24\"\n",
              "       width=\"24px\">\n",
              "    <path d=\"M0 0h24v24H0V0z\" fill=\"none\"/>\n",
              "    <path d=\"M18.56 5.44l.94 2.06.94-2.06 2.06-.94-2.06-.94-.94-2.06-.94 2.06-2.06.94zm-11 1L8.5 8.5l.94-2.06 2.06-.94-2.06-.94L8.5 2.5l-.94 2.06-2.06.94zm10 10l.94 2.06.94-2.06 2.06-.94-2.06-.94-.94-2.06-.94 2.06-2.06.94z\"/><path d=\"M17.41 7.96l-1.37-1.37c-.4-.4-.92-.59-1.43-.59-.52 0-1.04.2-1.43.59L10.3 9.45l-7.72 7.72c-.78.78-.78 2.05 0 2.83L4 21.41c.39.39.9.59 1.41.59.51 0 1.02-.2 1.41-.59l7.78-7.78 2.81-2.81c.8-.78.8-2.07 0-2.86zM5.41 20L4 18.59l7.72-7.72 1.47 1.35L5.41 20z\"/>\n",
              "  </svg>\n",
              "      </button>\n",
              "      \n",
              "  <style>\n",
              "    .colab-df-container {\n",
              "      display:flex;\n",
              "      flex-wrap:wrap;\n",
              "      gap: 12px;\n",
              "    }\n",
              "\n",
              "    .colab-df-convert {\n",
              "      background-color: #E8F0FE;\n",
              "      border: none;\n",
              "      border-radius: 50%;\n",
              "      cursor: pointer;\n",
              "      display: none;\n",
              "      fill: #1967D2;\n",
              "      height: 32px;\n",
              "      padding: 0 0 0 0;\n",
              "      width: 32px;\n",
              "    }\n",
              "\n",
              "    .colab-df-convert:hover {\n",
              "      background-color: #E2EBFA;\n",
              "      box-shadow: 0px 1px 2px rgba(60, 64, 67, 0.3), 0px 1px 3px 1px rgba(60, 64, 67, 0.15);\n",
              "      fill: #174EA6;\n",
              "    }\n",
              "\n",
              "    [theme=dark] .colab-df-convert {\n",
              "      background-color: #3B4455;\n",
              "      fill: #D2E3FC;\n",
              "    }\n",
              "\n",
              "    [theme=dark] .colab-df-convert:hover {\n",
              "      background-color: #434B5C;\n",
              "      box-shadow: 0px 1px 3px 1px rgba(0, 0, 0, 0.15);\n",
              "      filter: drop-shadow(0px 1px 2px rgba(0, 0, 0, 0.3));\n",
              "      fill: #FFFFFF;\n",
              "    }\n",
              "  </style>\n",
              "\n",
              "      <script>\n",
              "        const buttonEl =\n",
              "          document.querySelector('#df-9605fea7-a169-4916-85b5-88ff727fec2a button.colab-df-convert');\n",
              "        buttonEl.style.display =\n",
              "          google.colab.kernel.accessAllowed ? 'block' : 'none';\n",
              "\n",
              "        async function convertToInteractive(key) {\n",
              "          const element = document.querySelector('#df-9605fea7-a169-4916-85b5-88ff727fec2a');\n",
              "          const dataTable =\n",
              "            await google.colab.kernel.invokeFunction('convertToInteractive',\n",
              "                                                     [key], {});\n",
              "          if (!dataTable) return;\n",
              "\n",
              "          const docLinkHtml = 'Like what you see? Visit the ' +\n",
              "            '<a target=\"_blank\" href=https://colab.research.google.com/notebooks/data_table.ipynb>data table notebook</a>'\n",
              "            + ' to learn more about interactive tables.';\n",
              "          element.innerHTML = '';\n",
              "          dataTable['output_type'] = 'display_data';\n",
              "          await google.colab.output.renderOutput(dataTable, element);\n",
              "          const docLink = document.createElement('div');\n",
              "          docLink.innerHTML = docLinkHtml;\n",
              "          element.appendChild(docLink);\n",
              "        }\n",
              "      </script>\n",
              "    </div>\n",
              "  </div>\n",
              "  "
            ]
          },
          "metadata": {},
          "execution_count": 412
        }
      ]
    },
    {
      "cell_type": "code",
      "source": [
        "#Filtro por columnas\n",
        "filtro_i=data.iloc[ : , [13,14,16,21,22,29,31,33,42,49,51,56,57,58,59,60,78]]\n",
        "filtro_i"
      ],
      "metadata": {
        "id": "66VXb7cGQGSj",
        "outputId": "315f9184-4aae-4b35-9ecc-616e4c627d00",
        "colab": {
          "base_uri": "https://localhost:8080/",
          "height": 488
        }
      },
      "execution_count": null,
      "outputs": [
        {
          "output_type": "execute_result",
          "data": {
            "text/plain": [
              "     97_number_of_customers_in_store  268_number_fridges  \\\n",
              "0                                  1                 3.0   \n",
              "1                                  2                 0.0   \n",
              "2                                  2                 0.0   \n",
              "3                                  1                 0.0   \n",
              "4                                  3                 2.0   \n",
              "..                               ...                 ...   \n",
              "325                                0                 1.0   \n",
              "326                                1                 0.0   \n",
              "327                                3                 1.0   \n",
              "328                                0                 1.0   \n",
              "329                                1                 3.0   \n",
              "\n",
              "     104_how_many_shelves_does_the_micro_retailer_have  \\\n",
              "0                                                    3   \n",
              "1                                                    0   \n",
              "2                                                    0   \n",
              "3                                                    0   \n",
              "4                                                    3   \n",
              "..                                                 ...   \n",
              "325                                                  7   \n",
              "326                                                  5   \n",
              "327                                                  1   \n",
              "328                                                  1   \n",
              "329                                                  1   \n",
              "\n",
              "     2_current_permanent_employees  4_number_permanent_employees_last_year  \\\n",
              "0                              2.0                                    10.0   \n",
              "1                              NaN                                     NaN   \n",
              "2                              NaN                                     NaN   \n",
              "3                              0.0                                     0.0   \n",
              "4                              NaN                                     NaN   \n",
              "..                             ...                                     ...   \n",
              "325                            4.0                                     NaN   \n",
              "326                            NaN                                     NaN   \n",
              "327                            NaN                                     NaN   \n",
              "328                            NaN                                     NaN   \n",
              "329                            NaN                                     NaN   \n",
              "\n",
              "     103_number_own_fridges  145_number_direct_competitors  24_burnout  \\\n",
              "0                       3.0                            5.0         2.0   \n",
              "1                       NaN                            NaN         NaN   \n",
              "2                       NaN                            NaN         NaN   \n",
              "3                       NaN                           10.0         NaN   \n",
              "4                       NaN                            NaN         NaN   \n",
              "..                      ...                            ...         ...   \n",
              "325                     NaN                            5.0         NaN   \n",
              "326                     NaN                            NaN         NaN   \n",
              "327                     NaN                            NaN         NaN   \n",
              "328                     NaN                            NaN         NaN   \n",
              "329                     NaN                            NaN         NaN   \n",
              "\n",
              "     272_card_days_receive_money  276_expected_days_informal_credit  \\\n",
              "0                            NaN                                NaN   \n",
              "1                            NaN                                NaN   \n",
              "2                            NaN                                NaN   \n",
              "3                            NaN                                NaN   \n",
              "4                            NaN                                NaN   \n",
              "..                           ...                                ...   \n",
              "325                          1.0                                NaN   \n",
              "326                          NaN                                NaN   \n",
              "327                          NaN                                NaN   \n",
              "328                          NaN                                NaN   \n",
              "329                          NaN                                NaN   \n",
              "\n",
              "     36_credit_default_rate  315_frequency_topups  \\\n",
              "0                       NaN                  20.0   \n",
              "1                       NaN                   NaN   \n",
              "2                       NaN                   NaN   \n",
              "3                       NaN                   NaN   \n",
              "4                       NaN                   NaN   \n",
              "..                      ...                   ...   \n",
              "325                     NaN                   NaN   \n",
              "326                     NaN                   NaN   \n",
              "327                     NaN                   NaN   \n",
              "328                     NaN                   NaN   \n",
              "329                     NaN                   NaN   \n",
              "\n",
              "     316_frequency_utility_bills  317_home_deliveries  \\\n",
              "0                            NaN                  NaN   \n",
              "1                            NaN                  NaN   \n",
              "2                            NaN                  NaN   \n",
              "3                            NaN                  NaN   \n",
              "4                            NaN                  NaN   \n",
              "..                           ...                  ...   \n",
              "325                          NaN                  NaN   \n",
              "326                          NaN                  NaN   \n",
              "327                          NaN                  NaN   \n",
              "328                          NaN                  NaN   \n",
              "329                          NaN                  NaN   \n",
              "\n",
              "     62_frequency_only_services  78_number_home_deliveries_week  \\\n",
              "0                          10.0                             NaN   \n",
              "1                           NaN                             NaN   \n",
              "2                           NaN                             NaN   \n",
              "3                           NaN                             NaN   \n",
              "4                           NaN                             NaN   \n",
              "..                          ...                             ...   \n",
              "325                         1.0                             1.0   \n",
              "326                         NaN                             NaN   \n",
              "327                         NaN                             NaN   \n",
              "328                         NaN                             NaN   \n",
              "329                         NaN                             NaN   \n",
              "\n",
              "     172_supplier_frequency  \n",
              "0                       2.0  \n",
              "1                       NaN  \n",
              "2                       NaN  \n",
              "3                       1.0  \n",
              "4                       NaN  \n",
              "..                      ...  \n",
              "325                     5.0  \n",
              "326                     NaN  \n",
              "327                     NaN  \n",
              "328                     NaN  \n",
              "329                     NaN  \n",
              "\n",
              "[330 rows x 17 columns]"
            ],
            "text/html": [
              "\n",
              "  <div id=\"df-691d863b-2181-4a27-8c09-8b823b8da6e6\">\n",
              "    <div class=\"colab-df-container\">\n",
              "      <div>\n",
              "<style scoped>\n",
              "    .dataframe tbody tr th:only-of-type {\n",
              "        vertical-align: middle;\n",
              "    }\n",
              "\n",
              "    .dataframe tbody tr th {\n",
              "        vertical-align: top;\n",
              "    }\n",
              "\n",
              "    .dataframe thead th {\n",
              "        text-align: right;\n",
              "    }\n",
              "</style>\n",
              "<table border=\"1\" class=\"dataframe\">\n",
              "  <thead>\n",
              "    <tr style=\"text-align: right;\">\n",
              "      <th></th>\n",
              "      <th>97_number_of_customers_in_store</th>\n",
              "      <th>268_number_fridges</th>\n",
              "      <th>104_how_many_shelves_does_the_micro_retailer_have</th>\n",
              "      <th>2_current_permanent_employees</th>\n",
              "      <th>4_number_permanent_employees_last_year</th>\n",
              "      <th>103_number_own_fridges</th>\n",
              "      <th>145_number_direct_competitors</th>\n",
              "      <th>24_burnout</th>\n",
              "      <th>272_card_days_receive_money</th>\n",
              "      <th>276_expected_days_informal_credit</th>\n",
              "      <th>36_credit_default_rate</th>\n",
              "      <th>315_frequency_topups</th>\n",
              "      <th>316_frequency_utility_bills</th>\n",
              "      <th>317_home_deliveries</th>\n",
              "      <th>62_frequency_only_services</th>\n",
              "      <th>78_number_home_deliveries_week</th>\n",
              "      <th>172_supplier_frequency</th>\n",
              "    </tr>\n",
              "  </thead>\n",
              "  <tbody>\n",
              "    <tr>\n",
              "      <th>0</th>\n",
              "      <td>1</td>\n",
              "      <td>3.0</td>\n",
              "      <td>3</td>\n",
              "      <td>2.0</td>\n",
              "      <td>10.0</td>\n",
              "      <td>3.0</td>\n",
              "      <td>5.0</td>\n",
              "      <td>2.0</td>\n",
              "      <td>NaN</td>\n",
              "      <td>NaN</td>\n",
              "      <td>NaN</td>\n",
              "      <td>20.0</td>\n",
              "      <td>NaN</td>\n",
              "      <td>NaN</td>\n",
              "      <td>10.0</td>\n",
              "      <td>NaN</td>\n",
              "      <td>2.0</td>\n",
              "    </tr>\n",
              "    <tr>\n",
              "      <th>1</th>\n",
              "      <td>2</td>\n",
              "      <td>0.0</td>\n",
              "      <td>0</td>\n",
              "      <td>NaN</td>\n",
              "      <td>NaN</td>\n",
              "      <td>NaN</td>\n",
              "      <td>NaN</td>\n",
              "      <td>NaN</td>\n",
              "      <td>NaN</td>\n",
              "      <td>NaN</td>\n",
              "      <td>NaN</td>\n",
              "      <td>NaN</td>\n",
              "      <td>NaN</td>\n",
              "      <td>NaN</td>\n",
              "      <td>NaN</td>\n",
              "      <td>NaN</td>\n",
              "      <td>NaN</td>\n",
              "    </tr>\n",
              "    <tr>\n",
              "      <th>2</th>\n",
              "      <td>2</td>\n",
              "      <td>0.0</td>\n",
              "      <td>0</td>\n",
              "      <td>NaN</td>\n",
              "      <td>NaN</td>\n",
              "      <td>NaN</td>\n",
              "      <td>NaN</td>\n",
              "      <td>NaN</td>\n",
              "      <td>NaN</td>\n",
              "      <td>NaN</td>\n",
              "      <td>NaN</td>\n",
              "      <td>NaN</td>\n",
              "      <td>NaN</td>\n",
              "      <td>NaN</td>\n",
              "      <td>NaN</td>\n",
              "      <td>NaN</td>\n",
              "      <td>NaN</td>\n",
              "    </tr>\n",
              "    <tr>\n",
              "      <th>3</th>\n",
              "      <td>1</td>\n",
              "      <td>0.0</td>\n",
              "      <td>0</td>\n",
              "      <td>0.0</td>\n",
              "      <td>0.0</td>\n",
              "      <td>NaN</td>\n",
              "      <td>10.0</td>\n",
              "      <td>NaN</td>\n",
              "      <td>NaN</td>\n",
              "      <td>NaN</td>\n",
              "      <td>NaN</td>\n",
              "      <td>NaN</td>\n",
              "      <td>NaN</td>\n",
              "      <td>NaN</td>\n",
              "      <td>NaN</td>\n",
              "      <td>NaN</td>\n",
              "      <td>1.0</td>\n",
              "    </tr>\n",
              "    <tr>\n",
              "      <th>4</th>\n",
              "      <td>3</td>\n",
              "      <td>2.0</td>\n",
              "      <td>3</td>\n",
              "      <td>NaN</td>\n",
              "      <td>NaN</td>\n",
              "      <td>NaN</td>\n",
              "      <td>NaN</td>\n",
              "      <td>NaN</td>\n",
              "      <td>NaN</td>\n",
              "      <td>NaN</td>\n",
              "      <td>NaN</td>\n",
              "      <td>NaN</td>\n",
              "      <td>NaN</td>\n",
              "      <td>NaN</td>\n",
              "      <td>NaN</td>\n",
              "      <td>NaN</td>\n",
              "      <td>NaN</td>\n",
              "    </tr>\n",
              "    <tr>\n",
              "      <th>...</th>\n",
              "      <td>...</td>\n",
              "      <td>...</td>\n",
              "      <td>...</td>\n",
              "      <td>...</td>\n",
              "      <td>...</td>\n",
              "      <td>...</td>\n",
              "      <td>...</td>\n",
              "      <td>...</td>\n",
              "      <td>...</td>\n",
              "      <td>...</td>\n",
              "      <td>...</td>\n",
              "      <td>...</td>\n",
              "      <td>...</td>\n",
              "      <td>...</td>\n",
              "      <td>...</td>\n",
              "      <td>...</td>\n",
              "      <td>...</td>\n",
              "    </tr>\n",
              "    <tr>\n",
              "      <th>325</th>\n",
              "      <td>0</td>\n",
              "      <td>1.0</td>\n",
              "      <td>7</td>\n",
              "      <td>4.0</td>\n",
              "      <td>NaN</td>\n",
              "      <td>NaN</td>\n",
              "      <td>5.0</td>\n",
              "      <td>NaN</td>\n",
              "      <td>1.0</td>\n",
              "      <td>NaN</td>\n",
              "      <td>NaN</td>\n",
              "      <td>NaN</td>\n",
              "      <td>NaN</td>\n",
              "      <td>NaN</td>\n",
              "      <td>1.0</td>\n",
              "      <td>1.0</td>\n",
              "      <td>5.0</td>\n",
              "    </tr>\n",
              "    <tr>\n",
              "      <th>326</th>\n",
              "      <td>1</td>\n",
              "      <td>0.0</td>\n",
              "      <td>5</td>\n",
              "      <td>NaN</td>\n",
              "      <td>NaN</td>\n",
              "      <td>NaN</td>\n",
              "      <td>NaN</td>\n",
              "      <td>NaN</td>\n",
              "      <td>NaN</td>\n",
              "      <td>NaN</td>\n",
              "      <td>NaN</td>\n",
              "      <td>NaN</td>\n",
              "      <td>NaN</td>\n",
              "      <td>NaN</td>\n",
              "      <td>NaN</td>\n",
              "      <td>NaN</td>\n",
              "      <td>NaN</td>\n",
              "    </tr>\n",
              "    <tr>\n",
              "      <th>327</th>\n",
              "      <td>3</td>\n",
              "      <td>1.0</td>\n",
              "      <td>1</td>\n",
              "      <td>NaN</td>\n",
              "      <td>NaN</td>\n",
              "      <td>NaN</td>\n",
              "      <td>NaN</td>\n",
              "      <td>NaN</td>\n",
              "      <td>NaN</td>\n",
              "      <td>NaN</td>\n",
              "      <td>NaN</td>\n",
              "      <td>NaN</td>\n",
              "      <td>NaN</td>\n",
              "      <td>NaN</td>\n",
              "      <td>NaN</td>\n",
              "      <td>NaN</td>\n",
              "      <td>NaN</td>\n",
              "    </tr>\n",
              "    <tr>\n",
              "      <th>328</th>\n",
              "      <td>0</td>\n",
              "      <td>1.0</td>\n",
              "      <td>1</td>\n",
              "      <td>NaN</td>\n",
              "      <td>NaN</td>\n",
              "      <td>NaN</td>\n",
              "      <td>NaN</td>\n",
              "      <td>NaN</td>\n",
              "      <td>NaN</td>\n",
              "      <td>NaN</td>\n",
              "      <td>NaN</td>\n",
              "      <td>NaN</td>\n",
              "      <td>NaN</td>\n",
              "      <td>NaN</td>\n",
              "      <td>NaN</td>\n",
              "      <td>NaN</td>\n",
              "      <td>NaN</td>\n",
              "    </tr>\n",
              "    <tr>\n",
              "      <th>329</th>\n",
              "      <td>1</td>\n",
              "      <td>3.0</td>\n",
              "      <td>1</td>\n",
              "      <td>NaN</td>\n",
              "      <td>NaN</td>\n",
              "      <td>NaN</td>\n",
              "      <td>NaN</td>\n",
              "      <td>NaN</td>\n",
              "      <td>NaN</td>\n",
              "      <td>NaN</td>\n",
              "      <td>NaN</td>\n",
              "      <td>NaN</td>\n",
              "      <td>NaN</td>\n",
              "      <td>NaN</td>\n",
              "      <td>NaN</td>\n",
              "      <td>NaN</td>\n",
              "      <td>NaN</td>\n",
              "    </tr>\n",
              "  </tbody>\n",
              "</table>\n",
              "<p>330 rows × 17 columns</p>\n",
              "</div>\n",
              "      <button class=\"colab-df-convert\" onclick=\"convertToInteractive('df-691d863b-2181-4a27-8c09-8b823b8da6e6')\"\n",
              "              title=\"Convert this dataframe to an interactive table.\"\n",
              "              style=\"display:none;\">\n",
              "        \n",
              "  <svg xmlns=\"http://www.w3.org/2000/svg\" height=\"24px\"viewBox=\"0 0 24 24\"\n",
              "       width=\"24px\">\n",
              "    <path d=\"M0 0h24v24H0V0z\" fill=\"none\"/>\n",
              "    <path d=\"M18.56 5.44l.94 2.06.94-2.06 2.06-.94-2.06-.94-.94-2.06-.94 2.06-2.06.94zm-11 1L8.5 8.5l.94-2.06 2.06-.94-2.06-.94L8.5 2.5l-.94 2.06-2.06.94zm10 10l.94 2.06.94-2.06 2.06-.94-2.06-.94-.94-2.06-.94 2.06-2.06.94z\"/><path d=\"M17.41 7.96l-1.37-1.37c-.4-.4-.92-.59-1.43-.59-.52 0-1.04.2-1.43.59L10.3 9.45l-7.72 7.72c-.78.78-.78 2.05 0 2.83L4 21.41c.39.39.9.59 1.41.59.51 0 1.02-.2 1.41-.59l7.78-7.78 2.81-2.81c.8-.78.8-2.07 0-2.86zM5.41 20L4 18.59l7.72-7.72 1.47 1.35L5.41 20z\"/>\n",
              "  </svg>\n",
              "      </button>\n",
              "      \n",
              "  <style>\n",
              "    .colab-df-container {\n",
              "      display:flex;\n",
              "      flex-wrap:wrap;\n",
              "      gap: 12px;\n",
              "    }\n",
              "\n",
              "    .colab-df-convert {\n",
              "      background-color: #E8F0FE;\n",
              "      border: none;\n",
              "      border-radius: 50%;\n",
              "      cursor: pointer;\n",
              "      display: none;\n",
              "      fill: #1967D2;\n",
              "      height: 32px;\n",
              "      padding: 0 0 0 0;\n",
              "      width: 32px;\n",
              "    }\n",
              "\n",
              "    .colab-df-convert:hover {\n",
              "      background-color: #E2EBFA;\n",
              "      box-shadow: 0px 1px 2px rgba(60, 64, 67, 0.3), 0px 1px 3px 1px rgba(60, 64, 67, 0.15);\n",
              "      fill: #174EA6;\n",
              "    }\n",
              "\n",
              "    [theme=dark] .colab-df-convert {\n",
              "      background-color: #3B4455;\n",
              "      fill: #D2E3FC;\n",
              "    }\n",
              "\n",
              "    [theme=dark] .colab-df-convert:hover {\n",
              "      background-color: #434B5C;\n",
              "      box-shadow: 0px 1px 3px 1px rgba(0, 0, 0, 0.15);\n",
              "      filter: drop-shadow(0px 1px 2px rgba(0, 0, 0, 0.3));\n",
              "      fill: #FFFFFF;\n",
              "    }\n",
              "  </style>\n",
              "\n",
              "      <script>\n",
              "        const buttonEl =\n",
              "          document.querySelector('#df-691d863b-2181-4a27-8c09-8b823b8da6e6 button.colab-df-convert');\n",
              "        buttonEl.style.display =\n",
              "          google.colab.kernel.accessAllowed ? 'block' : 'none';\n",
              "\n",
              "        async function convertToInteractive(key) {\n",
              "          const element = document.querySelector('#df-691d863b-2181-4a27-8c09-8b823b8da6e6');\n",
              "          const dataTable =\n",
              "            await google.colab.kernel.invokeFunction('convertToInteractive',\n",
              "                                                     [key], {});\n",
              "          if (!dataTable) return;\n",
              "\n",
              "          const docLinkHtml = 'Like what you see? Visit the ' +\n",
              "            '<a target=\"_blank\" href=https://colab.research.google.com/notebooks/data_table.ipynb>data table notebook</a>'\n",
              "            + ' to learn more about interactive tables.';\n",
              "          element.innerHTML = '';\n",
              "          dataTable['output_type'] = 'display_data';\n",
              "          await google.colab.output.renderOutput(dataTable, element);\n",
              "          const docLink = document.createElement('div');\n",
              "          docLink.innerHTML = docLinkHtml;\n",
              "          element.appendChild(docLink);\n",
              "        }\n",
              "      </script>\n",
              "    </div>\n",
              "  </div>\n",
              "  "
            ]
          },
          "metadata": {},
          "execution_count": 413
        }
      ]
    },
    {
      "cell_type": "code",
      "source": [
        "#Corroboramos valores nulos \n",
        "valores_nulos=filtro_i.isnull().sum()\n",
        "valores_nulos"
      ],
      "metadata": {
        "id": "VKxHzBWgQPLr",
        "outputId": "abbb163e-2381-4554-bbfa-10c6af264330",
        "colab": {
          "base_uri": "https://localhost:8080/"
        }
      },
      "execution_count": null,
      "outputs": [
        {
          "output_type": "execute_result",
          "data": {
            "text/plain": [
              "97_number_of_customers_in_store                        0\n",
              "268_number_fridges                                     9\n",
              "104_how_many_shelves_does_the_micro_retailer_have      0\n",
              "2_current_permanent_employees                        112\n",
              "4_number_permanent_employees_last_year               129\n",
              "103_number_own_fridges                               252\n",
              "145_number_direct_competitors                        124\n",
              "24_burnout                                           253\n",
              "272_card_days_receive_money                          247\n",
              "276_expected_days_informal_credit                    290\n",
              "36_credit_default_rate                               304\n",
              "315_frequency_topups                                 306\n",
              "316_frequency_utility_bills                          325\n",
              "317_home_deliveries                                  296\n",
              "62_frequency_only_services                           279\n",
              "78_number_home_deliveries_week                       326\n",
              "172_supplier_frequency                               176\n",
              "dtype: int64"
            ]
          },
          "metadata": {},
          "execution_count": 414
        }
      ]
    },
    {
      "cell_type": "markdown",
      "source": [
        "Procedemos a remplazar outliers "
      ],
      "metadata": {
        "id": "eA6PYxLMQTcm"
      }
    },
    {
      "cell_type": "code",
      "source": [
        "#Realizamos diagrama de caja o bigote de cada columna del dataframe \n",
        "fig = plt.figure(figsize =(15, 8))\n",
        "filtro_i.plot(kind='box', vert=False)\n",
        "plt.title(\"Valores Atípicos del Dataframe\")\n",
        "plt.show() #Dibujamos el diagrama"
      ],
      "metadata": {
        "id": "661gQvReQT9k",
        "outputId": "3d767699-cd74-4f93-e97a-69936162fcad",
        "colab": {
          "base_uri": "https://localhost:8080/",
          "height": 353
        }
      },
      "execution_count": null,
      "outputs": [
        {
          "output_type": "stream",
          "name": "stderr",
          "text": [
            "/usr/local/lib/python3.7/dist-packages/matplotlib/cbook/__init__.py:1376: VisibleDeprecationWarning: Creating an ndarray from ragged nested sequences (which is a list-or-tuple of lists-or-tuples-or ndarrays with different lengths or shapes) is deprecated. If you meant to do this, you must specify 'dtype=object' when creating the ndarray.\n",
            "  X = np.atleast_1d(X.T if isinstance(X, np.ndarray) else np.asarray(X))\n"
          ]
        },
        {
          "output_type": "display_data",
          "data": {
            "text/plain": [
              "<Figure size 1080x576 with 0 Axes>"
            ]
          },
          "metadata": {}
        },
        {
          "output_type": "display_data",
          "data": {
            "text/plain": [
              "<Figure size 432x288 with 1 Axes>"
            ],
            "image/png": "[encoded data removed]"
          },
          "metadata": {
            "needs_background": "light"
          }
        }
      ]
    },
    {
      "cell_type": "code",
      "source": [
        "#Realizamos diagrama de caja o bigote\n",
        "fig = plt.figure(figsize =(10, 6))\n",
        "plt.boxplot(filtro_i[\"104_how_many_shelves_does_the_micro_retailer_have\"])\n",
        "plt.title(\"Valores atípicos del DataFrame\")\n",
        "plt.show() #dibujamos el diagrama"
      ],
      "metadata": {
        "id": "U-CLb0kCQW9N",
        "outputId": "a0ea2471-afa7-4846-84ea-bbd674bc5a1e",
        "colab": {
          "base_uri": "https://localhost:8080/",
          "height": 390
        }
      },
      "execution_count": null,
      "outputs": [
        {
          "output_type": "display_data",
          "data": {
            "text/plain": [
              "<Figure size 720x432 with 1 Axes>"
            ],
            "image/png": "[encoded data removed]"
          },
          "metadata": {
            "needs_background": "light"
          }
        }
      ]
    },
    {
      "cell_type": "markdown",
      "source": [
        "Método de desviación estandar \n",
        "Esté método se aplico para sustituir valores atípicos del DataFrame, encontrando los valores extremos, como siguiente paso encontrar los outliers, y así obtener datos limpios, estos valores se remplazaron con \"mean\"."
      ],
      "metadata": {
        "id": "Vpw6KTfrQeiJ"
      }
    },
    {
      "cell_type": "code",
      "source": [
        "#Método aplicando desviación estándar. Encuentro los valores extremos\n",
        "y=filtro_i\n",
        "Limite_Superior= y.mean() + 3*y.std()\n",
        "Limite_Inferior= y.mean() - 3*y.std()\n",
        "print(\"Límite superior permitido\", Limite_Superior)\n",
        "print(\"Limite inferior permitido\", Limite_Inferior)"
      ],
      "metadata": {
        "id": "mmlmd7w8QbzG",
        "outputId": "66f77496-9b26-45a8-be33-66c1a9b4dc02",
        "colab": {
          "base_uri": "https://localhost:8080/"
        }
      },
      "execution_count": null,
      "outputs": [
        {
          "output_type": "stream",
          "name": "stdout",
          "text": [
            "Límite superior permitido 97_number_of_customers_in_store                       6.864317\n",
            "268_number_fridges                                    9.107938\n",
            "104_how_many_shelves_does_the_micro_retailer_have    49.272493\n",
            "2_current_permanent_employees                        13.222033\n",
            "4_number_permanent_employees_last_year               18.556743\n",
            "103_number_own_fridges                               10.937970\n",
            "145_number_direct_competitors                        16.615687\n",
            "24_burnout                                           10.276434\n",
            "272_card_days_receive_money                           3.306729\n",
            "276_expected_days_informal_credit                    46.621743\n",
            "36_credit_default_rate                                7.181701\n",
            "315_frequency_topups                                 65.544574\n",
            "316_frequency_utility_bills                          76.030244\n",
            "317_home_deliveries                                  66.409097\n",
            "62_frequency_only_services                           64.582629\n",
            "78_number_home_deliveries_week                        5.464102\n",
            "172_supplier_frequency                                9.213296\n",
            "dtype: float64\n",
            "Limite inferior permitido 97_number_of_customers_in_store                      -4.088560\n",
            "268_number_fridges                                   -5.936599\n",
            "104_how_many_shelves_does_the_micro_retailer_have   -36.848251\n",
            "2_current_permanent_employees                        -9.102767\n",
            "4_number_permanent_employees_last_year              -13.631370\n",
            "103_number_own_fridges                               -6.630278\n",
            "145_number_direct_competitors                        -8.411803\n",
            "24_burnout                                           -2.458253\n",
            "272_card_days_receive_money                          -1.330825\n",
            "276_expected_days_informal_credit                   -23.121743\n",
            "36_credit_default_rate                               -4.104778\n",
            "315_frequency_topups                                -41.961240\n",
            "316_frequency_utility_bills                         -51.630244\n",
            "317_home_deliveries                                 -44.173802\n",
            "62_frequency_only_services                          -45.798315\n",
            "78_number_home_deliveries_week                       -1.464102\n",
            "172_supplier_frequency                               -3.875634\n",
            "dtype: float64\n"
          ]
        }
      ]
    },
    {
      "cell_type": "code",
      "source": [
        "#Encontramos Outliers\n",
        "outliers= filtro_i[(y>Limite_Superior)|(y<Limite_Inferior)]\n",
        "outliers"
      ],
      "metadata": {
        "id": "77WUwELDQhS2",
        "outputId": "07dd2d9e-96a6-4480-e880-381249ca73dc",
        "colab": {
          "base_uri": "https://localhost:8080/",
          "height": 488
        }
      },
      "execution_count": null,
      "outputs": [
        {
          "output_type": "execute_result",
          "data": {
            "text/plain": [
              "     97_number_of_customers_in_store  268_number_fridges  \\\n",
              "0                                NaN                 NaN   \n",
              "1                                NaN                 NaN   \n",
              "2                                NaN                 NaN   \n",
              "3                                NaN                 NaN   \n",
              "4                                NaN                 NaN   \n",
              "..                               ...                 ...   \n",
              "325                              NaN                 NaN   \n",
              "326                              NaN                 NaN   \n",
              "327                              NaN                 NaN   \n",
              "328                              NaN                 NaN   \n",
              "329                              NaN                 NaN   \n",
              "\n",
              "     104_how_many_shelves_does_the_micro_retailer_have  \\\n",
              "0                                                  NaN   \n",
              "1                                                  NaN   \n",
              "2                                                  NaN   \n",
              "3                                                  NaN   \n",
              "4                                                  NaN   \n",
              "..                                                 ...   \n",
              "325                                                NaN   \n",
              "326                                                NaN   \n",
              "327                                                NaN   \n",
              "328                                                NaN   \n",
              "329                                                NaN   \n",
              "\n",
              "     2_current_permanent_employees  4_number_permanent_employees_last_year  \\\n",
              "0                              NaN                                     NaN   \n",
              "1                              NaN                                     NaN   \n",
              "2                              NaN                                     NaN   \n",
              "3                              NaN                                     NaN   \n",
              "4                              NaN                                     NaN   \n",
              "..                             ...                                     ...   \n",
              "325                            NaN                                     NaN   \n",
              "326                            NaN                                     NaN   \n",
              "327                            NaN                                     NaN   \n",
              "328                            NaN                                     NaN   \n",
              "329                            NaN                                     NaN   \n",
              "\n",
              "     103_number_own_fridges  145_number_direct_competitors  24_burnout  \\\n",
              "0                       NaN                            NaN         NaN   \n",
              "1                       NaN                            NaN         NaN   \n",
              "2                       NaN                            NaN         NaN   \n",
              "3                       NaN                            NaN         NaN   \n",
              "4                       NaN                            NaN         NaN   \n",
              "..                      ...                            ...         ...   \n",
              "325                     NaN                            NaN         NaN   \n",
              "326                     NaN                            NaN         NaN   \n",
              "327                     NaN                            NaN         NaN   \n",
              "328                     NaN                            NaN         NaN   \n",
              "329                     NaN                            NaN         NaN   \n",
              "\n",
              "     272_card_days_receive_money  276_expected_days_informal_credit  \\\n",
              "0                            NaN                                NaN   \n",
              "1                            NaN                                NaN   \n",
              "2                            NaN                                NaN   \n",
              "3                            NaN                                NaN   \n",
              "4                            NaN                                NaN   \n",
              "..                           ...                                ...   \n",
              "325                          NaN                                NaN   \n",
              "326                          NaN                                NaN   \n",
              "327                          NaN                                NaN   \n",
              "328                          NaN                                NaN   \n",
              "329                          NaN                                NaN   \n",
              "\n",
              "     36_credit_default_rate  315_frequency_topups  \\\n",
              "0                       NaN                   NaN   \n",
              "1                       NaN                   NaN   \n",
              "2                       NaN                   NaN   \n",
              "3                       NaN                   NaN   \n",
              "4                       NaN                   NaN   \n",
              "..                      ...                   ...   \n",
              "325                     NaN                   NaN   \n",
              "326                     NaN                   NaN   \n",
              "327                     NaN                   NaN   \n",
              "328                     NaN                   NaN   \n",
              "329                     NaN                   NaN   \n",
              "\n",
              "     316_frequency_utility_bills  317_home_deliveries  \\\n",
              "0                            NaN                  NaN   \n",
              "1                            NaN                  NaN   \n",
              "2                            NaN                  NaN   \n",
              "3                            NaN                  NaN   \n",
              "4                            NaN                  NaN   \n",
              "..                           ...                  ...   \n",
              "325                          NaN                  NaN   \n",
              "326                          NaN                  NaN   \n",
              "327                          NaN                  NaN   \n",
              "328                          NaN                  NaN   \n",
              "329                          NaN                  NaN   \n",
              "\n",
              "     62_frequency_only_services  78_number_home_deliveries_week  \\\n",
              "0                           NaN                             NaN   \n",
              "1                           NaN                             NaN   \n",
              "2                           NaN                             NaN   \n",
              "3                           NaN                             NaN   \n",
              "4                           NaN                             NaN   \n",
              "..                          ...                             ...   \n",
              "325                         NaN                             NaN   \n",
              "326                         NaN                             NaN   \n",
              "327                         NaN                             NaN   \n",
              "328                         NaN                             NaN   \n",
              "329                         NaN                             NaN   \n",
              "\n",
              "     172_supplier_frequency  \n",
              "0                       NaN  \n",
              "1                       NaN  \n",
              "2                       NaN  \n",
              "3                       NaN  \n",
              "4                       NaN  \n",
              "..                      ...  \n",
              "325                     NaN  \n",
              "326                     NaN  \n",
              "327                     NaN  \n",
              "328                     NaN  \n",
              "329                     NaN  \n",
              "\n",
              "[330 rows x 17 columns]"
            ],
            "text/html": [
              "\n",
              "  <div id=\"df-45a1188f-7934-4e7a-b5b1-4a1a515defc7\">\n",
              "    <div class=\"colab-df-container\">\n",
              "      <div>\n",
              "<style scoped>\n",
              "    .dataframe tbody tr th:only-of-type {\n",
              "        vertical-align: middle;\n",
              "    }\n",
              "\n",
              "    .dataframe tbody tr th {\n",
              "        vertical-align: top;\n",
              "    }\n",
              "\n",
              "    .dataframe thead th {\n",
              "        text-align: right;\n",
              "    }\n",
              "</style>\n",
              "<table border=\"1\" class=\"dataframe\">\n",
              "  <thead>\n",
              "    <tr style=\"text-align: right;\">\n",
              "      <th></th>\n",
              "      <th>97_number_of_customers_in_store</th>\n",
              "      <th>268_number_fridges</th>\n",
              "      <th>104_how_many_shelves_does_the_micro_retailer_have</th>\n",
              "      <th>2_current_permanent_employees</th>\n",
              "      <th>4_number_permanent_employees_last_year</th>\n",
              "      <th>103_number_own_fridges</th>\n",
              "      <th>145_number_direct_competitors</th>\n",
              "      <th>24_burnout</th>\n",
              "      <th>272_card_days_receive_money</th>\n",
              "      <th>276_expected_days_informal_credit</th>\n",
              "      <th>36_credit_default_rate</th>\n",
              "      <th>315_frequency_topups</th>\n",
              "      <th>316_frequency_utility_bills</th>\n",
              "      <th>317_home_deliveries</th>\n",
              "      <th>62_frequency_only_services</th>\n",
              "      <th>78_number_home_deliveries_week</th>\n",
              "      <th>172_supplier_frequency</th>\n",
              "    </tr>\n",
              "  </thead>\n",
              "  <tbody>\n",
              "    <tr>\n",
              "      <th>0</th>\n",
              "      <td>NaN</td>\n",
              "      <td>NaN</td>\n",
              "      <td>NaN</td>\n",
              "      <td>NaN</td>\n",
              "      <td>NaN</td>\n",
              "      <td>NaN</td>\n",
              "      <td>NaN</td>\n",
              "      <td>NaN</td>\n",
              "      <td>NaN</td>\n",
              "      <td>NaN</td>\n",
              "      <td>NaN</td>\n",
              "      <td>NaN</td>\n",
              "      <td>NaN</td>\n",
              "      <td>NaN</td>\n",
              "      <td>NaN</td>\n",
              "      <td>NaN</td>\n",
              "      <td>NaN</td>\n",
              "    </tr>\n",
              "    <tr>\n",
              "      <th>1</th>\n",
              "      <td>NaN</td>\n",
              "      <td>NaN</td>\n",
              "      <td>NaN</td>\n",
              "      <td>NaN</td>\n",
              "      <td>NaN</td>\n",
              "      <td>NaN</td>\n",
              "      <td>NaN</td>\n",
              "      <td>NaN</td>\n",
              "      <td>NaN</td>\n",
              "      <td>NaN</td>\n",
              "      <td>NaN</td>\n",
              "      <td>NaN</td>\n",
              "      <td>NaN</td>\n",
              "      <td>NaN</td>\n",
              "      <td>NaN</td>\n",
              "      <td>NaN</td>\n",
              "      <td>NaN</td>\n",
              "    </tr>\n",
              "    <tr>\n",
              "      <th>2</th>\n",
              "      <td>NaN</td>\n",
              "      <td>NaN</td>\n",
              "      <td>NaN</td>\n",
              "      <td>NaN</td>\n",
              "      <td>NaN</td>\n",
              "      <td>NaN</td>\n",
              "      <td>NaN</td>\n",
              "      <td>NaN</td>\n",
              "      <td>NaN</td>\n",
              "      <td>NaN</td>\n",
              "      <td>NaN</td>\n",
              "      <td>NaN</td>\n",
              "      <td>NaN</td>\n",
              "      <td>NaN</td>\n",
              "      <td>NaN</td>\n",
              "      <td>NaN</td>\n",
              "      <td>NaN</td>\n",
              "    </tr>\n",
              "    <tr>\n",
              "      <th>3</th>\n",
              "      <td>NaN</td>\n",
              "      <td>NaN</td>\n",
              "      <td>NaN</td>\n",
              "      <td>NaN</td>\n",
              "      <td>NaN</td>\n",
              "      <td>NaN</td>\n",
              "      <td>NaN</td>\n",
              "      <td>NaN</td>\n",
              "      <td>NaN</td>\n",
              "      <td>NaN</td>\n",
              "      <td>NaN</td>\n",
              "      <td>NaN</td>\n",
              "      <td>NaN</td>\n",
              "      <td>NaN</td>\n",
              "      <td>NaN</td>\n",
              "      <td>NaN</td>\n",
              "      <td>NaN</td>\n",
              "    </tr>\n",
              "    <tr>\n",
              "      <th>4</th>\n",
              "      <td>NaN</td>\n",
              "      <td>NaN</td>\n",
              "      <td>NaN</td>\n",
              "      <td>NaN</td>\n",
              "      <td>NaN</td>\n",
              "      <td>NaN</td>\n",
              "      <td>NaN</td>\n",
              "      <td>NaN</td>\n",
              "      <td>NaN</td>\n",
              "      <td>NaN</td>\n",
              "      <td>NaN</td>\n",
              "      <td>NaN</td>\n",
              "      <td>NaN</td>\n",
              "      <td>NaN</td>\n",
              "      <td>NaN</td>\n",
              "      <td>NaN</td>\n",
              "      <td>NaN</td>\n",
              "    </tr>\n",
              "    <tr>\n",
              "      <th>...</th>\n",
              "      <td>...</td>\n",
              "      <td>...</td>\n",
              "      <td>...</td>\n",
              "      <td>...</td>\n",
              "      <td>...</td>\n",
              "      <td>...</td>\n",
              "      <td>...</td>\n",
              "      <td>...</td>\n",
              "      <td>...</td>\n",
              "      <td>...</td>\n",
              "      <td>...</td>\n",
              "      <td>...</td>\n",
              "      <td>...</td>\n",
              "      <td>...</td>\n",
              "      <td>...</td>\n",
              "      <td>...</td>\n",
              "      <td>...</td>\n",
              "    </tr>\n",
              "    <tr>\n",
              "      <th>325</th>\n",
              "      <td>NaN</td>\n",
              "      <td>NaN</td>\n",
              "      <td>NaN</td>\n",
              "      <td>NaN</td>\n",
              "      <td>NaN</td>\n",
              "      <td>NaN</td>\n",
              "      <td>NaN</td>\n",
              "      <td>NaN</td>\n",
              "      <td>NaN</td>\n",
              "      <td>NaN</td>\n",
              "      <td>NaN</td>\n",
              "      <td>NaN</td>\n",
              "      <td>NaN</td>\n",
              "      <td>NaN</td>\n",
              "      <td>NaN</td>\n",
              "      <td>NaN</td>\n",
              "      <td>NaN</td>\n",
              "    </tr>\n",
              "    <tr>\n",
              "      <th>326</th>\n",
              "      <td>NaN</td>\n",
              "      <td>NaN</td>\n",
              "      <td>NaN</td>\n",
              "      <td>NaN</td>\n",
              "      <td>NaN</td>\n",
              "      <td>NaN</td>\n",
              "      <td>NaN</td>\n",
              "      <td>NaN</td>\n",
              "      <td>NaN</td>\n",
              "      <td>NaN</td>\n",
              "      <td>NaN</td>\n",
              "      <td>NaN</td>\n",
              "      <td>NaN</td>\n",
              "      <td>NaN</td>\n",
              "      <td>NaN</td>\n",
              "      <td>NaN</td>\n",
              "      <td>NaN</td>\n",
              "    </tr>\n",
              "    <tr>\n",
              "      <th>327</th>\n",
              "      <td>NaN</td>\n",
              "      <td>NaN</td>\n",
              "      <td>NaN</td>\n",
              "      <td>NaN</td>\n",
              "      <td>NaN</td>\n",
              "      <td>NaN</td>\n",
              "      <td>NaN</td>\n",
              "      <td>NaN</td>\n",
              "      <td>NaN</td>\n",
              "      <td>NaN</td>\n",
              "      <td>NaN</td>\n",
              "      <td>NaN</td>\n",
              "      <td>NaN</td>\n",
              "      <td>NaN</td>\n",
              "      <td>NaN</td>\n",
              "      <td>NaN</td>\n",
              "      <td>NaN</td>\n",
              "    </tr>\n",
              "    <tr>\n",
              "      <th>328</th>\n",
              "      <td>NaN</td>\n",
              "      <td>NaN</td>\n",
              "      <td>NaN</td>\n",
              "      <td>NaN</td>\n",
              "      <td>NaN</td>\n",
              "      <td>NaN</td>\n",
              "      <td>NaN</td>\n",
              "      <td>NaN</td>\n",
              "      <td>NaN</td>\n",
              "      <td>NaN</td>\n",
              "      <td>NaN</td>\n",
              "      <td>NaN</td>\n",
              "      <td>NaN</td>\n",
              "      <td>NaN</td>\n",
              "      <td>NaN</td>\n",
              "      <td>NaN</td>\n",
              "      <td>NaN</td>\n",
              "    </tr>\n",
              "    <tr>\n",
              "      <th>329</th>\n",
              "      <td>NaN</td>\n",
              "      <td>NaN</td>\n",
              "      <td>NaN</td>\n",
              "      <td>NaN</td>\n",
              "      <td>NaN</td>\n",
              "      <td>NaN</td>\n",
              "      <td>NaN</td>\n",
              "      <td>NaN</td>\n",
              "      <td>NaN</td>\n",
              "      <td>NaN</td>\n",
              "      <td>NaN</td>\n",
              "      <td>NaN</td>\n",
              "      <td>NaN</td>\n",
              "      <td>NaN</td>\n",
              "      <td>NaN</td>\n",
              "      <td>NaN</td>\n",
              "      <td>NaN</td>\n",
              "    </tr>\n",
              "  </tbody>\n",
              "</table>\n",
              "<p>330 rows × 17 columns</p>\n",
              "</div>\n",
              "      <button class=\"colab-df-convert\" onclick=\"convertToInteractive('df-45a1188f-7934-4e7a-b5b1-4a1a515defc7')\"\n",
              "              title=\"Convert this dataframe to an interactive table.\"\n",
              "              style=\"display:none;\">\n",
              "        \n",
              "  <svg xmlns=\"http://www.w3.org/2000/svg\" height=\"24px\"viewBox=\"0 0 24 24\"\n",
              "       width=\"24px\">\n",
              "    <path d=\"M0 0h24v24H0V0z\" fill=\"none\"/>\n",
              "    <path d=\"M18.56 5.44l.94 2.06.94-2.06 2.06-.94-2.06-.94-.94-2.06-.94 2.06-2.06.94zm-11 1L8.5 8.5l.94-2.06 2.06-.94-2.06-.94L8.5 2.5l-.94 2.06-2.06.94zm10 10l.94 2.06.94-2.06 2.06-.94-2.06-.94-.94-2.06-.94 2.06-2.06.94z\"/><path d=\"M17.41 7.96l-1.37-1.37c-.4-.4-.92-.59-1.43-.59-.52 0-1.04.2-1.43.59L10.3 9.45l-7.72 7.72c-.78.78-.78 2.05 0 2.83L4 21.41c.39.39.9.59 1.41.59.51 0 1.02-.2 1.41-.59l7.78-7.78 2.81-2.81c.8-.78.8-2.07 0-2.86zM5.41 20L4 18.59l7.72-7.72 1.47 1.35L5.41 20z\"/>\n",
              "  </svg>\n",
              "      </button>\n",
              "      \n",
              "  <style>\n",
              "    .colab-df-container {\n",
              "      display:flex;\n",
              "      flex-wrap:wrap;\n",
              "      gap: 12px;\n",
              "    }\n",
              "\n",
              "    .colab-df-convert {\n",
              "      background-color: #E8F0FE;\n",
              "      border: none;\n",
              "      border-radius: 50%;\n",
              "      cursor: pointer;\n",
              "      display: none;\n",
              "      fill: #1967D2;\n",
              "      height: 32px;\n",
              "      padding: 0 0 0 0;\n",
              "      width: 32px;\n",
              "    }\n",
              "\n",
              "    .colab-df-convert:hover {\n",
              "      background-color: #E2EBFA;\n",
              "      box-shadow: 0px 1px 2px rgba(60, 64, 67, 0.3), 0px 1px 3px 1px rgba(60, 64, 67, 0.15);\n",
              "      fill: #174EA6;\n",
              "    }\n",
              "\n",
              "    [theme=dark] .colab-df-convert {\n",
              "      background-color: #3B4455;\n",
              "      fill: #D2E3FC;\n",
              "    }\n",
              "\n",
              "    [theme=dark] .colab-df-convert:hover {\n",
              "      background-color: #434B5C;\n",
              "      box-shadow: 0px 1px 3px 1px rgba(0, 0, 0, 0.15);\n",
              "      filter: drop-shadow(0px 1px 2px rgba(0, 0, 0, 0.3));\n",
              "      fill: #FFFFFF;\n",
              "    }\n",
              "  </style>\n",
              "\n",
              "      <script>\n",
              "        const buttonEl =\n",
              "          document.querySelector('#df-45a1188f-7934-4e7a-b5b1-4a1a515defc7 button.colab-df-convert');\n",
              "        buttonEl.style.display =\n",
              "          google.colab.kernel.accessAllowed ? 'block' : 'none';\n",
              "\n",
              "        async function convertToInteractive(key) {\n",
              "          const element = document.querySelector('#df-45a1188f-7934-4e7a-b5b1-4a1a515defc7');\n",
              "          const dataTable =\n",
              "            await google.colab.kernel.invokeFunction('convertToInteractive',\n",
              "                                                     [key], {});\n",
              "          if (!dataTable) return;\n",
              "\n",
              "          const docLinkHtml = 'Like what you see? Visit the ' +\n",
              "            '<a target=\"_blank\" href=https://colab.research.google.com/notebooks/data_table.ipynb>data table notebook</a>'\n",
              "            + ' to learn more about interactive tables.';\n",
              "          element.innerHTML = '';\n",
              "          dataTable['output_type'] = 'display_data';\n",
              "          await google.colab.output.renderOutput(dataTable, element);\n",
              "          const docLink = document.createElement('div');\n",
              "          docLink.innerHTML = docLinkHtml;\n",
              "          element.appendChild(docLink);\n",
              "        }\n",
              "      </script>\n",
              "    </div>\n",
              "  </div>\n",
              "  "
            ]
          },
          "metadata": {},
          "execution_count": 418
        }
      ]
    },
    {
      "cell_type": "code",
      "source": [
        "#Obtenemos datos limpios\n",
        "filtroi_clean= filtro_i[(y<=Limite_Superior)&(y>=Limite_Inferior)]\n",
        "filtroi_clean"
      ],
      "metadata": {
        "id": "d4Z3LIqfQkM2",
        "outputId": "75363c7b-e880-48fe-b256-bee349c36b2e",
        "colab": {
          "base_uri": "https://localhost:8080/",
          "height": 488
        }
      },
      "execution_count": null,
      "outputs": [
        {
          "output_type": "execute_result",
          "data": {
            "text/plain": [
              "     97_number_of_customers_in_store  268_number_fridges  \\\n",
              "0                                1.0                 3.0   \n",
              "1                                2.0                 0.0   \n",
              "2                                2.0                 0.0   \n",
              "3                                1.0                 0.0   \n",
              "4                                3.0                 2.0   \n",
              "..                               ...                 ...   \n",
              "325                              0.0                 1.0   \n",
              "326                              1.0                 0.0   \n",
              "327                              3.0                 1.0   \n",
              "328                              0.0                 1.0   \n",
              "329                              1.0                 3.0   \n",
              "\n",
              "     104_how_many_shelves_does_the_micro_retailer_have  \\\n",
              "0                                                  3.0   \n",
              "1                                                  0.0   \n",
              "2                                                  0.0   \n",
              "3                                                  0.0   \n",
              "4                                                  3.0   \n",
              "..                                                 ...   \n",
              "325                                                7.0   \n",
              "326                                                5.0   \n",
              "327                                                1.0   \n",
              "328                                                1.0   \n",
              "329                                                1.0   \n",
              "\n",
              "     2_current_permanent_employees  4_number_permanent_employees_last_year  \\\n",
              "0                              2.0                                    10.0   \n",
              "1                              NaN                                     NaN   \n",
              "2                              NaN                                     NaN   \n",
              "3                              0.0                                     0.0   \n",
              "4                              NaN                                     NaN   \n",
              "..                             ...                                     ...   \n",
              "325                            4.0                                     NaN   \n",
              "326                            NaN                                     NaN   \n",
              "327                            NaN                                     NaN   \n",
              "328                            NaN                                     NaN   \n",
              "329                            NaN                                     NaN   \n",
              "\n",
              "     103_number_own_fridges  145_number_direct_competitors  24_burnout  \\\n",
              "0                       3.0                            5.0         2.0   \n",
              "1                       NaN                            NaN         NaN   \n",
              "2                       NaN                            NaN         NaN   \n",
              "3                       NaN                           10.0         NaN   \n",
              "4                       NaN                            NaN         NaN   \n",
              "..                      ...                            ...         ...   \n",
              "325                     NaN                            5.0         NaN   \n",
              "326                     NaN                            NaN         NaN   \n",
              "327                     NaN                            NaN         NaN   \n",
              "328                     NaN                            NaN         NaN   \n",
              "329                     NaN                            NaN         NaN   \n",
              "\n",
              "     272_card_days_receive_money  276_expected_days_informal_credit  \\\n",
              "0                            NaN                                NaN   \n",
              "1                            NaN                                NaN   \n",
              "2                            NaN                                NaN   \n",
              "3                            NaN                                NaN   \n",
              "4                            NaN                                NaN   \n",
              "..                           ...                                ...   \n",
              "325                          1.0                                NaN   \n",
              "326                          NaN                                NaN   \n",
              "327                          NaN                                NaN   \n",
              "328                          NaN                                NaN   \n",
              "329                          NaN                                NaN   \n",
              "\n",
              "     36_credit_default_rate  315_frequency_topups  \\\n",
              "0                       NaN                  20.0   \n",
              "1                       NaN                   NaN   \n",
              "2                       NaN                   NaN   \n",
              "3                       NaN                   NaN   \n",
              "4                       NaN                   NaN   \n",
              "..                      ...                   ...   \n",
              "325                     NaN                   NaN   \n",
              "326                     NaN                   NaN   \n",
              "327                     NaN                   NaN   \n",
              "328                     NaN                   NaN   \n",
              "329                     NaN                   NaN   \n",
              "\n",
              "     316_frequency_utility_bills  317_home_deliveries  \\\n",
              "0                            NaN                  NaN   \n",
              "1                            NaN                  NaN   \n",
              "2                            NaN                  NaN   \n",
              "3                            NaN                  NaN   \n",
              "4                            NaN                  NaN   \n",
              "..                           ...                  ...   \n",
              "325                          NaN                  NaN   \n",
              "326                          NaN                  NaN   \n",
              "327                          NaN                  NaN   \n",
              "328                          NaN                  NaN   \n",
              "329                          NaN                  NaN   \n",
              "\n",
              "     62_frequency_only_services  78_number_home_deliveries_week  \\\n",
              "0                          10.0                             NaN   \n",
              "1                           NaN                             NaN   \n",
              "2                           NaN                             NaN   \n",
              "3                           NaN                             NaN   \n",
              "4                           NaN                             NaN   \n",
              "..                          ...                             ...   \n",
              "325                         1.0                             1.0   \n",
              "326                         NaN                             NaN   \n",
              "327                         NaN                             NaN   \n",
              "328                         NaN                             NaN   \n",
              "329                         NaN                             NaN   \n",
              "\n",
              "     172_supplier_frequency  \n",
              "0                       2.0  \n",
              "1                       NaN  \n",
              "2                       NaN  \n",
              "3                       1.0  \n",
              "4                       NaN  \n",
              "..                      ...  \n",
              "325                     5.0  \n",
              "326                     NaN  \n",
              "327                     NaN  \n",
              "328                     NaN  \n",
              "329                     NaN  \n",
              "\n",
              "[330 rows x 17 columns]"
            ],
            "text/html": [
              "\n",
              "  <div id=\"df-e297976a-c284-4e78-98fb-17bd0ee5e1a7\">\n",
              "    <div class=\"colab-df-container\">\n",
              "      <div>\n",
              "<style scoped>\n",
              "    .dataframe tbody tr th:only-of-type {\n",
              "        vertical-align: middle;\n",
              "    }\n",
              "\n",
              "    .dataframe tbody tr th {\n",
              "        vertical-align: top;\n",
              "    }\n",
              "\n",
              "    .dataframe thead th {\n",
              "        text-align: right;\n",
              "    }\n",
              "</style>\n",
              "<table border=\"1\" class=\"dataframe\">\n",
              "  <thead>\n",
              "    <tr style=\"text-align: right;\">\n",
              "      <th></th>\n",
              "      <th>97_number_of_customers_in_store</th>\n",
              "      <th>268_number_fridges</th>\n",
              "      <th>104_how_many_shelves_does_the_micro_retailer_have</th>\n",
              "      <th>2_current_permanent_employees</th>\n",
              "      <th>4_number_permanent_employees_last_year</th>\n",
              "      <th>103_number_own_fridges</th>\n",
              "      <th>145_number_direct_competitors</th>\n",
              "      <th>24_burnout</th>\n",
              "      <th>272_card_days_receive_money</th>\n",
              "      <th>276_expected_days_informal_credit</th>\n",
              "      <th>36_credit_default_rate</th>\n",
              "      <th>315_frequency_topups</th>\n",
              "      <th>316_frequency_utility_bills</th>\n",
              "      <th>317_home_deliveries</th>\n",
              "      <th>62_frequency_only_services</th>\n",
              "      <th>78_number_home_deliveries_week</th>\n",
              "      <th>172_supplier_frequency</th>\n",
              "    </tr>\n",
              "  </thead>\n",
              "  <tbody>\n",
              "    <tr>\n",
              "      <th>0</th>\n",
              "      <td>1.0</td>\n",
              "      <td>3.0</td>\n",
              "      <td>3.0</td>\n",
              "      <td>2.0</td>\n",
              "      <td>10.0</td>\n",
              "      <td>3.0</td>\n",
              "      <td>5.0</td>\n",
              "      <td>2.0</td>\n",
              "      <td>NaN</td>\n",
              "      <td>NaN</td>\n",
              "      <td>NaN</td>\n",
              "      <td>20.0</td>\n",
              "      <td>NaN</td>\n",
              "      <td>NaN</td>\n",
              "      <td>10.0</td>\n",
              "      <td>NaN</td>\n",
              "      <td>2.0</td>\n",
              "    </tr>\n",
              "    <tr>\n",
              "      <th>1</th>\n",
              "      <td>2.0</td>\n",
              "      <td>0.0</td>\n",
              "      <td>0.0</td>\n",
              "      <td>NaN</td>\n",
              "      <td>NaN</td>\n",
              "      <td>NaN</td>\n",
              "      <td>NaN</td>\n",
              "      <td>NaN</td>\n",
              "      <td>NaN</td>\n",
              "      <td>NaN</td>\n",
              "      <td>NaN</td>\n",
              "      <td>NaN</td>\n",
              "      <td>NaN</td>\n",
              "      <td>NaN</td>\n",
              "      <td>NaN</td>\n",
              "      <td>NaN</td>\n",
              "      <td>NaN</td>\n",
              "    </tr>\n",
              "    <tr>\n",
              "      <th>2</th>\n",
              "      <td>2.0</td>\n",
              "      <td>0.0</td>\n",
              "      <td>0.0</td>\n",
              "      <td>NaN</td>\n",
              "      <td>NaN</td>\n",
              "      <td>NaN</td>\n",
              "      <td>NaN</td>\n",
              "      <td>NaN</td>\n",
              "      <td>NaN</td>\n",
              "      <td>NaN</td>\n",
              "      <td>NaN</td>\n",
              "      <td>NaN</td>\n",
              "      <td>NaN</td>\n",
              "      <td>NaN</td>\n",
              "      <td>NaN</td>\n",
              "      <td>NaN</td>\n",
              "      <td>NaN</td>\n",
              "    </tr>\n",
              "    <tr>\n",
              "      <th>3</th>\n",
              "      <td>1.0</td>\n",
              "      <td>0.0</td>\n",
              "      <td>0.0</td>\n",
              "      <td>0.0</td>\n",
              "      <td>0.0</td>\n",
              "      <td>NaN</td>\n",
              "      <td>10.0</td>\n",
              "      <td>NaN</td>\n",
              "      <td>NaN</td>\n",
              "      <td>NaN</td>\n",
              "      <td>NaN</td>\n",
              "      <td>NaN</td>\n",
              "      <td>NaN</td>\n",
              "      <td>NaN</td>\n",
              "      <td>NaN</td>\n",
              "      <td>NaN</td>\n",
              "      <td>1.0</td>\n",
              "    </tr>\n",
              "    <tr>\n",
              "      <th>4</th>\n",
              "      <td>3.0</td>\n",
              "      <td>2.0</td>\n",
              "      <td>3.0</td>\n",
              "      <td>NaN</td>\n",
              "      <td>NaN</td>\n",
              "      <td>NaN</td>\n",
              "      <td>NaN</td>\n",
              "      <td>NaN</td>\n",
              "      <td>NaN</td>\n",
              "      <td>NaN</td>\n",
              "      <td>NaN</td>\n",
              "      <td>NaN</td>\n",
              "      <td>NaN</td>\n",
              "      <td>NaN</td>\n",
              "      <td>NaN</td>\n",
              "      <td>NaN</td>\n",
              "      <td>NaN</td>\n",
              "    </tr>\n",
              "    <tr>\n",
              "      <th>...</th>\n",
              "      <td>...</td>\n",
              "      <td>...</td>\n",
              "      <td>...</td>\n",
              "      <td>...</td>\n",
              "      <td>...</td>\n",
              "      <td>...</td>\n",
              "      <td>...</td>\n",
              "      <td>...</td>\n",
              "      <td>...</td>\n",
              "      <td>...</td>\n",
              "      <td>...</td>\n",
              "      <td>...</td>\n",
              "      <td>...</td>\n",
              "      <td>...</td>\n",
              "      <td>...</td>\n",
              "      <td>...</td>\n",
              "      <td>...</td>\n",
              "    </tr>\n",
              "    <tr>\n",
              "      <th>325</th>\n",
              "      <td>0.0</td>\n",
              "      <td>1.0</td>\n",
              "      <td>7.0</td>\n",
              "      <td>4.0</td>\n",
              "      <td>NaN</td>\n",
              "      <td>NaN</td>\n",
              "      <td>5.0</td>\n",
              "      <td>NaN</td>\n",
              "      <td>1.0</td>\n",
              "      <td>NaN</td>\n",
              "      <td>NaN</td>\n",
              "      <td>NaN</td>\n",
              "      <td>NaN</td>\n",
              "      <td>NaN</td>\n",
              "      <td>1.0</td>\n",
              "      <td>1.0</td>\n",
              "      <td>5.0</td>\n",
              "    </tr>\n",
              "    <tr>\n",
              "      <th>326</th>\n",
              "      <td>1.0</td>\n",
              "      <td>0.0</td>\n",
              "      <td>5.0</td>\n",
              "      <td>NaN</td>\n",
              "      <td>NaN</td>\n",
              "      <td>NaN</td>\n",
              "      <td>NaN</td>\n",
              "      <td>NaN</td>\n",
              "      <td>NaN</td>\n",
              "      <td>NaN</td>\n",
              "      <td>NaN</td>\n",
              "      <td>NaN</td>\n",
              "      <td>NaN</td>\n",
              "      <td>NaN</td>\n",
              "      <td>NaN</td>\n",
              "      <td>NaN</td>\n",
              "      <td>NaN</td>\n",
              "    </tr>\n",
              "    <tr>\n",
              "      <th>327</th>\n",
              "      <td>3.0</td>\n",
              "      <td>1.0</td>\n",
              "      <td>1.0</td>\n",
              "      <td>NaN</td>\n",
              "      <td>NaN</td>\n",
              "      <td>NaN</td>\n",
              "      <td>NaN</td>\n",
              "      <td>NaN</td>\n",
              "      <td>NaN</td>\n",
              "      <td>NaN</td>\n",
              "      <td>NaN</td>\n",
              "      <td>NaN</td>\n",
              "      <td>NaN</td>\n",
              "      <td>NaN</td>\n",
              "      <td>NaN</td>\n",
              "      <td>NaN</td>\n",
              "      <td>NaN</td>\n",
              "    </tr>\n",
              "    <tr>\n",
              "      <th>328</th>\n",
              "      <td>0.0</td>\n",
              "      <td>1.0</td>\n",
              "      <td>1.0</td>\n",
              "      <td>NaN</td>\n",
              "      <td>NaN</td>\n",
              "      <td>NaN</td>\n",
              "      <td>NaN</td>\n",
              "      <td>NaN</td>\n",
              "      <td>NaN</td>\n",
              "      <td>NaN</td>\n",
              "      <td>NaN</td>\n",
              "      <td>NaN</td>\n",
              "      <td>NaN</td>\n",
              "      <td>NaN</td>\n",
              "      <td>NaN</td>\n",
              "      <td>NaN</td>\n",
              "      <td>NaN</td>\n",
              "    </tr>\n",
              "    <tr>\n",
              "      <th>329</th>\n",
              "      <td>1.0</td>\n",
              "      <td>3.0</td>\n",
              "      <td>1.0</td>\n",
              "      <td>NaN</td>\n",
              "      <td>NaN</td>\n",
              "      <td>NaN</td>\n",
              "      <td>NaN</td>\n",
              "      <td>NaN</td>\n",
              "      <td>NaN</td>\n",
              "      <td>NaN</td>\n",
              "      <td>NaN</td>\n",
              "      <td>NaN</td>\n",
              "      <td>NaN</td>\n",
              "      <td>NaN</td>\n",
              "      <td>NaN</td>\n",
              "      <td>NaN</td>\n",
              "      <td>NaN</td>\n",
              "    </tr>\n",
              "  </tbody>\n",
              "</table>\n",
              "<p>330 rows × 17 columns</p>\n",
              "</div>\n",
              "      <button class=\"colab-df-convert\" onclick=\"convertToInteractive('df-e297976a-c284-4e78-98fb-17bd0ee5e1a7')\"\n",
              "              title=\"Convert this dataframe to an interactive table.\"\n",
              "              style=\"display:none;\">\n",
              "        \n",
              "  <svg xmlns=\"http://www.w3.org/2000/svg\" height=\"24px\"viewBox=\"0 0 24 24\"\n",
              "       width=\"24px\">\n",
              "    <path d=\"M0 0h24v24H0V0z\" fill=\"none\"/>\n",
              "    <path d=\"M18.56 5.44l.94 2.06.94-2.06 2.06-.94-2.06-.94-.94-2.06-.94 2.06-2.06.94zm-11 1L8.5 8.5l.94-2.06 2.06-.94-2.06-.94L8.5 2.5l-.94 2.06-2.06.94zm10 10l.94 2.06.94-2.06 2.06-.94-2.06-.94-.94-2.06-.94 2.06-2.06.94z\"/><path d=\"M17.41 7.96l-1.37-1.37c-.4-.4-.92-.59-1.43-.59-.52 0-1.04.2-1.43.59L10.3 9.45l-7.72 7.72c-.78.78-.78 2.05 0 2.83L4 21.41c.39.39.9.59 1.41.59.51 0 1.02-.2 1.41-.59l7.78-7.78 2.81-2.81c.8-.78.8-2.07 0-2.86zM5.41 20L4 18.59l7.72-7.72 1.47 1.35L5.41 20z\"/>\n",
              "  </svg>\n",
              "      </button>\n",
              "      \n",
              "  <style>\n",
              "    .colab-df-container {\n",
              "      display:flex;\n",
              "      flex-wrap:wrap;\n",
              "      gap: 12px;\n",
              "    }\n",
              "\n",
              "    .colab-df-convert {\n",
              "      background-color: #E8F0FE;\n",
              "      border: none;\n",
              "      border-radius: 50%;\n",
              "      cursor: pointer;\n",
              "      display: none;\n",
              "      fill: #1967D2;\n",
              "      height: 32px;\n",
              "      padding: 0 0 0 0;\n",
              "      width: 32px;\n",
              "    }\n",
              "\n",
              "    .colab-df-convert:hover {\n",
              "      background-color: #E2EBFA;\n",
              "      box-shadow: 0px 1px 2px rgba(60, 64, 67, 0.3), 0px 1px 3px 1px rgba(60, 64, 67, 0.15);\n",
              "      fill: #174EA6;\n",
              "    }\n",
              "\n",
              "    [theme=dark] .colab-df-convert {\n",
              "      background-color: #3B4455;\n",
              "      fill: #D2E3FC;\n",
              "    }\n",
              "\n",
              "    [theme=dark] .colab-df-convert:hover {\n",
              "      background-color: #434B5C;\n",
              "      box-shadow: 0px 1px 3px 1px rgba(0, 0, 0, 0.15);\n",
              "      filter: drop-shadow(0px 1px 2px rgba(0, 0, 0, 0.3));\n",
              "      fill: #FFFFFF;\n",
              "    }\n",
              "  </style>\n",
              "\n",
              "      <script>\n",
              "        const buttonEl =\n",
              "          document.querySelector('#df-e297976a-c284-4e78-98fb-17bd0ee5e1a7 button.colab-df-convert');\n",
              "        buttonEl.style.display =\n",
              "          google.colab.kernel.accessAllowed ? 'block' : 'none';\n",
              "\n",
              "        async function convertToInteractive(key) {\n",
              "          const element = document.querySelector('#df-e297976a-c284-4e78-98fb-17bd0ee5e1a7');\n",
              "          const dataTable =\n",
              "            await google.colab.kernel.invokeFunction('convertToInteractive',\n",
              "                                                     [key], {});\n",
              "          if (!dataTable) return;\n",
              "\n",
              "          const docLinkHtml = 'Like what you see? Visit the ' +\n",
              "            '<a target=\"_blank\" href=https://colab.research.google.com/notebooks/data_table.ipynb>data table notebook</a>'\n",
              "            + ' to learn more about interactive tables.';\n",
              "          element.innerHTML = '';\n",
              "          dataTable['output_type'] = 'display_data';\n",
              "          await google.colab.output.renderOutput(dataTable, element);\n",
              "          const docLink = document.createElement('div');\n",
              "          docLink.innerHTML = docLinkHtml;\n",
              "          element.appendChild(docLink);\n",
              "        }\n",
              "      </script>\n",
              "    </div>\n",
              "  </div>\n",
              "  "
            ]
          },
          "metadata": {},
          "execution_count": 419
        }
      ]
    },
    {
      "cell_type": "code",
      "source": [
        "#Corroboramos valores nulos \n",
        "valores_nulos=filtroi_clean.isnull().sum()\n",
        "valores_nulos"
      ],
      "metadata": {
        "id": "gFSzFGCMQrBs",
        "outputId": "1ab0afcc-672f-43e3-bfb3-9b8dc99d804a",
        "colab": {
          "base_uri": "https://localhost:8080/"
        }
      },
      "execution_count": null,
      "outputs": [
        {
          "output_type": "execute_result",
          "data": {
            "text/plain": [
              "97_number_of_customers_in_store                        9\n",
              "268_number_fridges                                    14\n",
              "104_how_many_shelves_does_the_micro_retailer_have      7\n",
              "2_current_permanent_employees                        114\n",
              "4_number_permanent_employees_last_year               131\n",
              "103_number_own_fridges                               254\n",
              "145_number_direct_competitors                        129\n",
              "24_burnout                                           253\n",
              "272_card_days_receive_money                          248\n",
              "276_expected_days_informal_credit                    291\n",
              "36_credit_default_rate                               304\n",
              "315_frequency_topups                                 307\n",
              "316_frequency_utility_bills                          325\n",
              "317_home_deliveries                                  297\n",
              "62_frequency_only_services                           281\n",
              "78_number_home_deliveries_week                       326\n",
              "172_supplier_frequency                               176\n",
              "dtype: int64"
            ]
          },
          "metadata": {},
          "execution_count": 420
        }
      ]
    },
    {
      "cell_type": "code",
      "source": [
        "#Reemplazamos valores atípicos (nulos) del dataframe con \"mean\"\n",
        "#Realizamos una copia del dataframe\n",
        "data_clean=filtroi_clean.copy()\n",
        "data_clean=filtroi_clean.fillna(round(filtroi_clean.mean(),1))\n",
        "data_clean"
      ],
      "metadata": {
        "id": "CCPDZ7syQsHO",
        "outputId": "53572b5e-17fa-4135-9045-86081bc64d59",
        "colab": {
          "base_uri": "https://localhost:8080/",
          "height": 488
        }
      },
      "execution_count": null,
      "outputs": [
        {
          "output_type": "execute_result",
          "data": {
            "text/plain": [
              "     97_number_of_customers_in_store  268_number_fridges  \\\n",
              "0                                1.0                 3.0   \n",
              "1                                2.0                 0.0   \n",
              "2                                2.0                 0.0   \n",
              "3                                1.0                 0.0   \n",
              "4                                3.0                 2.0   \n",
              "..                               ...                 ...   \n",
              "325                              0.0                 1.0   \n",
              "326                              1.0                 0.0   \n",
              "327                              3.0                 1.0   \n",
              "328                              0.0                 1.0   \n",
              "329                              1.0                 3.0   \n",
              "\n",
              "     104_how_many_shelves_does_the_micro_retailer_have  \\\n",
              "0                                                  3.0   \n",
              "1                                                  0.0   \n",
              "2                                                  0.0   \n",
              "3                                                  0.0   \n",
              "4                                                  3.0   \n",
              "..                                                 ...   \n",
              "325                                                7.0   \n",
              "326                                                5.0   \n",
              "327                                                1.0   \n",
              "328                                                1.0   \n",
              "329                                                1.0   \n",
              "\n",
              "     2_current_permanent_employees  4_number_permanent_employees_last_year  \\\n",
              "0                              2.0                                    10.0   \n",
              "1                              1.8                                     2.0   \n",
              "2                              1.8                                     2.0   \n",
              "3                              0.0                                     0.0   \n",
              "4                              1.8                                     2.0   \n",
              "..                             ...                                     ...   \n",
              "325                            4.0                                     2.0   \n",
              "326                            1.8                                     2.0   \n",
              "327                            1.8                                     2.0   \n",
              "328                            1.8                                     2.0   \n",
              "329                            1.8                                     2.0   \n",
              "\n",
              "     103_number_own_fridges  145_number_direct_competitors  24_burnout  \\\n",
              "0                       3.0                            5.0         2.0   \n",
              "1                       1.8                            3.7         3.9   \n",
              "2                       1.8                            3.7         3.9   \n",
              "3                       1.8                           10.0         3.9   \n",
              "4                       1.8                            3.7         3.9   \n",
              "..                      ...                            ...         ...   \n",
              "325                     1.8                            5.0         3.9   \n",
              "326                     1.8                            3.7         3.9   \n",
              "327                     1.8                            3.7         3.9   \n",
              "328                     1.8                            3.7         3.9   \n",
              "329                     1.8                            3.7         3.9   \n",
              "\n",
              "     272_card_days_receive_money  276_expected_days_informal_credit  \\\n",
              "0                            0.9                               10.8   \n",
              "1                            0.9                               10.8   \n",
              "2                            0.9                               10.8   \n",
              "3                            0.9                               10.8   \n",
              "4                            0.9                               10.8   \n",
              "..                           ...                                ...   \n",
              "325                          1.0                               10.8   \n",
              "326                          0.9                               10.8   \n",
              "327                          0.9                               10.8   \n",
              "328                          0.9                               10.8   \n",
              "329                          0.9                               10.8   \n",
              "\n",
              "     36_credit_default_rate  315_frequency_topups  \\\n",
              "0                       1.5                  20.0   \n",
              "1                       1.5                   9.3   \n",
              "2                       1.5                   9.3   \n",
              "3                       1.5                   9.3   \n",
              "4                       1.5                   9.3   \n",
              "..                      ...                   ...   \n",
              "325                     1.5                   9.3   \n",
              "326                     1.5                   9.3   \n",
              "327                     1.5                   9.3   \n",
              "328                     1.5                   9.3   \n",
              "329                     1.5                   9.3   \n",
              "\n",
              "     316_frequency_utility_bills  317_home_deliveries  \\\n",
              "0                           12.2                  8.4   \n",
              "1                           12.2                  8.4   \n",
              "2                           12.2                  8.4   \n",
              "3                           12.2                  8.4   \n",
              "4                           12.2                  8.4   \n",
              "..                           ...                  ...   \n",
              "325                         12.2                  8.4   \n",
              "326                         12.2                  8.4   \n",
              "327                         12.2                  8.4   \n",
              "328                         12.2                  8.4   \n",
              "329                         12.2                  8.4   \n",
              "\n",
              "     62_frequency_only_services  78_number_home_deliveries_week  \\\n",
              "0                          10.0                             2.0   \n",
              "1                           6.3                             2.0   \n",
              "2                           6.3                             2.0   \n",
              "3                           6.3                             2.0   \n",
              "4                           6.3                             2.0   \n",
              "..                          ...                             ...   \n",
              "325                         1.0                             1.0   \n",
              "326                         6.3                             2.0   \n",
              "327                         6.3                             2.0   \n",
              "328                         6.3                             2.0   \n",
              "329                         6.3                             2.0   \n",
              "\n",
              "     172_supplier_frequency  \n",
              "0                       2.0  \n",
              "1                       2.7  \n",
              "2                       2.7  \n",
              "3                       1.0  \n",
              "4                       2.7  \n",
              "..                      ...  \n",
              "325                     5.0  \n",
              "326                     2.7  \n",
              "327                     2.7  \n",
              "328                     2.7  \n",
              "329                     2.7  \n",
              "\n",
              "[330 rows x 17 columns]"
            ],
            "text/html": [
              "\n",
              "  <div id=\"df-bf17ecc1-278f-4877-896e-dcd69ccfdf8f\">\n",
              "    <div class=\"colab-df-container\">\n",
              "      <div>\n",
              "<style scoped>\n",
              "    .dataframe tbody tr th:only-of-type {\n",
              "        vertical-align: middle;\n",
              "    }\n",
              "\n",
              "    .dataframe tbody tr th {\n",
              "        vertical-align: top;\n",
              "    }\n",
              "\n",
              "    .dataframe thead th {\n",
              "        text-align: right;\n",
              "    }\n",
              "</style>\n",
              "<table border=\"1\" class=\"dataframe\">\n",
              "  <thead>\n",
              "    <tr style=\"text-align: right;\">\n",
              "      <th></th>\n",
              "      <th>97_number_of_customers_in_store</th>\n",
              "      <th>268_number_fridges</th>\n",
              "      <th>104_how_many_shelves_does_the_micro_retailer_have</th>\n",
              "      <th>2_current_permanent_employees</th>\n",
              "      <th>4_number_permanent_employees_last_year</th>\n",
              "      <th>103_number_own_fridges</th>\n",
              "      <th>145_number_direct_competitors</th>\n",
              "      <th>24_burnout</th>\n",
              "      <th>272_card_days_receive_money</th>\n",
              "      <th>276_expected_days_informal_credit</th>\n",
              "      <th>36_credit_default_rate</th>\n",
              "      <th>315_frequency_topups</th>\n",
              "      <th>316_frequency_utility_bills</th>\n",
              "      <th>317_home_deliveries</th>\n",
              "      <th>62_frequency_only_services</th>\n",
              "      <th>78_number_home_deliveries_week</th>\n",
              "      <th>172_supplier_frequency</th>\n",
              "    </tr>\n",
              "  </thead>\n",
              "  <tbody>\n",
              "    <tr>\n",
              "      <th>0</th>\n",
              "      <td>1.0</td>\n",
              "      <td>3.0</td>\n",
              "      <td>3.0</td>\n",
              "      <td>2.0</td>\n",
              "      <td>10.0</td>\n",
              "      <td>3.0</td>\n",
              "      <td>5.0</td>\n",
              "      <td>2.0</td>\n",
              "      <td>0.9</td>\n",
              "      <td>10.8</td>\n",
              "      <td>1.5</td>\n",
              "      <td>20.0</td>\n",
              "      <td>12.2</td>\n",
              "      <td>8.4</td>\n",
              "      <td>10.0</td>\n",
              "      <td>2.0</td>\n",
              "      <td>2.0</td>\n",
              "    </tr>\n",
              "    <tr>\n",
              "      <th>1</th>\n",
              "      <td>2.0</td>\n",
              "      <td>0.0</td>\n",
              "      <td>0.0</td>\n",
              "      <td>1.8</td>\n",
              "      <td>2.0</td>\n",
              "      <td>1.8</td>\n",
              "      <td>3.7</td>\n",
              "      <td>3.9</td>\n",
              "      <td>0.9</td>\n",
              "      <td>10.8</td>\n",
              "      <td>1.5</td>\n",
              "      <td>9.3</td>\n",
              "      <td>12.2</td>\n",
              "      <td>8.4</td>\n",
              "      <td>6.3</td>\n",
              "      <td>2.0</td>\n",
              "      <td>2.7</td>\n",
              "    </tr>\n",
              "    <tr>\n",
              "      <th>2</th>\n",
              "      <td>2.0</td>\n",
              "      <td>0.0</td>\n",
              "      <td>0.0</td>\n",
              "      <td>1.8</td>\n",
              "      <td>2.0</td>\n",
              "      <td>1.8</td>\n",
              "      <td>3.7</td>\n",
              "      <td>3.9</td>\n",
              "      <td>0.9</td>\n",
              "      <td>10.8</td>\n",
              "      <td>1.5</td>\n",
              "      <td>9.3</td>\n",
              "      <td>12.2</td>\n",
              "      <td>8.4</td>\n",
              "      <td>6.3</td>\n",
              "      <td>2.0</td>\n",
              "      <td>2.7</td>\n",
              "    </tr>\n",
              "    <tr>\n",
              "      <th>3</th>\n",
              "      <td>1.0</td>\n",
              "      <td>0.0</td>\n",
              "      <td>0.0</td>\n",
              "      <td>0.0</td>\n",
              "      <td>0.0</td>\n",
              "      <td>1.8</td>\n",
              "      <td>10.0</td>\n",
              "      <td>3.9</td>\n",
              "      <td>0.9</td>\n",
              "      <td>10.8</td>\n",
              "      <td>1.5</td>\n",
              "      <td>9.3</td>\n",
              "      <td>12.2</td>\n",
              "      <td>8.4</td>\n",
              "      <td>6.3</td>\n",
              "      <td>2.0</td>\n",
              "      <td>1.0</td>\n",
              "    </tr>\n",
              "    <tr>\n",
              "      <th>4</th>\n",
              "      <td>3.0</td>\n",
              "      <td>2.0</td>\n",
              "      <td>3.0</td>\n",
              "      <td>1.8</td>\n",
              "      <td>2.0</td>\n",
              "      <td>1.8</td>\n",
              "      <td>3.7</td>\n",
              "      <td>3.9</td>\n",
              "      <td>0.9</td>\n",
              "      <td>10.8</td>\n",
              "      <td>1.5</td>\n",
              "      <td>9.3</td>\n",
              "      <td>12.2</td>\n",
              "      <td>8.4</td>\n",
              "      <td>6.3</td>\n",
              "      <td>2.0</td>\n",
              "      <td>2.7</td>\n",
              "    </tr>\n",
              "    <tr>\n",
              "      <th>...</th>\n",
              "      <td>...</td>\n",
              "      <td>...</td>\n",
              "      <td>...</td>\n",
              "      <td>...</td>\n",
              "      <td>...</td>\n",
              "      <td>...</td>\n",
              "      <td>...</td>\n",
              "      <td>...</td>\n",
              "      <td>...</td>\n",
              "      <td>...</td>\n",
              "      <td>...</td>\n",
              "      <td>...</td>\n",
              "      <td>...</td>\n",
              "      <td>...</td>\n",
              "      <td>...</td>\n",
              "      <td>...</td>\n",
              "      <td>...</td>\n",
              "    </tr>\n",
              "    <tr>\n",
              "      <th>325</th>\n",
              "      <td>0.0</td>\n",
              "      <td>1.0</td>\n",
              "      <td>7.0</td>\n",
              "      <td>4.0</td>\n",
              "      <td>2.0</td>\n",
              "      <td>1.8</td>\n",
              "      <td>5.0</td>\n",
              "      <td>3.9</td>\n",
              "      <td>1.0</td>\n",
              "      <td>10.8</td>\n",
              "      <td>1.5</td>\n",
              "      <td>9.3</td>\n",
              "      <td>12.2</td>\n",
              "      <td>8.4</td>\n",
              "      <td>1.0</td>\n",
              "      <td>1.0</td>\n",
              "      <td>5.0</td>\n",
              "    </tr>\n",
              "    <tr>\n",
              "      <th>326</th>\n",
              "      <td>1.0</td>\n",
              "      <td>0.0</td>\n",
              "      <td>5.0</td>\n",
              "      <td>1.8</td>\n",
              "      <td>2.0</td>\n",
              "      <td>1.8</td>\n",
              "      <td>3.7</td>\n",
              "      <td>3.9</td>\n",
              "      <td>0.9</td>\n",
              "      <td>10.8</td>\n",
              "      <td>1.5</td>\n",
              "      <td>9.3</td>\n",
              "      <td>12.2</td>\n",
              "      <td>8.4</td>\n",
              "      <td>6.3</td>\n",
              "      <td>2.0</td>\n",
              "      <td>2.7</td>\n",
              "    </tr>\n",
              "    <tr>\n",
              "      <th>327</th>\n",
              "      <td>3.0</td>\n",
              "      <td>1.0</td>\n",
              "      <td>1.0</td>\n",
              "      <td>1.8</td>\n",
              "      <td>2.0</td>\n",
              "      <td>1.8</td>\n",
              "      <td>3.7</td>\n",
              "      <td>3.9</td>\n",
              "      <td>0.9</td>\n",
              "      <td>10.8</td>\n",
              "      <td>1.5</td>\n",
              "      <td>9.3</td>\n",
              "      <td>12.2</td>\n",
              "      <td>8.4</td>\n",
              "      <td>6.3</td>\n",
              "      <td>2.0</td>\n",
              "      <td>2.7</td>\n",
              "    </tr>\n",
              "    <tr>\n",
              "      <th>328</th>\n",
              "      <td>0.0</td>\n",
              "      <td>1.0</td>\n",
              "      <td>1.0</td>\n",
              "      <td>1.8</td>\n",
              "      <td>2.0</td>\n",
              "      <td>1.8</td>\n",
              "      <td>3.7</td>\n",
              "      <td>3.9</td>\n",
              "      <td>0.9</td>\n",
              "      <td>10.8</td>\n",
              "      <td>1.5</td>\n",
              "      <td>9.3</td>\n",
              "      <td>12.2</td>\n",
              "      <td>8.4</td>\n",
              "      <td>6.3</td>\n",
              "      <td>2.0</td>\n",
              "      <td>2.7</td>\n",
              "    </tr>\n",
              "    <tr>\n",
              "      <th>329</th>\n",
              "      <td>1.0</td>\n",
              "      <td>3.0</td>\n",
              "      <td>1.0</td>\n",
              "      <td>1.8</td>\n",
              "      <td>2.0</td>\n",
              "      <td>1.8</td>\n",
              "      <td>3.7</td>\n",
              "      <td>3.9</td>\n",
              "      <td>0.9</td>\n",
              "      <td>10.8</td>\n",
              "      <td>1.5</td>\n",
              "      <td>9.3</td>\n",
              "      <td>12.2</td>\n",
              "      <td>8.4</td>\n",
              "      <td>6.3</td>\n",
              "      <td>2.0</td>\n",
              "      <td>2.7</td>\n",
              "    </tr>\n",
              "  </tbody>\n",
              "</table>\n",
              "<p>330 rows × 17 columns</p>\n",
              "</div>\n",
              "      <button class=\"colab-df-convert\" onclick=\"convertToInteractive('df-bf17ecc1-278f-4877-896e-dcd69ccfdf8f')\"\n",
              "              title=\"Convert this dataframe to an interactive table.\"\n",
              "              style=\"display:none;\">\n",
              "        \n",
              "  <svg xmlns=\"http://www.w3.org/2000/svg\" height=\"24px\"viewBox=\"0 0 24 24\"\n",
              "       width=\"24px\">\n",
              "    <path d=\"M0 0h24v24H0V0z\" fill=\"none\"/>\n",
              "    <path d=\"M18.56 5.44l.94 2.06.94-2.06 2.06-.94-2.06-.94-.94-2.06-.94 2.06-2.06.94zm-11 1L8.5 8.5l.94-2.06 2.06-.94-2.06-.94L8.5 2.5l-.94 2.06-2.06.94zm10 10l.94 2.06.94-2.06 2.06-.94-2.06-.94-.94-2.06-.94 2.06-2.06.94z\"/><path d=\"M17.41 7.96l-1.37-1.37c-.4-.4-.92-.59-1.43-.59-.52 0-1.04.2-1.43.59L10.3 9.45l-7.72 7.72c-.78.78-.78 2.05 0 2.83L4 21.41c.39.39.9.59 1.41.59.51 0 1.02-.2 1.41-.59l7.78-7.78 2.81-2.81c.8-.78.8-2.07 0-2.86zM5.41 20L4 18.59l7.72-7.72 1.47 1.35L5.41 20z\"/>\n",
              "  </svg>\n",
              "      </button>\n",
              "      \n",
              "  <style>\n",
              "    .colab-df-container {\n",
              "      display:flex;\n",
              "      flex-wrap:wrap;\n",
              "      gap: 12px;\n",
              "    }\n",
              "\n",
              "    .colab-df-convert {\n",
              "      background-color: #E8F0FE;\n",
              "      border: none;\n",
              "      border-radius: 50%;\n",
              "      cursor: pointer;\n",
              "      display: none;\n",
              "      fill: #1967D2;\n",
              "      height: 32px;\n",
              "      padding: 0 0 0 0;\n",
              "      width: 32px;\n",
              "    }\n",
              "\n",
              "    .colab-df-convert:hover {\n",
              "      background-color: #E2EBFA;\n",
              "      box-shadow: 0px 1px 2px rgba(60, 64, 67, 0.3), 0px 1px 3px 1px rgba(60, 64, 67, 0.15);\n",
              "      fill: #174EA6;\n",
              "    }\n",
              "\n",
              "    [theme=dark] .colab-df-convert {\n",
              "      background-color: #3B4455;\n",
              "      fill: #D2E3FC;\n",
              "    }\n",
              "\n",
              "    [theme=dark] .colab-df-convert:hover {\n",
              "      background-color: #434B5C;\n",
              "      box-shadow: 0px 1px 3px 1px rgba(0, 0, 0, 0.15);\n",
              "      filter: drop-shadow(0px 1px 2px rgba(0, 0, 0, 0.3));\n",
              "      fill: #FFFFFF;\n",
              "    }\n",
              "  </style>\n",
              "\n",
              "      <script>\n",
              "        const buttonEl =\n",
              "          document.querySelector('#df-bf17ecc1-278f-4877-896e-dcd69ccfdf8f button.colab-df-convert');\n",
              "        buttonEl.style.display =\n",
              "          google.colab.kernel.accessAllowed ? 'block' : 'none';\n",
              "\n",
              "        async function convertToInteractive(key) {\n",
              "          const element = document.querySelector('#df-bf17ecc1-278f-4877-896e-dcd69ccfdf8f');\n",
              "          const dataTable =\n",
              "            await google.colab.kernel.invokeFunction('convertToInteractive',\n",
              "                                                     [key], {});\n",
              "          if (!dataTable) return;\n",
              "\n",
              "          const docLinkHtml = 'Like what you see? Visit the ' +\n",
              "            '<a target=\"_blank\" href=https://colab.research.google.com/notebooks/data_table.ipynb>data table notebook</a>'\n",
              "            + ' to learn more about interactive tables.';\n",
              "          element.innerHTML = '';\n",
              "          dataTable['output_type'] = 'display_data';\n",
              "          await google.colab.output.renderOutput(dataTable, element);\n",
              "          const docLink = document.createElement('div');\n",
              "          docLink.innerHTML = docLinkHtml;\n",
              "          element.appendChild(docLink);\n",
              "        }\n",
              "      </script>\n",
              "    </div>\n",
              "  </div>\n",
              "  "
            ]
          },
          "metadata": {},
          "execution_count": 421
        }
      ]
    },
    {
      "cell_type": "code",
      "source": [
        "Microretailer_Datos_Limpios = pd.concat([data_clean, filtro_col], axis=1)\n",
        "Microretailer_Datos_Limpios"
      ],
      "metadata": {
        "colab": {
          "base_uri": "https://localhost:8080/",
          "height": 540
        },
        "id": "kQ4JqLT0QvHH",
        "outputId": "a948c424-1af5-4efa-e4f5-5152dff7e32b"
      },
      "execution_count": null,
      "outputs": [
        {
          "output_type": "execute_result",
          "data": {
            "text/plain": [
              "     97_number_of_customers_in_store  268_number_fridges  \\\n",
              "0                                1.0                 3.0   \n",
              "1                                2.0                 0.0   \n",
              "2                                2.0                 0.0   \n",
              "3                                1.0                 0.0   \n",
              "4                                3.0                 2.0   \n",
              "..                               ...                 ...   \n",
              "325                              0.0                 1.0   \n",
              "326                              1.0                 0.0   \n",
              "327                              3.0                 1.0   \n",
              "328                              0.0                 1.0   \n",
              "329                              1.0                 3.0   \n",
              "\n",
              "     104_how_many_shelves_does_the_micro_retailer_have  \\\n",
              "0                                                  3.0   \n",
              "1                                                  0.0   \n",
              "2                                                  0.0   \n",
              "3                                                  0.0   \n",
              "4                                                  3.0   \n",
              "..                                                 ...   \n",
              "325                                                7.0   \n",
              "326                                                5.0   \n",
              "327                                                1.0   \n",
              "328                                                1.0   \n",
              "329                                                1.0   \n",
              "\n",
              "     2_current_permanent_employees  4_number_permanent_employees_last_year  \\\n",
              "0                              2.0                                    10.0   \n",
              "1                              1.8                                     2.0   \n",
              "2                              1.8                                     2.0   \n",
              "3                              0.0                                     0.0   \n",
              "4                              1.8                                     2.0   \n",
              "..                             ...                                     ...   \n",
              "325                            4.0                                     2.0   \n",
              "326                            1.8                                     2.0   \n",
              "327                            1.8                                     2.0   \n",
              "328                            1.8                                     2.0   \n",
              "329                            1.8                                     2.0   \n",
              "\n",
              "     103_number_own_fridges  145_number_direct_competitors  24_burnout  \\\n",
              "0                       3.0                            5.0         2.0   \n",
              "1                       1.8                            3.7         3.9   \n",
              "2                       1.8                            3.7         3.9   \n",
              "3                       1.8                           10.0         3.9   \n",
              "4                       1.8                            3.7         3.9   \n",
              "..                      ...                            ...         ...   \n",
              "325                     1.8                            5.0         3.9   \n",
              "326                     1.8                            3.7         3.9   \n",
              "327                     1.8                            3.7         3.9   \n",
              "328                     1.8                            3.7         3.9   \n",
              "329                     1.8                            3.7         3.9   \n",
              "\n",
              "     272_card_days_receive_money  276_expected_days_informal_credit  ...  \\\n",
              "0                            0.9                               10.8  ...   \n",
              "1                            0.9                               10.8  ...   \n",
              "2                            0.9                               10.8  ...   \n",
              "3                            0.9                               10.8  ...   \n",
              "4                            0.9                               10.8  ...   \n",
              "..                           ...                                ...  ...   \n",
              "325                          1.0                               10.8  ...   \n",
              "326                          0.9                               10.8  ...   \n",
              "327                          0.9                               10.8  ...   \n",
              "328                          0.9                               10.8  ...   \n",
              "329                          0.9                               10.8  ...   \n",
              "\n",
              "     261_technology_organization  262_technology_serve_customers  \\\n",
              "0                     De acuerdo  Ni de acuerdo ni en desacuerdo   \n",
              "1                        nothing                         nothing   \n",
              "2                        nothing                         nothing   \n",
              "3                  En desacuerdo                         nothing   \n",
              "4                        nothing                         nothing   \n",
              "..                           ...                             ...   \n",
              "325     Totalmente en desacuerdo        Totalmente en desacuerdo   \n",
              "326                      nothing                         nothing   \n",
              "327                      nothing                         nothing   \n",
              "328                      nothing                         nothing   \n",
              "329                      nothing                         nothing   \n",
              "\n",
              "        263_technology_secure_sales           264_technology_budget  \\\n",
              "0    Ni de acuerdo ni en desacuerdo  Ni de acuerdo ni en desacuerdo   \n",
              "1                           nothing                         nothing   \n",
              "2                           nothing                         nothing   \n",
              "3                     En desacuerdo        Totalmente en desacuerdo   \n",
              "4                           nothing                         nothing   \n",
              "..                              ...                             ...   \n",
              "325        Totalmente en desacuerdo        Totalmente en desacuerdo   \n",
              "326                         nothing                         nothing   \n",
              "327                         nothing                         nothing   \n",
              "328                         nothing                         nothing   \n",
              "329                         nothing                         nothing   \n",
              "\n",
              "     267_technology_investment_customer_preferences  \\\n",
              "0                    Ni de acuerdo ni en desacuerdo   \n",
              "1                                           nothing   \n",
              "2                                           nothing   \n",
              "3                                     En desacuerdo   \n",
              "4                                           nothing   \n",
              "..                                              ...   \n",
              "325                                      De acuerdo   \n",
              "326                                         nothing   \n",
              "327                                         nothing   \n",
              "328                                         nothing   \n",
              "329                                         nothing   \n",
              "\n",
              "     234_willingness_participate_workshop  318_shopkeeper_name  \\\n",
              "0                                      no              nothing   \n",
              "1                                 nothing              nothing   \n",
              "2                                 nothing              nothing   \n",
              "3                                      no              nothing   \n",
              "4                                 nothing              nothing   \n",
              "..                                    ...                  ...   \n",
              "325                                   yes               Frida    \n",
              "326                               nothing              nothing   \n",
              "327                               nothing              nothing   \n",
              "328                               nothing              nothing   \n",
              "329                               nothing              nothing   \n",
              "\n",
              "    319_shopkeepers_last_name  236_whatsapp              235_email  \n",
              "0                     nothing       nothing                nothing  \n",
              "1                     nothing       nothing                nothing  \n",
              "2                     nothing       nothing                nothing  \n",
              "3                     nothing       nothing                nothing  \n",
              "4                     nothing       nothing                nothing  \n",
              "..                        ...           ...                    ...  \n",
              "325         Juárez Hernández   2212380183.0  Hachi401096@gmail.com  \n",
              "326                   nothing       nothing                nothing  \n",
              "327                   nothing       nothing                nothing  \n",
              "328                   nothing       nothing                nothing  \n",
              "329                   nothing       nothing                nothing  \n",
              "\n",
              "[330 rows x 105 columns]"
            ],
            "text/html": [
              "\n",
              "  <div id=\"df-c96f3549-86d5-4086-a33a-065df1b181e0\">\n",
              "    <div class=\"colab-df-container\">\n",
              "      <div>\n",
              "<style scoped>\n",
              "    .dataframe tbody tr th:only-of-type {\n",
              "        vertical-align: middle;\n",
              "    }\n",
              "\n",
              "    .dataframe tbody tr th {\n",
              "        vertical-align: top;\n",
              "    }\n",
              "\n",
              "    .dataframe thead th {\n",
              "        text-align: right;\n",
              "    }\n",
              "</style>\n",
              "<table border=\"1\" class=\"dataframe\">\n",
              "  <thead>\n",
              "    <tr style=\"text-align: right;\">\n",
              "      <th></th>\n",
              "      <th>97_number_of_customers_in_store</th>\n",
              "      <th>268_number_fridges</th>\n",
              "      <th>104_how_many_shelves_does_the_micro_retailer_have</th>\n",
              "      <th>2_current_permanent_employees</th>\n",
              "      <th>4_number_permanent_employees_last_year</th>\n",
              "      <th>103_number_own_fridges</th>\n",
              "      <th>145_number_direct_competitors</th>\n",
              "      <th>24_burnout</th>\n",
              "      <th>272_card_days_receive_money</th>\n",
              "      <th>276_expected_days_informal_credit</th>\n",
              "      <th>...</th>\n",
              "      <th>261_technology_organization</th>\n",
              "      <th>262_technology_serve_customers</th>\n",
              "      <th>263_technology_secure_sales</th>\n",
              "      <th>264_technology_budget</th>\n",
              "      <th>267_technology_investment_customer_preferences</th>\n",
              "      <th>234_willingness_participate_workshop</th>\n",
              "      <th>318_shopkeeper_name</th>\n",
              "      <th>319_shopkeepers_last_name</th>\n",
              "      <th>236_whatsapp</th>\n",
              "      <th>235_email</th>\n",
              "    </tr>\n",
              "  </thead>\n",
              "  <tbody>\n",
              "    <tr>\n",
              "      <th>0</th>\n",
              "      <td>1.0</td>\n",
              "      <td>3.0</td>\n",
              "      <td>3.0</td>\n",
              "      <td>2.0</td>\n",
              "      <td>10.0</td>\n",
              "      <td>3.0</td>\n",
              "      <td>5.0</td>\n",
              "      <td>2.0</td>\n",
              "      <td>0.9</td>\n",
              "      <td>10.8</td>\n",
              "      <td>...</td>\n",
              "      <td>De acuerdo</td>\n",
              "      <td>Ni de acuerdo ni en desacuerdo</td>\n",
              "      <td>Ni de acuerdo ni en desacuerdo</td>\n",
              "      <td>Ni de acuerdo ni en desacuerdo</td>\n",
              "      <td>Ni de acuerdo ni en desacuerdo</td>\n",
              "      <td>no</td>\n",
              "      <td>nothing</td>\n",
              "      <td>nothing</td>\n",
              "      <td>nothing</td>\n",
              "      <td>nothing</td>\n",
              "    </tr>\n",
              "    <tr>\n",
              "      <th>1</th>\n",
              "      <td>2.0</td>\n",
              "      <td>0.0</td>\n",
              "      <td>0.0</td>\n",
              "      <td>1.8</td>\n",
              "      <td>2.0</td>\n",
              "      <td>1.8</td>\n",
              "      <td>3.7</td>\n",
              "      <td>3.9</td>\n",
              "      <td>0.9</td>\n",
              "      <td>10.8</td>\n",
              "      <td>...</td>\n",
              "      <td>nothing</td>\n",
              "      <td>nothing</td>\n",
              "      <td>nothing</td>\n",
              "      <td>nothing</td>\n",
              "      <td>nothing</td>\n",
              "      <td>nothing</td>\n",
              "      <td>nothing</td>\n",
              "      <td>nothing</td>\n",
              "      <td>nothing</td>\n",
              "      <td>nothing</td>\n",
              "    </tr>\n",
              "    <tr>\n",
              "      <th>2</th>\n",
              "      <td>2.0</td>\n",
              "      <td>0.0</td>\n",
              "      <td>0.0</td>\n",
              "      <td>1.8</td>\n",
              "      <td>2.0</td>\n",
              "      <td>1.8</td>\n",
              "      <td>3.7</td>\n",
              "      <td>3.9</td>\n",
              "      <td>0.9</td>\n",
              "      <td>10.8</td>\n",
              "      <td>...</td>\n",
              "      <td>nothing</td>\n",
              "      <td>nothing</td>\n",
              "      <td>nothing</td>\n",
              "      <td>nothing</td>\n",
              "      <td>nothing</td>\n",
              "      <td>nothing</td>\n",
              "      <td>nothing</td>\n",
              "      <td>nothing</td>\n",
              "      <td>nothing</td>\n",
              "      <td>nothing</td>\n",
              "    </tr>\n",
              "    <tr>\n",
              "      <th>3</th>\n",
              "      <td>1.0</td>\n",
              "      <td>0.0</td>\n",
              "      <td>0.0</td>\n",
              "      <td>0.0</td>\n",
              "      <td>0.0</td>\n",
              "      <td>1.8</td>\n",
              "      <td>10.0</td>\n",
              "      <td>3.9</td>\n",
              "      <td>0.9</td>\n",
              "      <td>10.8</td>\n",
              "      <td>...</td>\n",
              "      <td>En desacuerdo</td>\n",
              "      <td>nothing</td>\n",
              "      <td>En desacuerdo</td>\n",
              "      <td>Totalmente en desacuerdo</td>\n",
              "      <td>En desacuerdo</td>\n",
              "      <td>no</td>\n",
              "      <td>nothing</td>\n",
              "      <td>nothing</td>\n",
              "      <td>nothing</td>\n",
              "      <td>nothing</td>\n",
              "    </tr>\n",
              "    <tr>\n",
              "      <th>4</th>\n",
              "      <td>3.0</td>\n",
              "      <td>2.0</td>\n",
              "      <td>3.0</td>\n",
              "      <td>1.8</td>\n",
              "      <td>2.0</td>\n",
              "      <td>1.8</td>\n",
              "      <td>3.7</td>\n",
              "      <td>3.9</td>\n",
              "      <td>0.9</td>\n",
              "      <td>10.8</td>\n",
              "      <td>...</td>\n",
              "      <td>nothing</td>\n",
              "      <td>nothing</td>\n",
              "      <td>nothing</td>\n",
              "      <td>nothing</td>\n",
              "      <td>nothing</td>\n",
              "      <td>nothing</td>\n",
              "      <td>nothing</td>\n",
              "      <td>nothing</td>\n",
              "      <td>nothing</td>\n",
              "      <td>nothing</td>\n",
              "    </tr>\n",
              "    <tr>\n",
              "      <th>...</th>\n",
              "      <td>...</td>\n",
              "      <td>...</td>\n",
              "      <td>...</td>\n",
              "      <td>...</td>\n",
              "      <td>...</td>\n",
              "      <td>...</td>\n",
              "      <td>...</td>\n",
              "      <td>...</td>\n",
              "      <td>...</td>\n",
              "      <td>...</td>\n",
              "      <td>...</td>\n",
              "      <td>...</td>\n",
              "      <td>...</td>\n",
              "      <td>...</td>\n",
              "      <td>...</td>\n",
              "      <td>...</td>\n",
              "      <td>...</td>\n",
              "      <td>...</td>\n",
              "      <td>...</td>\n",
              "      <td>...</td>\n",
              "      <td>...</td>\n",
              "    </tr>\n",
              "    <tr>\n",
              "      <th>325</th>\n",
              "      <td>0.0</td>\n",
              "      <td>1.0</td>\n",
              "      <td>7.0</td>\n",
              "      <td>4.0</td>\n",
              "      <td>2.0</td>\n",
              "      <td>1.8</td>\n",
              "      <td>5.0</td>\n",
              "      <td>3.9</td>\n",
              "      <td>1.0</td>\n",
              "      <td>10.8</td>\n",
              "      <td>...</td>\n",
              "      <td>Totalmente en desacuerdo</td>\n",
              "      <td>Totalmente en desacuerdo</td>\n",
              "      <td>Totalmente en desacuerdo</td>\n",
              "      <td>Totalmente en desacuerdo</td>\n",
              "      <td>De acuerdo</td>\n",
              "      <td>yes</td>\n",
              "      <td>Frida</td>\n",
              "      <td>Juárez Hernández</td>\n",
              "      <td>2212380183.0</td>\n",
              "      <td>Hachi401096@gmail.com</td>\n",
              "    </tr>\n",
              "    <tr>\n",
              "      <th>326</th>\n",
              "      <td>1.0</td>\n",
              "      <td>0.0</td>\n",
              "      <td>5.0</td>\n",
              "      <td>1.8</td>\n",
              "      <td>2.0</td>\n",
              "      <td>1.8</td>\n",
              "      <td>3.7</td>\n",
              "      <td>3.9</td>\n",
              "      <td>0.9</td>\n",
              "      <td>10.8</td>\n",
              "      <td>...</td>\n",
              "      <td>nothing</td>\n",
              "      <td>nothing</td>\n",
              "      <td>nothing</td>\n",
              "      <td>nothing</td>\n",
              "      <td>nothing</td>\n",
              "      <td>nothing</td>\n",
              "      <td>nothing</td>\n",
              "      <td>nothing</td>\n",
              "      <td>nothing</td>\n",
              "      <td>nothing</td>\n",
              "    </tr>\n",
              "    <tr>\n",
              "      <th>327</th>\n",
              "      <td>3.0</td>\n",
              "      <td>1.0</td>\n",
              "      <td>1.0</td>\n",
              "      <td>1.8</td>\n",
              "      <td>2.0</td>\n",
              "      <td>1.8</td>\n",
              "      <td>3.7</td>\n",
              "      <td>3.9</td>\n",
              "      <td>0.9</td>\n",
              "      <td>10.8</td>\n",
              "      <td>...</td>\n",
              "      <td>nothing</td>\n",
              "      <td>nothing</td>\n",
              "      <td>nothing</td>\n",
              "      <td>nothing</td>\n",
              "      <td>nothing</td>\n",
              "      <td>nothing</td>\n",
              "      <td>nothing</td>\n",
              "      <td>nothing</td>\n",
              "      <td>nothing</td>\n",
              "      <td>nothing</td>\n",
              "    </tr>\n",
              "    <tr>\n",
              "      <th>328</th>\n",
              "      <td>0.0</td>\n",
              "      <td>1.0</td>\n",
              "      <td>1.0</td>\n",
              "      <td>1.8</td>\n",
              "      <td>2.0</td>\n",
              "      <td>1.8</td>\n",
              "      <td>3.7</td>\n",
              "      <td>3.9</td>\n",
              "      <td>0.9</td>\n",
              "      <td>10.8</td>\n",
              "      <td>...</td>\n",
              "      <td>nothing</td>\n",
              "      <td>nothing</td>\n",
              "      <td>nothing</td>\n",
              "      <td>nothing</td>\n",
              "      <td>nothing</td>\n",
              "      <td>nothing</td>\n",
              "      <td>nothing</td>\n",
              "      <td>nothing</td>\n",
              "      <td>nothing</td>\n",
              "      <td>nothing</td>\n",
              "    </tr>\n",
              "    <tr>\n",
              "      <th>329</th>\n",
              "      <td>1.0</td>\n",
              "      <td>3.0</td>\n",
              "      <td>1.0</td>\n",
              "      <td>1.8</td>\n",
              "      <td>2.0</td>\n",
              "      <td>1.8</td>\n",
              "      <td>3.7</td>\n",
              "      <td>3.9</td>\n",
              "      <td>0.9</td>\n",
              "      <td>10.8</td>\n",
              "      <td>...</td>\n",
              "      <td>nothing</td>\n",
              "      <td>nothing</td>\n",
              "      <td>nothing</td>\n",
              "      <td>nothing</td>\n",
              "      <td>nothing</td>\n",
              "      <td>nothing</td>\n",
              "      <td>nothing</td>\n",
              "      <td>nothing</td>\n",
              "      <td>nothing</td>\n",
              "      <td>nothing</td>\n",
              "    </tr>\n",
              "  </tbody>\n",
              "</table>\n",
              "<p>330 rows × 105 columns</p>\n",
              "</div>\n",
              "      <button class=\"colab-df-convert\" onclick=\"convertToInteractive('df-c96f3549-86d5-4086-a33a-065df1b181e0')\"\n",
              "              title=\"Convert this dataframe to an interactive table.\"\n",
              "              style=\"display:none;\">\n",
              "        \n",
              "  <svg xmlns=\"http://www.w3.org/2000/svg\" height=\"24px\"viewBox=\"0 0 24 24\"\n",
              "       width=\"24px\">\n",
              "    <path d=\"M0 0h24v24H0V0z\" fill=\"none\"/>\n",
              "    <path d=\"M18.56 5.44l.94 2.06.94-2.06 2.06-.94-2.06-.94-.94-2.06-.94 2.06-2.06.94zm-11 1L8.5 8.5l.94-2.06 2.06-.94-2.06-.94L8.5 2.5l-.94 2.06-2.06.94zm10 10l.94 2.06.94-2.06 2.06-.94-2.06-.94-.94-2.06-.94 2.06-2.06.94z\"/><path d=\"M17.41 7.96l-1.37-1.37c-.4-.4-.92-.59-1.43-.59-.52 0-1.04.2-1.43.59L10.3 9.45l-7.72 7.72c-.78.78-.78 2.05 0 2.83L4 21.41c.39.39.9.59 1.41.59.51 0 1.02-.2 1.41-.59l7.78-7.78 2.81-2.81c.8-.78.8-2.07 0-2.86zM5.41 20L4 18.59l7.72-7.72 1.47 1.35L5.41 20z\"/>\n",
              "  </svg>\n",
              "      </button>\n",
              "      \n",
              "  <style>\n",
              "    .colab-df-container {\n",
              "      display:flex;\n",
              "      flex-wrap:wrap;\n",
              "      gap: 12px;\n",
              "    }\n",
              "\n",
              "    .colab-df-convert {\n",
              "      background-color: #E8F0FE;\n",
              "      border: none;\n",
              "      border-radius: 50%;\n",
              "      cursor: pointer;\n",
              "      display: none;\n",
              "      fill: #1967D2;\n",
              "      height: 32px;\n",
              "      padding: 0 0 0 0;\n",
              "      width: 32px;\n",
              "    }\n",
              "\n",
              "    .colab-df-convert:hover {\n",
              "      background-color: #E2EBFA;\n",
              "      box-shadow: 0px 1px 2px rgba(60, 64, 67, 0.3), 0px 1px 3px 1px rgba(60, 64, 67, 0.15);\n",
              "      fill: #174EA6;\n",
              "    }\n",
              "\n",
              "    [theme=dark] .colab-df-convert {\n",
              "      background-color: #3B4455;\n",
              "      fill: #D2E3FC;\n",
              "    }\n",
              "\n",
              "    [theme=dark] .colab-df-convert:hover {\n",
              "      background-color: #434B5C;\n",
              "      box-shadow: 0px 1px 3px 1px rgba(0, 0, 0, 0.15);\n",
              "      filter: drop-shadow(0px 1px 2px rgba(0, 0, 0, 0.3));\n",
              "      fill: #FFFFFF;\n",
              "    }\n",
              "  </style>\n",
              "\n",
              "      <script>\n",
              "        const buttonEl =\n",
              "          document.querySelector('#df-c96f3549-86d5-4086-a33a-065df1b181e0 button.colab-df-convert');\n",
              "        buttonEl.style.display =\n",
              "          google.colab.kernel.accessAllowed ? 'block' : 'none';\n",
              "\n",
              "        async function convertToInteractive(key) {\n",
              "          const element = document.querySelector('#df-c96f3549-86d5-4086-a33a-065df1b181e0');\n",
              "          const dataTable =\n",
              "            await google.colab.kernel.invokeFunction('convertToInteractive',\n",
              "                                                     [key], {});\n",
              "          if (!dataTable) return;\n",
              "\n",
              "          const docLinkHtml = 'Like what you see? Visit the ' +\n",
              "            '<a target=\"_blank\" href=https://colab.research.google.com/notebooks/data_table.ipynb>data table notebook</a>'\n",
              "            + ' to learn more about interactive tables.';\n",
              "          element.innerHTML = '';\n",
              "          dataTable['output_type'] = 'display_data';\n",
              "          await google.colab.output.renderOutput(dataTable, element);\n",
              "          const docLink = document.createElement('div');\n",
              "          docLink.innerHTML = docLinkHtml;\n",
              "          element.appendChild(docLink);\n",
              "        }\n",
              "      </script>\n",
              "    </div>\n",
              "  </div>\n",
              "  "
            ]
          },
          "metadata": {},
          "execution_count": 422
        }
      ]
    },
    {
      "cell_type": "code",
      "source": [
        "#Convertir DataFrame a CSV \n",
        "Microretailer_Datos_Limpios.to_csv(\"Micro_limpio.csv\")"
      ],
      "metadata": {
        "id": "IzP6kMQsBPvu"
      },
      "execution_count": null,
      "outputs": []
    },
    {
      "cell_type": "code",
      "source": [
        "#Descargar archivo filtrado en csv \n",
        "from google.colab import files \n",
        "files.download(\"Micro_limpio.csv\")"
      ],
      "metadata": {
        "colab": {
          "base_uri": "https://localhost:8080/",
          "height": 34
        },
        "id": "6el99T6mBWXC",
        "outputId": "c3db2732-acb6-4cc7-9932-959c38244dce"
      },
      "execution_count": null,
      "outputs": [
        {
          "output_type": "display_data",
          "data": {
            "text/plain": [
              "<IPython.core.display.Javascript object>"
            ],
            "application/javascript": [
              "\n",
              "    async function download(id, filename, size) {\n",
              "      if (!google.colab.kernel.accessAllowed) {\n",
              "        return;\n",
              "      }\n",
              "      const div = document.createElement('div');\n",
              "      const label = document.createElement('label');\n",
              "      label.textContent = `Downloading \"${filename}\": `;\n",
              "      div.appendChild(label);\n",
              "      const progress = document.createElement('progress');\n",
              "      progress.max = size;\n",
              "      div.appendChild(progress);\n",
              "      document.body.appendChild(div);\n",
              "\n",
              "      const buffers = [];\n",
              "      let downloaded = 0;\n",
              "\n",
              "      const channel = await google.colab.kernel.comms.open(id);\n",
              "      // Send a message to notify the kernel that we're ready.\n",
              "      channel.send({})\n",
              "\n",
              "      for await (const message of channel.messages) {\n",
              "        // Send a message to notify the kernel that we're ready.\n",
              "        channel.send({})\n",
              "        if (message.buffers) {\n",
              "          for (const buffer of message.buffers) {\n",
              "            buffers.push(buffer);\n",
              "            downloaded += buffer.byteLength;\n",
              "            progress.value = downloaded;\n",
              "          }\n",
              "        }\n",
              "      }\n",
              "      const blob = new Blob(buffers, {type: 'application/binary'});\n",
              "      const a = document.createElement('a');\n",
              "      a.href = window.URL.createObjectURL(blob);\n",
              "      a.download = filename;\n",
              "      div.appendChild(a);\n",
              "      a.click();\n",
              "      div.remove();\n",
              "    }\n",
              "  "
            ]
          },
          "metadata": {}
        },
        {
          "output_type": "display_data",
          "data": {
            "text/plain": [
              "<IPython.core.display.Javascript object>"
            ],
            "application/javascript": [
              "download(\"download_4f80da47-e6e2-41f3-83b8-1298c2913ae6\", \"Micro_limpio.csv\", 394028)"
            ]
          },
          "metadata": {}
        }
      ]
    },
    {
      "cell_type": "markdown",
      "source": [
        "Casos de Correlación"
      ],
      "metadata": {
        "id": "7sbTUrMiZSfd"
      }
    },
    {
      "cell_type": "markdown",
      "source": [
        "1."
      ],
      "metadata": {
        "id": "_JZ8fxiuZWwR"
      }
    },
    {
      "cell_type": "code",
      "source": [
        "from turtle import color\n",
        "\n",
        "sns.scatterplot(x='145_number_direct_competitors', y='97_number_of_customers_in_store', color=\"blue\", data=Microretailer_Datos_Limpios)\n",
        "sns.scatterplot(x='272_card_days_receive_money', y='97_number_of_customers_in_store', color=\"red\", data=Microretailer_Datos_Limpios)\n",
        "sns.scatterplot(x='276_expected_days_informal_credit', y='97_number_of_customers_in_store', color=\"yellow\", data=Microretailer_Datos_Limpios)"
      ],
      "metadata": {
        "colab": {
          "base_uri": "https://localhost:8080/",
          "height": 297
        },
        "id": "kJmLrlCXZU7v",
        "outputId": "12694bcc-724b-4e86-815d-5ca111e1ce66"
      },
      "execution_count": null,
      "outputs": [
        {
          "output_type": "execute_result",
          "data": {
            "text/plain": [
              "<matplotlib.axes._subplots.AxesSubplot at 0x7fbe49733310>"
            ]
          },
          "metadata": {},
          "execution_count": 425
        },
        {
          "output_type": "display_data",
          "data": {
            "text/plain": [
              "<Figure size 432x288 with 1 Axes>"
            ],
            "image/png": "[encoded data removed]"
          },
          "metadata": {
            "needs_background": "light"
          }
        }
      ]
    },
    {
      "cell_type": "code",
      "source": [
        "#Declaramos las variables dependientes e independientes para la regresión lineal\n",
        "Vars_Indep= Microretailer_Datos_Limpios[['145_number_direct_competitors', '272_card_days_receive_money','276_expected_days_informal_credit']]\n",
        "Var_Dep= Microretailer_Datos_Limpios['97_number_of_customers_in_store']"
      ],
      "metadata": {
        "id": "7mh3CkiiilNV"
      },
      "execution_count": null,
      "outputs": []
    },
    {
      "cell_type": "code",
      "source": [
        "#Se define model como la función de regresión lineal\n",
        "from sklearn.linear_model import LinearRegression\n",
        "model= LinearRegression()"
      ],
      "metadata": {
        "id": "J2NphmuCi2gn"
      },
      "execution_count": null,
      "outputs": []
    },
    {
      "cell_type": "code",
      "source": [
        "#Verificamos la función relacionada al modelo\n",
        "type(model)"
      ],
      "metadata": {
        "colab": {
          "base_uri": "https://localhost:8080/"
        },
        "id": "B2aqXa3oi5QO",
        "outputId": "5c6a198d-7983-472f-9bc6-aa61bf5a2a40"
      },
      "execution_count": null,
      "outputs": [
        {
          "output_type": "execute_result",
          "data": {
            "text/plain": [
              "sklearn.linear_model._base.LinearRegression"
            ]
          },
          "metadata": {},
          "execution_count": 428
        }
      ]
    },
    {
      "cell_type": "code",
      "source": [
        "#Ajustamos el modelo con las variables antes declaradas\n",
        "model.fit(X=Vars_Indep, y=Var_Dep)"
      ],
      "metadata": {
        "colab": {
          "base_uri": "https://localhost:8080/"
        },
        "id": "RYpP7BC9i860",
        "outputId": "d41d6557-84a8-42e3-8082-9c1337ac2ed2"
      },
      "execution_count": null,
      "outputs": [
        {
          "output_type": "execute_result",
          "data": {
            "text/plain": [
              "LinearRegression()"
            ]
          },
          "metadata": {},
          "execution_count": 429
        }
      ]
    },
    {
      "cell_type": "code",
      "source": [
        "#Verificamos los coeficientes obtenidos para el modelo ajustado\n",
        "model.__dict__"
      ],
      "metadata": {
        "colab": {
          "base_uri": "https://localhost:8080/"
        },
        "id": "N2ZlObBJroNt",
        "outputId": "7f97b12b-6108-4c42-a0d6-da6b446d08ef"
      },
      "execution_count": null,
      "outputs": [
        {
          "output_type": "execute_result",
          "data": {
            "text/plain": [
              "{'fit_intercept': True,\n",
              " 'normalize': 'deprecated',\n",
              " 'copy_X': True,\n",
              " 'n_jobs': None,\n",
              " 'positive': False,\n",
              " 'feature_names_in_': array(['145_number_direct_competitors', '272_card_days_receive_money',\n",
              "        '276_expected_days_informal_credit'], dtype=object),\n",
              " 'n_features_in_': 3,\n",
              " 'coef_': array([ 0.00085021, -0.54875961, -0.04272498]),\n",
              " '_residues': 584.871721249838,\n",
              " 'rank_': 3,\n",
              " 'singular_': array([61.45779777, 42.86544434,  5.71821799]),\n",
              " 'intercept_': 2.144628746732185}"
            ]
          },
          "metadata": {},
          "execution_count": 430
        }
      ]
    },
    {
      "cell_type": "code",
      "source": [
        "#Evaluamos la eficiencia del modelo obtenido por medio del coeficiente R2 Determinación\n",
        "model.score(Vars_Indep,Var_Dep)"
      ],
      "metadata": {
        "colab": {
          "base_uri": "https://localhost:8080/"
        },
        "id": "UbsXxooLrryM",
        "outputId": "0a940d86-d11a-4e69-8b76-c083addf050a"
      },
      "execution_count": null,
      "outputs": [
        {
          "output_type": "execute_result",
          "data": {
            "text/plain": [
              "0.026489981050868083"
            ]
          },
          "metadata": {},
          "execution_count": 431
        }
      ]
    },
    {
      "cell_type": "markdown",
      "source": [
        "MODELO PREDICTIVO"
      ],
      "metadata": {
        "id": "3VQqoGaWrvtj"
      }
    },
    {
      "cell_type": "code",
      "source": [
        "#Predecimos los valores de total de accidentes a partir de las variables: \"alcohol\", \"speeding\" y \"no_previous\"\n",
        "y_pred= model.predict(X=Microretailer_Datos_Limpios[['268_number_fridges', '272_card_days_receive_money', '276_expected_days_informal_credit']])\n",
        "y_pred"
      ],
      "metadata": {
        "id": "dnzwU5dGrxrG",
        "outputId": "9e9dcd58-a63f-4520-a45a-81e1af54d82c",
        "colab": {
          "base_uri": "https://localhost:8080/"
        }
      },
      "execution_count": null,
      "outputs": [
        {
          "output_type": "stream",
          "name": "stderr",
          "text": [
            "/usr/local/lib/python3.7/dist-packages/sklearn/base.py:493: FutureWarning: The feature names should match those that were passed during fit. Starting version 1.2, an error will be raised.\n",
            "Feature names unseen at fit time:\n",
            "- 268_number_fridges\n",
            "Feature names seen at fit time, yet now missing:\n",
            "- 145_number_direct_competitors\n",
            "\n",
            "  warnings.warn(message, FutureWarning)\n"
          ]
        },
        {
          "output_type": "execute_result",
          "data": {
            "text/plain": [
              "array([1.19186594, 1.18931532, 1.18931532, 1.18931532, 1.19101573,\n",
              "       1.19016553, 1.19101573, 1.19101573, 1.68659979, 0.58567976,\n",
              "       1.18931532, 1.13613977, 1.19016553, 1.13443936, 1.19016553,\n",
              "       1.13443936, 1.19186594, 1.18931532, 1.19016553, 1.19016553,\n",
              "       1.18931532, 1.19101573, 1.18931532, 1.13443936, 1.18931532,\n",
              "       1.19101573, 1.13528957, 1.18931532, 1.19016553, 1.19016553,\n",
              "       1.13698998, 1.13613977, 1.19101573, 1.19016553, 1.19271615,\n",
              "       1.18931532, 1.18931532, 1.13443936, 1.19050561, 1.1403908 ,\n",
              "       1.19356635, 1.19271615, 1.68489938, 1.18931532, 1.19101573,\n",
              "       1.18931532, 1.18931532, 1.60887033, 1.19016553, 1.18931532,\n",
              "       1.18931532, 1.18931532, 1.19016553, 1.19101573, 1.19186594,\n",
              "       1.18931532, 1.18931532, 1.19271615, 1.19101573, 1.13443936,\n",
              "       1.18931532, 1.13869039, 1.13443936, 1.13443936, 1.13443936,\n",
              "       1.13443936, 1.18931532, 1.13528957, 1.13443936, 1.18931532,\n",
              "       1.13443936, 1.13443936, 1.19016553, 1.19101573, 1.18931532,\n",
              "       1.19526676, 1.18931532, 1.19101573, 1.19016553, 1.19356635,\n",
              "       1.18931532, 1.18931532, 0.58823037, 1.00608497, 1.00987041,\n",
              "       1.19016553, 1.80282891, 1.19356635, 1.68404917, 1.18931532,\n",
              "       1.19101573, 1.19016553, 0.36899572, 1.00987041, 1.18931532,\n",
              "       1.19016553, 1.19016553, 1.18931532, 1.19016553, 1.19050561,\n",
              "       1.01157082, 1.19356635, 1.18931532, 1.18931532, 1.19356635,\n",
              "       1.19186594, 1.19356635, 1.13562965, 1.19101573, 1.68438926,\n",
              "       1.19016553, 1.19356635, 1.19016553, 1.19050561, 1.19101573,\n",
              "       1.19696717, 1.19441656, 1.18931532, 1.19441656, 1.19016553,\n",
              "       1.19016553, 1.19016553, 1.30979547, 1.19016553, 0.41375018,\n",
              "       1.47984518, 1.01072062, 1.60802012, 1.19050561, 1.19101573,\n",
              "       1.19186594, 1.19101573, 1.19101573, 1.18931532, 1.19101573,\n",
              "       1.19271615, 1.19050561, 1.18931532, 1.18931532, 1.57039637,\n",
              "       1.13613977, 1.68489938, 1.19101573, 1.18931532, 1.19016553,\n",
              "       1.19101573, 1.18931532, 1.19101573, 1.19101573, 1.19050561,\n",
              "       1.13698998, 1.35507107, 2.10360418, 1.19016553, 1.13698998,\n",
              "       1.13443936, 1.13443936, 1.13528957, 1.13698998, 1.13562965,\n",
              "       1.13443936, 1.18931532, 0.58567976, 1.18931532, 1.48069539,\n",
              "       1.19101573, 1.19186594, 1.18931532, 1.19016553, 1.18931532,\n",
              "       1.18931532, 1.18931532, 1.19271615, 1.71737895, 1.68319897,\n",
              "       0.95499445, 1.13528957, 0.36899572, 1.2984947 , 0.95499445,\n",
              "       0.36984592, 1.60802012, 1.13443936, 1.68319897, 1.18931532,\n",
              "       1.18931532, 1.60802012, 1.50375405, 1.60972053, 1.19016553,\n",
              "       1.18931532, 1.19441656, 1.19101573, 1.19356635, 1.19050561,\n",
              "       1.19356635, 1.19186594, 1.19101573, 1.19356635, 1.19101573,\n",
              "       1.19186594, 1.19101573, 1.19186594, 1.19101573, 1.19101573,\n",
              "       1.13613977, 1.18931532, 0.03947077, 1.18931532, 1.18931532,\n",
              "       1.19101573, 0.36899572, 1.18931532, 1.14124101, 1.19101573,\n",
              "       0.03692015, 1.46939461, 1.18931532, 1.13443936, 0.92063501,\n",
              "       1.19186594, 1.13443936, 1.18931532, 1.18931532, 1.18931532,\n",
              "       1.18931532, 1.68319897, 1.13443936, 1.18931532, 1.18931532,\n",
              "       1.18931532, 1.19016553, 1.18931532, 1.13443936, 1.19016553,\n",
              "       1.13443936, 1.13443936, 0.31667037, 1.1395406 , 1.19356635,\n",
              "       1.18931532, 1.19101573, 1.18931532, 0.31411976, 1.68659979,\n",
              "       1.52512078, 1.18931532, 1.19356635, 1.19186594, 1.18931532,\n",
              "       1.19101573, 1.19696717, 1.18931532, 1.52257016, 1.18931532,\n",
              "       1.19016553, 1.19050561, 1.19101573, 1.18931532, 1.19016553,\n",
              "       1.19016553, 1.18931532, 1.19016553, 1.19101573, 1.18931532,\n",
              "       1.18931532, 1.18931532, 1.19101573, 1.18931532, 1.19356635,\n",
              "       1.19101573, 1.18931532, 2.0617294 , 1.19101573, 1.18931532,\n",
              "       1.18931532, 1.18931532, 1.19016553, 1.18931532, 1.19186594,\n",
              "       1.18931532, 1.18931532, 1.13562965, 1.19441656, 1.19016553,\n",
              "       1.19016553, 1.13443936, 1.19016553, 1.19016553, 1.18931532,\n",
              "       1.19016553, 1.19101573, 1.00987041, 1.19186594, 1.19050561,\n",
              "       1.19186594, 1.19101573, 1.19016553, 1.19016553, 1.19186594,\n",
              "       1.19016553, 1.19050561, 1.19271615, 1.13443936, 0.95499445,\n",
              "       1.13528957, 1.13613977, 0.95499445, 1.00987041, 1.18931532,\n",
              "       1.18931532, 1.18931532, 1.68404917, 1.68319897, 1.13528957,\n",
              "       1.13443936, 1.19016553, 1.18931532, 1.13443936, 1.51211959,\n",
              "       1.18931532, 1.19186594, 1.18931532, 1.19186594, 1.18931532,\n",
              "       1.13528957, 1.18931532, 1.19016553, 1.19016553, 1.19186594])"
            ]
          },
          "metadata": {},
          "execution_count": 432
        }
      ]
    },
    {
      "cell_type": "code",
      "source": [
        "#Insertamos la columna de predicciones en el DataFrame\n",
        "Microretailer_Datos_Limpios.insert(0, 'Predicciones1', y_pred)\n",
        "Microretailer_Datos_Limpios"
      ],
      "metadata": {
        "id": "pbT2wGZHsIyH",
        "outputId": "775fa4be-7fa4-40f0-fbae-fe07a8de9b05",
        "colab": {
          "base_uri": "https://localhost:8080/",
          "height": 540
        }
      },
      "execution_count": null,
      "outputs": [
        {
          "output_type": "execute_result",
          "data": {
            "text/plain": [
              "     Predicciones1  97_number_of_customers_in_store  268_number_fridges  \\\n",
              "0         1.191866                              1.0                 3.0   \n",
              "1         1.189315                              2.0                 0.0   \n",
              "2         1.189315                              2.0                 0.0   \n",
              "3         1.189315                              1.0                 0.0   \n",
              "4         1.191016                              3.0                 2.0   \n",
              "..             ...                              ...                 ...   \n",
              "325       1.135290                              0.0                 1.0   \n",
              "326       1.189315                              1.0                 0.0   \n",
              "327       1.190166                              3.0                 1.0   \n",
              "328       1.190166                              0.0                 1.0   \n",
              "329       1.191866                              1.0                 3.0   \n",
              "\n",
              "     104_how_many_shelves_does_the_micro_retailer_have  \\\n",
              "0                                                  3.0   \n",
              "1                                                  0.0   \n",
              "2                                                  0.0   \n",
              "3                                                  0.0   \n",
              "4                                                  3.0   \n",
              "..                                                 ...   \n",
              "325                                                7.0   \n",
              "326                                                5.0   \n",
              "327                                                1.0   \n",
              "328                                                1.0   \n",
              "329                                                1.0   \n",
              "\n",
              "     2_current_permanent_employees  4_number_permanent_employees_last_year  \\\n",
              "0                              2.0                                    10.0   \n",
              "1                              1.8                                     2.0   \n",
              "2                              1.8                                     2.0   \n",
              "3                              0.0                                     0.0   \n",
              "4                              1.8                                     2.0   \n",
              "..                             ...                                     ...   \n",
              "325                            4.0                                     2.0   \n",
              "326                            1.8                                     2.0   \n",
              "327                            1.8                                     2.0   \n",
              "328                            1.8                                     2.0   \n",
              "329                            1.8                                     2.0   \n",
              "\n",
              "     103_number_own_fridges  145_number_direct_competitors  24_burnout  \\\n",
              "0                       3.0                            5.0         2.0   \n",
              "1                       1.8                            3.7         3.9   \n",
              "2                       1.8                            3.7         3.9   \n",
              "3                       1.8                           10.0         3.9   \n",
              "4                       1.8                            3.7         3.9   \n",
              "..                      ...                            ...         ...   \n",
              "325                     1.8                            5.0         3.9   \n",
              "326                     1.8                            3.7         3.9   \n",
              "327                     1.8                            3.7         3.9   \n",
              "328                     1.8                            3.7         3.9   \n",
              "329                     1.8                            3.7         3.9   \n",
              "\n",
              "     272_card_days_receive_money  ...  261_technology_organization  \\\n",
              "0                            0.9  ...                   De acuerdo   \n",
              "1                            0.9  ...                      nothing   \n",
              "2                            0.9  ...                      nothing   \n",
              "3                            0.9  ...                En desacuerdo   \n",
              "4                            0.9  ...                      nothing   \n",
              "..                           ...  ...                          ...   \n",
              "325                          1.0  ...     Totalmente en desacuerdo   \n",
              "326                          0.9  ...                      nothing   \n",
              "327                          0.9  ...                      nothing   \n",
              "328                          0.9  ...                      nothing   \n",
              "329                          0.9  ...                      nothing   \n",
              "\n",
              "     262_technology_serve_customers     263_technology_secure_sales  \\\n",
              "0    Ni de acuerdo ni en desacuerdo  Ni de acuerdo ni en desacuerdo   \n",
              "1                           nothing                         nothing   \n",
              "2                           nothing                         nothing   \n",
              "3                           nothing                   En desacuerdo   \n",
              "4                           nothing                         nothing   \n",
              "..                              ...                             ...   \n",
              "325        Totalmente en desacuerdo        Totalmente en desacuerdo   \n",
              "326                         nothing                         nothing   \n",
              "327                         nothing                         nothing   \n",
              "328                         nothing                         nothing   \n",
              "329                         nothing                         nothing   \n",
              "\n",
              "              264_technology_budget  \\\n",
              "0    Ni de acuerdo ni en desacuerdo   \n",
              "1                           nothing   \n",
              "2                           nothing   \n",
              "3          Totalmente en desacuerdo   \n",
              "4                           nothing   \n",
              "..                              ...   \n",
              "325        Totalmente en desacuerdo   \n",
              "326                         nothing   \n",
              "327                         nothing   \n",
              "328                         nothing   \n",
              "329                         nothing   \n",
              "\n",
              "     267_technology_investment_customer_preferences  \\\n",
              "0                    Ni de acuerdo ni en desacuerdo   \n",
              "1                                           nothing   \n",
              "2                                           nothing   \n",
              "3                                     En desacuerdo   \n",
              "4                                           nothing   \n",
              "..                                              ...   \n",
              "325                                      De acuerdo   \n",
              "326                                         nothing   \n",
              "327                                         nothing   \n",
              "328                                         nothing   \n",
              "329                                         nothing   \n",
              "\n",
              "     234_willingness_participate_workshop  318_shopkeeper_name  \\\n",
              "0                                      no              nothing   \n",
              "1                                 nothing              nothing   \n",
              "2                                 nothing              nothing   \n",
              "3                                      no              nothing   \n",
              "4                                 nothing              nothing   \n",
              "..                                    ...                  ...   \n",
              "325                                   yes               Frida    \n",
              "326                               nothing              nothing   \n",
              "327                               nothing              nothing   \n",
              "328                               nothing              nothing   \n",
              "329                               nothing              nothing   \n",
              "\n",
              "     319_shopkeepers_last_name  236_whatsapp              235_email  \n",
              "0                      nothing       nothing                nothing  \n",
              "1                      nothing       nothing                nothing  \n",
              "2                      nothing       nothing                nothing  \n",
              "3                      nothing       nothing                nothing  \n",
              "4                      nothing       nothing                nothing  \n",
              "..                         ...           ...                    ...  \n",
              "325          Juárez Hernández   2212380183.0  Hachi401096@gmail.com  \n",
              "326                    nothing       nothing                nothing  \n",
              "327                    nothing       nothing                nothing  \n",
              "328                    nothing       nothing                nothing  \n",
              "329                    nothing       nothing                nothing  \n",
              "\n",
              "[330 rows x 106 columns]"
            ],
            "text/html": [
              "\n",
              "  <div id=\"df-6ac28ccb-6b5d-4a9f-9885-d1a7fc5e68ea\">\n",
              "    <div class=\"colab-df-container\">\n",
              "      <div>\n",
              "<style scoped>\n",
              "    .dataframe tbody tr th:only-of-type {\n",
              "        vertical-align: middle;\n",
              "    }\n",
              "\n",
              "    .dataframe tbody tr th {\n",
              "        vertical-align: top;\n",
              "    }\n",
              "\n",
              "    .dataframe thead th {\n",
              "        text-align: right;\n",
              "    }\n",
              "</style>\n",
              "<table border=\"1\" class=\"dataframe\">\n",
              "  <thead>\n",
              "    <tr style=\"text-align: right;\">\n",
              "      <th></th>\n",
              "      <th>Predicciones1</th>\n",
              "      <th>97_number_of_customers_in_store</th>\n",
              "      <th>268_number_fridges</th>\n",
              "      <th>104_how_many_shelves_does_the_micro_retailer_have</th>\n",
              "      <th>2_current_permanent_employees</th>\n",
              "      <th>4_number_permanent_employees_last_year</th>\n",
              "      <th>103_number_own_fridges</th>\n",
              "      <th>145_number_direct_competitors</th>\n",
              "      <th>24_burnout</th>\n",
              "      <th>272_card_days_receive_money</th>\n",
              "      <th>...</th>\n",
              "      <th>261_technology_organization</th>\n",
              "      <th>262_technology_serve_customers</th>\n",
              "      <th>263_technology_secure_sales</th>\n",
              "      <th>264_technology_budget</th>\n",
              "      <th>267_technology_investment_customer_preferences</th>\n",
              "      <th>234_willingness_participate_workshop</th>\n",
              "      <th>318_shopkeeper_name</th>\n",
              "      <th>319_shopkeepers_last_name</th>\n",
              "      <th>236_whatsapp</th>\n",
              "      <th>235_email</th>\n",
              "    </tr>\n",
              "  </thead>\n",
              "  <tbody>\n",
              "    <tr>\n",
              "      <th>0</th>\n",
              "      <td>1.191866</td>\n",
              "      <td>1.0</td>\n",
              "      <td>3.0</td>\n",
              "      <td>3.0</td>\n",
              "      <td>2.0</td>\n",
              "      <td>10.0</td>\n",
              "      <td>3.0</td>\n",
              "      <td>5.0</td>\n",
              "      <td>2.0</td>\n",
              "      <td>0.9</td>\n",
              "      <td>...</td>\n",
              "      <td>De acuerdo</td>\n",
              "      <td>Ni de acuerdo ni en desacuerdo</td>\n",
              "      <td>Ni de acuerdo ni en desacuerdo</td>\n",
              "      <td>Ni de acuerdo ni en desacuerdo</td>\n",
              "      <td>Ni de acuerdo ni en desacuerdo</td>\n",
              "      <td>no</td>\n",
              "      <td>nothing</td>\n",
              "      <td>nothing</td>\n",
              "      <td>nothing</td>\n",
              "      <td>nothing</td>\n",
              "    </tr>\n",
              "    <tr>\n",
              "      <th>1</th>\n",
              "      <td>1.189315</td>\n",
              "      <td>2.0</td>\n",
              "      <td>0.0</td>\n",
              "      <td>0.0</td>\n",
              "      <td>1.8</td>\n",
              "      <td>2.0</td>\n",
              "      <td>1.8</td>\n",
              "      <td>3.7</td>\n",
              "      <td>3.9</td>\n",
              "      <td>0.9</td>\n",
              "      <td>...</td>\n",
              "      <td>nothing</td>\n",
              "      <td>nothing</td>\n",
              "      <td>nothing</td>\n",
              "      <td>nothing</td>\n",
              "      <td>nothing</td>\n",
              "      <td>nothing</td>\n",
              "      <td>nothing</td>\n",
              "      <td>nothing</td>\n",
              "      <td>nothing</td>\n",
              "      <td>nothing</td>\n",
              "    </tr>\n",
              "    <tr>\n",
              "      <th>2</th>\n",
              "      <td>1.189315</td>\n",
              "      <td>2.0</td>\n",
              "      <td>0.0</td>\n",
              "      <td>0.0</td>\n",
              "      <td>1.8</td>\n",
              "      <td>2.0</td>\n",
              "      <td>1.8</td>\n",
              "      <td>3.7</td>\n",
              "      <td>3.9</td>\n",
              "      <td>0.9</td>\n",
              "      <td>...</td>\n",
              "      <td>nothing</td>\n",
              "      <td>nothing</td>\n",
              "      <td>nothing</td>\n",
              "      <td>nothing</td>\n",
              "      <td>nothing</td>\n",
              "      <td>nothing</td>\n",
              "      <td>nothing</td>\n",
              "      <td>nothing</td>\n",
              "      <td>nothing</td>\n",
              "      <td>nothing</td>\n",
              "    </tr>\n",
              "    <tr>\n",
              "      <th>3</th>\n",
              "      <td>1.189315</td>\n",
              "      <td>1.0</td>\n",
              "      <td>0.0</td>\n",
              "      <td>0.0</td>\n",
              "      <td>0.0</td>\n",
              "      <td>0.0</td>\n",
              "      <td>1.8</td>\n",
              "      <td>10.0</td>\n",
              "      <td>3.9</td>\n",
              "      <td>0.9</td>\n",
              "      <td>...</td>\n",
              "      <td>En desacuerdo</td>\n",
              "      <td>nothing</td>\n",
              "      <td>En desacuerdo</td>\n",
              "      <td>Totalmente en desacuerdo</td>\n",
              "      <td>En desacuerdo</td>\n",
              "      <td>no</td>\n",
              "      <td>nothing</td>\n",
              "      <td>nothing</td>\n",
              "      <td>nothing</td>\n",
              "      <td>nothing</td>\n",
              "    </tr>\n",
              "    <tr>\n",
              "      <th>4</th>\n",
              "      <td>1.191016</td>\n",
              "      <td>3.0</td>\n",
              "      <td>2.0</td>\n",
              "      <td>3.0</td>\n",
              "      <td>1.8</td>\n",
              "      <td>2.0</td>\n",
              "      <td>1.8</td>\n",
              "      <td>3.7</td>\n",
              "      <td>3.9</td>\n",
              "      <td>0.9</td>\n",
              "      <td>...</td>\n",
              "      <td>nothing</td>\n",
              "      <td>nothing</td>\n",
              "      <td>nothing</td>\n",
              "      <td>nothing</td>\n",
              "      <td>nothing</td>\n",
              "      <td>nothing</td>\n",
              "      <td>nothing</td>\n",
              "      <td>nothing</td>\n",
              "      <td>nothing</td>\n",
              "      <td>nothing</td>\n",
              "    </tr>\n",
              "    <tr>\n",
              "      <th>...</th>\n",
              "      <td>...</td>\n",
              "      <td>...</td>\n",
              "      <td>...</td>\n",
              "      <td>...</td>\n",
              "      <td>...</td>\n",
              "      <td>...</td>\n",
              "      <td>...</td>\n",
              "      <td>...</td>\n",
              "      <td>...</td>\n",
              "      <td>...</td>\n",
              "      <td>...</td>\n",
              "      <td>...</td>\n",
              "      <td>...</td>\n",
              "      <td>...</td>\n",
              "      <td>...</td>\n",
              "      <td>...</td>\n",
              "      <td>...</td>\n",
              "      <td>...</td>\n",
              "      <td>...</td>\n",
              "      <td>...</td>\n",
              "      <td>...</td>\n",
              "    </tr>\n",
              "    <tr>\n",
              "      <th>325</th>\n",
              "      <td>1.135290</td>\n",
              "      <td>0.0</td>\n",
              "      <td>1.0</td>\n",
              "      <td>7.0</td>\n",
              "      <td>4.0</td>\n",
              "      <td>2.0</td>\n",
              "      <td>1.8</td>\n",
              "      <td>5.0</td>\n",
              "      <td>3.9</td>\n",
              "      <td>1.0</td>\n",
              "      <td>...</td>\n",
              "      <td>Totalmente en desacuerdo</td>\n",
              "      <td>Totalmente en desacuerdo</td>\n",
              "      <td>Totalmente en desacuerdo</td>\n",
              "      <td>Totalmente en desacuerdo</td>\n",
              "      <td>De acuerdo</td>\n",
              "      <td>yes</td>\n",
              "      <td>Frida</td>\n",
              "      <td>Juárez Hernández</td>\n",
              "      <td>2212380183.0</td>\n",
              "      <td>Hachi401096@gmail.com</td>\n",
              "    </tr>\n",
              "    <tr>\n",
              "      <th>326</th>\n",
              "      <td>1.189315</td>\n",
              "      <td>1.0</td>\n",
              "      <td>0.0</td>\n",
              "      <td>5.0</td>\n",
              "      <td>1.8</td>\n",
              "      <td>2.0</td>\n",
              "      <td>1.8</td>\n",
              "      <td>3.7</td>\n",
              "      <td>3.9</td>\n",
              "      <td>0.9</td>\n",
              "      <td>...</td>\n",
              "      <td>nothing</td>\n",
              "      <td>nothing</td>\n",
              "      <td>nothing</td>\n",
              "      <td>nothing</td>\n",
              "      <td>nothing</td>\n",
              "      <td>nothing</td>\n",
              "      <td>nothing</td>\n",
              "      <td>nothing</td>\n",
              "      <td>nothing</td>\n",
              "      <td>nothing</td>\n",
              "    </tr>\n",
              "    <tr>\n",
              "      <th>327</th>\n",
              "      <td>1.190166</td>\n",
              "      <td>3.0</td>\n",
              "      <td>1.0</td>\n",
              "      <td>1.0</td>\n",
              "      <td>1.8</td>\n",
              "      <td>2.0</td>\n",
              "      <td>1.8</td>\n",
              "      <td>3.7</td>\n",
              "      <td>3.9</td>\n",
              "      <td>0.9</td>\n",
              "      <td>...</td>\n",
              "      <td>nothing</td>\n",
              "      <td>nothing</td>\n",
              "      <td>nothing</td>\n",
              "      <td>nothing</td>\n",
              "      <td>nothing</td>\n",
              "      <td>nothing</td>\n",
              "      <td>nothing</td>\n",
              "      <td>nothing</td>\n",
              "      <td>nothing</td>\n",
              "      <td>nothing</td>\n",
              "    </tr>\n",
              "    <tr>\n",
              "      <th>328</th>\n",
              "      <td>1.190166</td>\n",
              "      <td>0.0</td>\n",
              "      <td>1.0</td>\n",
              "      <td>1.0</td>\n",
              "      <td>1.8</td>\n",
              "      <td>2.0</td>\n",
              "      <td>1.8</td>\n",
              "      <td>3.7</td>\n",
              "      <td>3.9</td>\n",
              "      <td>0.9</td>\n",
              "      <td>...</td>\n",
              "      <td>nothing</td>\n",
              "      <td>nothing</td>\n",
              "      <td>nothing</td>\n",
              "      <td>nothing</td>\n",
              "      <td>nothing</td>\n",
              "      <td>nothing</td>\n",
              "      <td>nothing</td>\n",
              "      <td>nothing</td>\n",
              "      <td>nothing</td>\n",
              "      <td>nothing</td>\n",
              "    </tr>\n",
              "    <tr>\n",
              "      <th>329</th>\n",
              "      <td>1.191866</td>\n",
              "      <td>1.0</td>\n",
              "      <td>3.0</td>\n",
              "      <td>1.0</td>\n",
              "      <td>1.8</td>\n",
              "      <td>2.0</td>\n",
              "      <td>1.8</td>\n",
              "      <td>3.7</td>\n",
              "      <td>3.9</td>\n",
              "      <td>0.9</td>\n",
              "      <td>...</td>\n",
              "      <td>nothing</td>\n",
              "      <td>nothing</td>\n",
              "      <td>nothing</td>\n",
              "      <td>nothing</td>\n",
              "      <td>nothing</td>\n",
              "      <td>nothing</td>\n",
              "      <td>nothing</td>\n",
              "      <td>nothing</td>\n",
              "      <td>nothing</td>\n",
              "      <td>nothing</td>\n",
              "    </tr>\n",
              "  </tbody>\n",
              "</table>\n",
              "<p>330 rows × 106 columns</p>\n",
              "</div>\n",
              "      <button class=\"colab-df-convert\" onclick=\"convertToInteractive('df-6ac28ccb-6b5d-4a9f-9885-d1a7fc5e68ea')\"\n",
              "              title=\"Convert this dataframe to an interactive table.\"\n",
              "              style=\"display:none;\">\n",
              "        \n",
              "  <svg xmlns=\"http://www.w3.org/2000/svg\" height=\"24px\"viewBox=\"0 0 24 24\"\n",
              "       width=\"24px\">\n",
              "    <path d=\"M0 0h24v24H0V0z\" fill=\"none\"/>\n",
              "    <path d=\"M18.56 5.44l.94 2.06.94-2.06 2.06-.94-2.06-.94-.94-2.06-.94 2.06-2.06.94zm-11 1L8.5 8.5l.94-2.06 2.06-.94-2.06-.94L8.5 2.5l-.94 2.06-2.06.94zm10 10l.94 2.06.94-2.06 2.06-.94-2.06-.94-.94-2.06-.94 2.06-2.06.94z\"/><path d=\"M17.41 7.96l-1.37-1.37c-.4-.4-.92-.59-1.43-.59-.52 0-1.04.2-1.43.59L10.3 9.45l-7.72 7.72c-.78.78-.78 2.05 0 2.83L4 21.41c.39.39.9.59 1.41.59.51 0 1.02-.2 1.41-.59l7.78-7.78 2.81-2.81c.8-.78.8-2.07 0-2.86zM5.41 20L4 18.59l7.72-7.72 1.47 1.35L5.41 20z\"/>\n",
              "  </svg>\n",
              "      </button>\n",
              "      \n",
              "  <style>\n",
              "    .colab-df-container {\n",
              "      display:flex;\n",
              "      flex-wrap:wrap;\n",
              "      gap: 12px;\n",
              "    }\n",
              "\n",
              "    .colab-df-convert {\n",
              "      background-color: #E8F0FE;\n",
              "      border: none;\n",
              "      border-radius: 50%;\n",
              "      cursor: pointer;\n",
              "      display: none;\n",
              "      fill: #1967D2;\n",
              "      height: 32px;\n",
              "      padding: 0 0 0 0;\n",
              "      width: 32px;\n",
              "    }\n",
              "\n",
              "    .colab-df-convert:hover {\n",
              "      background-color: #E2EBFA;\n",
              "      box-shadow: 0px 1px 2px rgba(60, 64, 67, 0.3), 0px 1px 3px 1px rgba(60, 64, 67, 0.15);\n",
              "      fill: #174EA6;\n",
              "    }\n",
              "\n",
              "    [theme=dark] .colab-df-convert {\n",
              "      background-color: #3B4455;\n",
              "      fill: #D2E3FC;\n",
              "    }\n",
              "\n",
              "    [theme=dark] .colab-df-convert:hover {\n",
              "      background-color: #434B5C;\n",
              "      box-shadow: 0px 1px 3px 1px rgba(0, 0, 0, 0.15);\n",
              "      filter: drop-shadow(0px 1px 2px rgba(0, 0, 0, 0.3));\n",
              "      fill: #FFFFFF;\n",
              "    }\n",
              "  </style>\n",
              "\n",
              "      <script>\n",
              "        const buttonEl =\n",
              "          document.querySelector('#df-6ac28ccb-6b5d-4a9f-9885-d1a7fc5e68ea button.colab-df-convert');\n",
              "        buttonEl.style.display =\n",
              "          google.colab.kernel.accessAllowed ? 'block' : 'none';\n",
              "\n",
              "        async function convertToInteractive(key) {\n",
              "          const element = document.querySelector('#df-6ac28ccb-6b5d-4a9f-9885-d1a7fc5e68ea');\n",
              "          const dataTable =\n",
              "            await google.colab.kernel.invokeFunction('convertToInteractive',\n",
              "                                                     [key], {});\n",
              "          if (!dataTable) return;\n",
              "\n",
              "          const docLinkHtml = 'Like what you see? Visit the ' +\n",
              "            '<a target=\"_blank\" href=https://colab.research.google.com/notebooks/data_table.ipynb>data table notebook</a>'\n",
              "            + ' to learn more about interactive tables.';\n",
              "          element.innerHTML = '';\n",
              "          dataTable['output_type'] = 'display_data';\n",
              "          await google.colab.output.renderOutput(dataTable, element);\n",
              "          const docLink = document.createElement('div');\n",
              "          docLink.innerHTML = docLinkHtml;\n",
              "          element.appendChild(docLink);\n",
              "        }\n",
              "      </script>\n",
              "    </div>\n",
              "  </div>\n",
              "  "
            ]
          },
          "metadata": {},
          "execution_count": 433
        }
      ]
    },
    {
      "cell_type": "code",
      "source": [
        "#Visualizamos la gráfica comparativa entre el total real y el total predecido\n",
        "\n",
        "sns.scatterplot(x='145_number_direct_competitors', y='97_number_of_customers_in_store', color=\"blue\", data=Microretailer_Datos_Limpios)\n",
        "sns.scatterplot(x='145_number_direct_competitors', y='Predicciones', color=\"red\", data=Microretailer_Datos_Limpios)"
      ],
      "metadata": {
        "id": "NOzLJceFsUKB"
      },
      "execution_count": null,
      "outputs": []
    },
    {
      "cell_type": "code",
      "source": [
        "#Corroboramos cual es el coeficiente de Determinación de nuestro modelo\n",
        "coef_Deter=model.score(X=Vars_Indep, y=Var_Dep)\n",
        "coef_Deter"
      ],
      "metadata": {
        "id": "MDrxQm6AsnvU",
        "colab": {
          "base_uri": "https://localhost:8080/"
        },
        "outputId": "e4933197-1d85-4383-e36d-3588ee6cc06c"
      },
      "execution_count": 436,
      "outputs": [
        {
          "output_type": "execute_result",
          "data": {
            "text/plain": [
              "0.026489981050868083"
            ]
          },
          "metadata": {},
          "execution_count": 436
        }
      ]
    },
    {
      "cell_type": "code",
      "source": [
        "#Corroboramos cual es el coeficiente de Correlación de nuestro modelo\n",
        "coef_Correl=np.sqrt(coef_Deter)\n",
        "coef_Correl"
      ],
      "metadata": {
        "id": "-pwRf8hNsrof",
        "colab": {
          "base_uri": "https://localhost:8080/"
        },
        "outputId": "a8936767-eb31-42df-d5e0-6da57739f840"
      },
      "execution_count": 437,
      "outputs": [
        {
          "output_type": "execute_result",
          "data": {
            "text/plain": [
              "0.16275743009419902"
            ]
          },
          "metadata": {},
          "execution_count": 437
        }
      ]
    },
    {
      "cell_type": "markdown",
      "source": [
        "2."
      ],
      "metadata": {
        "id": "8TWhTJk2syfU"
      }
    },
    {
      "cell_type": "code",
      "source": [
        "from turtle import color\n",
        "sns.scatterplot(x='268_number_fridges', y='4_number_permanent_employees_last_year', color=\"blue\", data=Microretailer_Datos_Limpios)\n",
        "sns.scatterplot(x='104_how_many_shelves_does_the_micro_retailer_have', y='4_number_permanent_employees_last_year', color=\"red\", data=Microretailer_Datos_Limpios)\n",
        "sns.scatterplot(x='2_current_permanent_employees', y='4_number_permanent_employees_last_year', color=\"yellow\", data=Microretailer_Datos_Limpios)"
      ],
      "metadata": {
        "id": "JZyE0J88szcU",
        "colab": {
          "base_uri": "https://localhost:8080/",
          "height": 298
        },
        "outputId": "4e457f9d-b291-4b61-93ec-6b01b68e486c"
      },
      "execution_count": 438,
      "outputs": [
        {
          "output_type": "execute_result",
          "data": {
            "text/plain": [
              "<matplotlib.axes._subplots.AxesSubplot at 0x7fbe4923f550>"
            ]
          },
          "metadata": {},
          "execution_count": 438
        },
        {
          "output_type": "display_data",
          "data": {
            "text/plain": [
              "<Figure size 432x288 with 1 Axes>"
            ],
            "image/png": "[encoded data removed]"
          },
          "metadata": {
            "needs_background": "light"
          }
        }
      ]
    },
    {
      "cell_type": "code",
      "source": [
        "#Declaramos las variables dependientes e independientes para la regresión lineal\n",
        "Vars_Indep= Microretailer_Datos_Limpios[['268_number_fridges', '104_how_many_shelves_does_the_micro_retailer_have','2_current_permanent_employees']]\n",
        "Var_Dep= Microretailer_Datos_Limpios['4_number_permanent_employees_last_year']"
      ],
      "metadata": {
        "id": "U7RtMn2qs5XU"
      },
      "execution_count": 439,
      "outputs": []
    },
    {
      "cell_type": "code",
      "source": [
        "#Se define model como la función de regresión lineal\n",
        "from sklearn.linear_model import LinearRegression\n",
        "model= LinearRegression()"
      ],
      "metadata": {
        "id": "ivPKpbH7s7bb"
      },
      "execution_count": 440,
      "outputs": []
    },
    {
      "cell_type": "code",
      "source": [
        "#Verificamos la función relacionada al modelo\n",
        "type(model)"
      ],
      "metadata": {
        "id": "hTwVUCNSs9q8"
      },
      "execution_count": null,
      "outputs": []
    },
    {
      "cell_type": "code",
      "source": [
        "#Ajustamos el modelo con las variables antes declaradas\n",
        "model.fit(X=Vars_Indep, y=Var_Dep)"
      ],
      "metadata": {
        "id": "lACYeizjs_1d"
      },
      "execution_count": null,
      "outputs": []
    },
    {
      "cell_type": "code",
      "source": [
        "#Verificamos los coeficientes obtenidos para el modelo ajustado\n",
        "model.__dict__"
      ],
      "metadata": {
        "id": "q2-0VsFitB6G"
      },
      "execution_count": null,
      "outputs": []
    },
    {
      "cell_type": "code",
      "source": [
        "#Evaluamos la eficiencia del modelo obtenido por medio del coeficiente R2 Determinación\n",
        "model.score(Vars_Indep,Var_Dep)"
      ],
      "metadata": {
        "id": "rjQogiOJtECX",
        "colab": {
          "base_uri": "https://localhost:8080/"
        },
        "outputId": "8cfe3975-6f53-46e8-8c20-e17acbc0136f"
      },
      "execution_count": 444,
      "outputs": [
        {
          "output_type": "execute_result",
          "data": {
            "text/plain": [
              "0.3902233581613249"
            ]
          },
          "metadata": {},
          "execution_count": 444
        }
      ]
    },
    {
      "cell_type": "markdown",
      "source": [
        "MODELO PREDICTIVO"
      ],
      "metadata": {
        "id": "S4UbubRotI_r"
      }
    },
    {
      "cell_type": "code",
      "source": [
        "#Predecimos los valores de total de accidentes a partir de las variables: \"alcohol\", \"speeding\" y \"no_previous\"\n",
        "y_pred= model.predict(X=Microretailer_Datos_Limpios[['268_number_fridges', '104_how_many_shelves_does_the_micro_retailer_have','2_current_permanent_employees']])\n",
        "y_pred"
      ],
      "metadata": {
        "id": "UNhhbWGRtK4Z"
      },
      "execution_count": null,
      "outputs": []
    },
    {
      "cell_type": "code",
      "source": [
        "#Insertamos la columna de predicciones en el DataFrame\n",
        "Microretailer_Datos_Limpios.insert(0, 'Predicciones2', y_pred)\n",
        "Microretailer_Datos_Limpios"
      ],
      "metadata": {
        "id": "fqpqp0XftNtS"
      },
      "execution_count": null,
      "outputs": []
    },
    {
      "cell_type": "code",
      "source": [
        "#Visualizamos la gráfica comparativa entre el total real y el total predecido\n",
        "\n",
        "sns.scatterplot(x='268_number_fridges', y='4_number_permanent_employees_last_year', color=\"blue\", data=Microretailer_Datos_Limpios)\n",
        "sns.scatterplot(x='268_number_fridges', y='Predicciones2', color=\"red\", data=Microretailer_Datos_Limpios)"
      ],
      "metadata": {
        "id": "65SoMEiStSgH",
        "colab": {
          "base_uri": "https://localhost:8080/",
          "height": 298
        },
        "outputId": "8e320115-df93-4968-efd9-f5ae5b003139"
      },
      "execution_count": 447,
      "outputs": [
        {
          "output_type": "execute_result",
          "data": {
            "text/plain": [
              "<matplotlib.axes._subplots.AxesSubplot at 0x7fbe491c3f10>"
            ]
          },
          "metadata": {},
          "execution_count": 447
        },
        {
          "output_type": "display_data",
          "data": {
            "text/plain": [
              "<Figure size 432x288 with 1 Axes>"
            ],
            "image/png": "[encoded data removed]"
          },
          "metadata": {
            "needs_background": "light"
          }
        }
      ]
    },
    {
      "cell_type": "code",
      "source": [
        "#Corroboramos cual es el coeficiente de Determinación de nuestro modelo\n",
        "coef_Deter=model.score(X=Vars_Indep, y=Var_Dep)\n",
        "coef_Deter"
      ],
      "metadata": {
        "id": "6KdcDPjQtUlq",
        "colab": {
          "base_uri": "https://localhost:8080/"
        },
        "outputId": "8ae9fea4-823e-4ab7-b59d-ad0ea17821f0"
      },
      "execution_count": 448,
      "outputs": [
        {
          "output_type": "execute_result",
          "data": {
            "text/plain": [
              "0.3902233581613249"
            ]
          },
          "metadata": {},
          "execution_count": 448
        }
      ]
    },
    {
      "cell_type": "markdown",
      "source": [
        "3."
      ],
      "metadata": {
        "id": "Ml6apPkpu66r"
      }
    },
    {
      "cell_type": "code",
      "source": [
        "from turtle import color\n",
        "sns.scatterplot(x='272_card_days_receive_money', y='97_number_of_customers_in_store', color=\"blue\", data=Microretailer_Datos_Limpios)\n",
        "sns.scatterplot(x='24_burnout', y='97_number_of_customers_in_store', color=\"red\", data=Microretailer_Datos_Limpios)\n",
        "sns.scatterplot(x='103_number_own_fridges', y='97_number_of_customers_in_store', color=\"yellow\", data=Microretailer_Datos_Limpios)"
      ],
      "metadata": {
        "id": "t-xVEJrku7vB",
        "colab": {
          "base_uri": "https://localhost:8080/",
          "height": 297
        },
        "outputId": "6fc2f516-a7cb-4b97-fba6-86198c5b34fd"
      },
      "execution_count": 449,
      "outputs": [
        {
          "output_type": "execute_result",
          "data": {
            "text/plain": [
              "<matplotlib.axes._subplots.AxesSubplot at 0x7fbe491187d0>"
            ]
          },
          "metadata": {},
          "execution_count": 449
        },
        {
          "output_type": "display_data",
          "data": {
            "text/plain": [
              "<Figure size 432x288 with 1 Axes>"
            ],
            "image/png": "[encoded data removed]"
          },
          "metadata": {
            "needs_background": "light"
          }
        }
      ]
    },
    {
      "cell_type": "code",
      "source": [
        "#Declaramos las variables dependientes e independientes para la regresión lineal\n",
        "Vars_Indep= Microretailer_Datos_Limpios[['272_card_days_receive_money', '24_burnout','103_number_own_fridges']]\n",
        "Var_Dep= Microretailer_Datos_Limpios['97_number_of_customers_in_store']"
      ],
      "metadata": {
        "id": "m6Czp9WGu_ay"
      },
      "execution_count": 450,
      "outputs": []
    },
    {
      "cell_type": "code",
      "source": [
        "#Se define model como la función de regresión lineal\n",
        "from sklearn.linear_model import LinearRegression\n",
        "model= LinearRegression()"
      ],
      "metadata": {
        "id": "dtVCrU2FvEGC"
      },
      "execution_count": 451,
      "outputs": []
    },
    {
      "cell_type": "code",
      "source": [
        "#Verificamos la función relacionada al modelo\n",
        "type(model)"
      ],
      "metadata": {
        "id": "bxFcDJCUvGh3",
        "colab": {
          "base_uri": "https://localhost:8080/"
        },
        "outputId": "3332895d-49c8-4180-d982-d3bc896618ed"
      },
      "execution_count": 452,
      "outputs": [
        {
          "output_type": "execute_result",
          "data": {
            "text/plain": [
              "sklearn.linear_model._base.LinearRegression"
            ]
          },
          "metadata": {},
          "execution_count": 452
        }
      ]
    },
    {
      "cell_type": "code",
      "source": [
        "#Ajustamos el modelo con las variables antes declaradas\n",
        "model.fit(X=Vars_Indep, y=Var_Dep)"
      ],
      "metadata": {
        "id": "UwOaKKIJvJCk",
        "colab": {
          "base_uri": "https://localhost:8080/"
        },
        "outputId": "89a720cd-b3ae-4752-a199-e1b09c5c792c"
      },
      "execution_count": 453,
      "outputs": [
        {
          "output_type": "execute_result",
          "data": {
            "text/plain": [
              "LinearRegression()"
            ]
          },
          "metadata": {},
          "execution_count": 453
        }
      ]
    },
    {
      "cell_type": "code",
      "source": [
        "#Verificamos los coeficientes obtenidos para el modelo ajustado\n",
        "model.__dict__"
      ],
      "metadata": {
        "id": "LGfahmW1vK-g"
      },
      "execution_count": null,
      "outputs": []
    },
    {
      "cell_type": "code",
      "source": [
        "#Evaluamos la eficiencia del modelo obtenido por medio del coeficiente R2 Determinación\n",
        "model.score(Vars_Indep,Var_Dep)"
      ],
      "metadata": {
        "id": "6f8aNcnmvNKQ",
        "colab": {
          "base_uri": "https://localhost:8080/"
        },
        "outputId": "bb17e537-8a4f-4249-ba25-95622a781238"
      },
      "execution_count": 455,
      "outputs": [
        {
          "output_type": "execute_result",
          "data": {
            "text/plain": [
              "0.022765676054767092"
            ]
          },
          "metadata": {},
          "execution_count": 455
        }
      ]
    },
    {
      "cell_type": "code",
      "source": [
        "#Corroboramos cual es el coeficiente de Correlación de nuestro modelo\n",
        "coef_Correl=np.sqrt(coef_Deter)\n",
        "coef_Correl"
      ],
      "metadata": {
        "id": "HpyX7AI-wvrf",
        "colab": {
          "base_uri": "https://localhost:8080/"
        },
        "outputId": "20ae550f-b747-4941-c136-a43fdbe1591f"
      },
      "execution_count": 456,
      "outputs": [
        {
          "output_type": "execute_result",
          "data": {
            "text/plain": [
              "0.6246786038926937"
            ]
          },
          "metadata": {},
          "execution_count": 456
        }
      ]
    },
    {
      "cell_type": "markdown",
      "source": [
        "MODELO PREDICTIVO"
      ],
      "metadata": {
        "id": "1X568r90vO8t"
      }
    },
    {
      "cell_type": "code",
      "source": [
        "#Predecimos los valores de total de accidentes a partir de las variables: \"alcohol\", \"speeding\" y \"no_previous\"\n",
        "y_pred= model.predict(X=Microretailer_Datos_Limpios[['272_card_days_receive_money', '24_burnout','103_number_own_fridges']])\n",
        "y_pred"
      ],
      "metadata": {
        "id": "Lh1e5EKHvQW0"
      },
      "execution_count": null,
      "outputs": []
    },
    {
      "cell_type": "code",
      "source": [
        "#Insertamos la columna de predicciones en el DataFrame\n",
        "Microretailer_Datos_Limpios.insert(0, 'Predicciones3', y_pred)\n",
        "Microretailer_Datos_Limpios"
      ],
      "metadata": {
        "id": "jXlGj8kkvUvz"
      },
      "execution_count": null,
      "outputs": []
    },
    {
      "cell_type": "code",
      "source": [
        "#Visualizamos la gráfica comparativa entre el total real y el total predecido\n",
        "\n",
        "sns.scatterplot(x='272_card_days_receive_money', y='97_number_of_customers_in_store', color=\"blue\", data=Microretailer_Datos_Limpios)\n",
        "sns.scatterplot(x='272_card_days_receive_money', y='Predicciones3', color=\"red\", data=Microretailer_Datos_Limpios)"
      ],
      "metadata": {
        "id": "cR2Qo69pvXFf",
        "colab": {
          "base_uri": "https://localhost:8080/",
          "height": 297
        },
        "outputId": "f2ff593e-bde1-4a8a-e123-6351a914b69c"
      },
      "execution_count": 459,
      "outputs": [
        {
          "output_type": "execute_result",
          "data": {
            "text/plain": [
              "<matplotlib.axes._subplots.AxesSubplot at 0x7fbe490aaa50>"
            ]
          },
          "metadata": {},
          "execution_count": 459
        },
        {
          "output_type": "display_data",
          "data": {
            "text/plain": [
              "<Figure size 432x288 with 1 Axes>"
            ],
            "image/png": "[encoded data removed]"
          },
          "metadata": {
            "needs_background": "light"
          }
        }
      ]
    },
    {
      "cell_type": "code",
      "source": [
        "#Corroboramos cual es el coeficiente de Determinación de nuestro modelo\n",
        "coef_Deter=model.score(X=Vars_Indep, y=Var_Dep)\n",
        "coef_Deter"
      ],
      "metadata": {
        "id": "H25qlbH6vZ6x",
        "colab": {
          "base_uri": "https://localhost:8080/"
        },
        "outputId": "1cb844af-39a3-4e74-cddb-c02ed91f5afd"
      },
      "execution_count": 461,
      "outputs": [
        {
          "output_type": "execute_result",
          "data": {
            "text/plain": [
              "0.022765676054767092"
            ]
          },
          "metadata": {},
          "execution_count": 461
        }
      ]
    },
    {
      "cell_type": "code",
      "source": [
        "#Corroboramos cual es el coeficiente de Correlación de nuestro modelo\n",
        "coef_Correl=np.sqrt(coef_Deter)\n",
        "coef_Correl"
      ],
      "metadata": {
        "id": "2HO4AfKVwtU0",
        "colab": {
          "base_uri": "https://localhost:8080/"
        },
        "outputId": "bf44e77e-9401-47a0-90e2-d95134e15922"
      },
      "execution_count": 460,
      "outputs": [
        {
          "output_type": "execute_result",
          "data": {
            "text/plain": [
              "0.6246786038926937"
            ]
          },
          "metadata": {},
          "execution_count": 460
        }
      ]
    },
    {
      "cell_type": "markdown",
      "source": [
        "\n",
        "\n",
        "---\n",
        "\n"
      ],
      "metadata": {
        "id": "PCo0TdeixiMW"
      }
    },
    {
      "cell_type": "markdown",
      "source": [
        "REGRESIÓN LOGÍSTICA"
      ],
      "metadata": {
        "id": "Xw_UVd-T07rg"
      }
    },
    {
      "cell_type": "markdown",
      "source": [
        "1."
      ],
      "metadata": {
        "id": "Y_VAC2gx0911"
      }
    },
    {
      "cell_type": "code",
      "source": [
        "#Declaramos las variables dependientes e independientes para la regresión logística\n",
        "Vars_Indep= Microretailer_Datos_Limpios[['145_number_direct_competitors', '272_card_days_receive_money', '276_expected_days_informal_credit']]\n",
        "Var_Dep= Microretailer_Datos_Limpios['108_does_the_micro_retailer_has_a_barred_window_']"
      ],
      "metadata": {
        "id": "5QA8hCO2xkMk"
      },
      "execution_count": 462,
      "outputs": []
    },
    {
      "cell_type": "code",
      "source": [
        "#Redefinimos las variables\n",
        "X= Vars_Indep\n",
        "y= Var_Dep"
      ],
      "metadata": {
        "id": "w4LgMnDq2aDd"
      },
      "execution_count": 463,
      "outputs": []
    },
    {
      "cell_type": "code",
      "source": [
        "#Dividimos el conjunto de datos en la parte de entrenamiento y prueba:\n",
        "X_micro, X_test, y_micro, y_test = train_test_split(X, y, test_size=0.3, random_state =None)\n"
      ],
      "metadata": {
        "id": "YGqyAP6O2c-p"
      },
      "execution_count": 464,
      "outputs": []
    },
    {
      "cell_type": "code",
      "source": [
        "#Se escalan todos los datos\n",
        "escalar= StandardScaler()"
      ],
      "metadata": {
        "id": "hb_m39t12kjV"
      },
      "execution_count": 465,
      "outputs": []
    },
    {
      "cell_type": "code",
      "source": [
        "#Para realizar el escalamiento de las variables \"X\" tanto de entrenamiento como de prueba, utilizaremos fit_transform\n",
        "X_micro = escalar.fit_transform(X_micro)\n",
        "X_test = escalar.transform(X_test)"
      ],
      "metadata": {
        "id": "MKn5e-iU2oMd"
      },
      "execution_count": 466,
      "outputs": []
    },
    {
      "cell_type": "code",
      "source": [
        "#Definimos el algoritmo a utilizar\n",
        "from sklearn.linear_model import LogisticRegression\n",
        "algoritmo = LogisticRegression()"
      ],
      "metadata": {
        "id": "ZZkbwP_a2zVX"
      },
      "execution_count": 467,
      "outputs": []
    },
    {
      "cell_type": "code",
      "source": [
        "#Entrenamos el modelo\n",
        "algoritmo.fit(X_micro, y_micro)"
      ],
      "metadata": {
        "id": "xMYM-oQl22fd",
        "colab": {
          "base_uri": "https://localhost:8080/"
        },
        "outputId": "93bc8844-e636-4f8a-f872-d45db57e8eeb"
      },
      "execution_count": 468,
      "outputs": [
        {
          "output_type": "execute_result",
          "data": {
            "text/plain": [
              "LogisticRegression()"
            ]
          },
          "metadata": {},
          "execution_count": 468
        }
      ]
    },
    {
      "cell_type": "code",
      "source": [
        "#Realizamos una predicción\n",
        "y_pred= algoritmo.predict(X_test)\n",
        "y_pred "
      ],
      "metadata": {
        "id": "zkYWLl5N28S7",
        "colab": {
          "base_uri": "https://localhost:8080/"
        },
        "outputId": "b5b80285-f660-4bc6-c49c-687dd7b9884c"
      },
      "execution_count": 469,
      "outputs": [
        {
          "output_type": "execute_result",
          "data": {
            "text/plain": [
              "array(['no', 'no', 'no', 'no', 'no', 'no', 'no', 'no', 'no', 'no', 'no',\n",
              "       'no', 'no', 'no', 'no', 'no', 'no', 'no', 'no', 'no', 'no', 'no',\n",
              "       'no', 'no', 'no', 'no', 'no', 'no', 'no', 'no', 'no', 'no', 'no',\n",
              "       'no', 'no', 'no', 'no', 'no', 'no', 'no', 'no', 'no', 'no', 'no',\n",
              "       'no', 'no', 'no', 'yes', 'no', 'no', 'no', 'no', 'no', 'no', 'no',\n",
              "       'no', 'no', 'no', 'no', 'no', 'no', 'no', 'no', 'no', 'yes', 'no',\n",
              "       'no', 'no', 'no', 'no', 'no', 'no', 'no', 'no', 'no', 'no', 'no',\n",
              "       'no', 'no', 'no', 'no', 'no', 'no', 'no', 'no', 'no', 'no', 'no',\n",
              "       'no', 'no', 'no', 'no', 'no', 'no', 'no', 'no', 'no', 'no', 'no'],\n",
              "      dtype=object)"
            ]
          },
          "metadata": {},
          "execution_count": 469
        }
      ]
    },
    {
      "cell_type": "code",
      "source": [
        "#Verifico la matriz de Confusión\n",
        "from sklearn.metrics import confusion_matrix\n",
        "matriz = confusion_matrix(y_test, y_pred)\n",
        "print('Matriz de Confusión:')\n",
        "print(matriz)"
      ],
      "metadata": {
        "id": "ydiQ4dlY28I-",
        "colab": {
          "base_uri": "https://localhost:8080/"
        },
        "outputId": "835bb4b5-2dfa-4018-f86e-7f2c9272fce3"
      },
      "execution_count": 470,
      "outputs": [
        {
          "output_type": "stream",
          "name": "stdout",
          "text": [
            "Matriz de Confusión:\n",
            "[[73  1]\n",
            " [24  1]]\n"
          ]
        }
      ]
    },
    {
      "cell_type": "code",
      "source": [
        "#Calculo la precisión del modelo \n",
        "from sklearn.metrics import precision_score\n",
        "precision= precision_score(y_test, y_pred, average=\"binary\", pos_label=\"yes\")\n",
        "print('Precision del modelo:')\n",
        "print(precision)"
      ],
      "metadata": {
        "id": "rvkNNitE3Es9"
      },
      "execution_count": null,
      "outputs": []
    },
    {
      "cell_type": "code",
      "source": [
        "#Calculo la exactitud del modelo\n",
        "from sklearn.metrics import accuracy_score\n",
        "exactitud= accuracy_score(y_test, y_pred)\n",
        "print('Exactitud del modelo')\n",
        "print(exactitud)"
      ],
      "metadata": {
        "id": "2pKLCM4S3IGQ",
        "colab": {
          "base_uri": "https://localhost:8080/"
        },
        "outputId": "3adc1b65-46cb-451e-8a8a-5c6c8c227a79"
      },
      "execution_count": 472,
      "outputs": [
        {
          "output_type": "stream",
          "name": "stdout",
          "text": [
            "Exactitud del modelo\n",
            "0.7474747474747475\n"
          ]
        }
      ]
    },
    {
      "cell_type": "code",
      "source": [
        "#Calculo la sensibilidad del modelo \n",
        "from sklearn.metrics import recall_score\n",
        "sensibilidad=recall_score(y_test, y_pred, average=\"binary\", pos_label=\"yes\")\n",
        "print('Sensibilidad del modelo')\n",
        "print(sensibilidad)"
      ],
      "metadata": {
        "id": "GtuqnapW3MN2",
        "colab": {
          "base_uri": "https://localhost:8080/"
        },
        "outputId": "b6163409-f99e-496d-ed79-c62bdfa60dbc"
      },
      "execution_count": 473,
      "outputs": [
        {
          "output_type": "stream",
          "name": "stdout",
          "text": [
            "Sensibilidad del modelo\n",
            "0.04\n"
          ]
        }
      ]
    },
    {
      "cell_type": "markdown",
      "source": [
        "2."
      ],
      "metadata": {
        "id": "1PsygvqG3Q9e"
      }
    },
    {
      "cell_type": "code",
      "source": [
        "#Declaramos las variables dependientes e independientes para la regresión logística\n",
        "Vars_Indep= Microretailer_Datos_Limpios[['268_number_fridges', '104_how_many_shelves_does_the_micro_retailer_have','2_current_permanent_employees']]\n",
        "Var_Dep= Microretailer_Datos_Limpios['99_does_the_micro_retailer_exhibits_products_outside_']"
      ],
      "metadata": {
        "id": "m8UqGfqX3Rs8"
      },
      "execution_count": 474,
      "outputs": []
    },
    {
      "cell_type": "code",
      "source": [
        "#Redefinimos las variables\n",
        "X= Vars_Indep\n",
        "y= Var_Dep"
      ],
      "metadata": {
        "id": "gtyZfkgb6VIG"
      },
      "execution_count": 475,
      "outputs": []
    },
    {
      "cell_type": "code",
      "source": [
        "#Dividimos el conjunto de datos en la parte de entrenamiento y prueba:\n",
        "X_micro, X_test, y_micro, y_test = train_test_split(X, y, test_size=0.3, random_state =None)\n"
      ],
      "metadata": {
        "id": "wFOcAEZp6XqS"
      },
      "execution_count": 476,
      "outputs": []
    },
    {
      "cell_type": "code",
      "source": [
        "#Se escalan todos los datos\n",
        "escalar= StandardScaler()"
      ],
      "metadata": {
        "id": "RROiEG7J6grN"
      },
      "execution_count": 477,
      "outputs": []
    },
    {
      "cell_type": "code",
      "source": [
        "#Para realizar el escalamiento de las variables \"X\" tanto de entrenamiento como de prueba, utilizaremos fit_transform\n",
        "X_micro = escalar.fit_transform(X_micro)\n",
        "X_test = escalar.transform(X_test)"
      ],
      "metadata": {
        "id": "656-migf6jn0"
      },
      "execution_count": 478,
      "outputs": []
    },
    {
      "cell_type": "code",
      "source": [
        "#Definimos el algoritmo a utilizar\n",
        "from sklearn.linear_model import LogisticRegression\n",
        "algoritmo = LogisticRegression()"
      ],
      "metadata": {
        "id": "TxI7rVI66mjI"
      },
      "execution_count": 479,
      "outputs": []
    },
    {
      "cell_type": "code",
      "source": [
        "#Entrenamos el modelo\n",
        "algoritmo.fit(X_micro, y_micro)"
      ],
      "metadata": {
        "id": "dZXWGbHF6o0U",
        "colab": {
          "base_uri": "https://localhost:8080/"
        },
        "outputId": "c05be9b6-0d3b-4b82-b2cf-1b58e7ca8621"
      },
      "execution_count": 480,
      "outputs": [
        {
          "output_type": "execute_result",
          "data": {
            "text/plain": [
              "LogisticRegression()"
            ]
          },
          "metadata": {},
          "execution_count": 480
        }
      ]
    },
    {
      "cell_type": "code",
      "source": [
        "#Realizamos una predicción\n",
        "y_pred= algoritmo.predict(X_test)\n",
        "y_pred "
      ],
      "metadata": {
        "id": "UX9F1psN6rsJ",
        "colab": {
          "base_uri": "https://localhost:8080/"
        },
        "outputId": "749521d4-9655-4e0e-cd83-6a41c93b0dba"
      },
      "execution_count": 481,
      "outputs": [
        {
          "output_type": "execute_result",
          "data": {
            "text/plain": [
              "array(['no', 'no', 'no', 'no', 'no', 'no', 'no', 'no', 'no', 'no', 'no',\n",
              "       'no', 'no', 'no', 'no', 'no', 'no', 'no', 'no', 'no', 'no', 'no',\n",
              "       'no', 'no', 'no', 'no', 'no', 'no', 'no', 'no', 'no', 'no', 'no',\n",
              "       'no', 'no', 'no', 'no', 'no', 'no', 'no', 'no', 'no', 'no', 'no',\n",
              "       'no', 'no', 'no', 'no', 'no', 'no', 'no', 'no', 'no', 'no', 'no',\n",
              "       'no', 'no', 'no', 'no', 'no', 'no', 'no', 'no', 'no', 'no', 'no',\n",
              "       'no', 'no', 'no', 'no', 'no', 'no', 'no', 'no', 'no', 'no', 'no',\n",
              "       'no', 'no', 'no', 'no', 'no', 'no', 'no', 'no', 'no', 'no', 'no',\n",
              "       'no', 'no', 'no', 'no', 'no', 'no', 'no', 'no', 'no', 'no', 'no'],\n",
              "      dtype=object)"
            ]
          },
          "metadata": {},
          "execution_count": 481
        }
      ]
    },
    {
      "cell_type": "code",
      "source": [
        "#Verifico la matriz de Confusión\n",
        "from sklearn.metrics import confusion_matrix\n",
        "matriz = confusion_matrix(y_test, y_pred)\n",
        "print('Matriz de Confusión:')\n",
        "print(matriz)"
      ],
      "metadata": {
        "id": "j8T644-W6uAx",
        "colab": {
          "base_uri": "https://localhost:8080/"
        },
        "outputId": "f4dab1ce-f5f5-45ad-fa4c-e348681d9a10"
      },
      "execution_count": 482,
      "outputs": [
        {
          "output_type": "stream",
          "name": "stdout",
          "text": [
            "Matriz de Confusión:\n",
            "[[70  0]\n",
            " [29  0]]\n"
          ]
        }
      ]
    },
    {
      "cell_type": "code",
      "source": [
        "#Calculo la precisión del modelo \n",
        "from sklearn.metrics import precision_score\n",
        "precision= precision_score(y_test, y_pred, average=\"binary\", pos_label=\"yes\")\n",
        "print('Precision del modelo:')\n",
        "print(precision)"
      ],
      "metadata": {
        "id": "GGF9MiIN6wl9",
        "colab": {
          "base_uri": "https://localhost:8080/"
        },
        "outputId": "459326e0-7c6a-4c65-9b84-fbd20eb84033"
      },
      "execution_count": 483,
      "outputs": [
        {
          "output_type": "stream",
          "name": "stdout",
          "text": [
            "Precision del modelo:\n",
            "0.0\n"
          ]
        },
        {
          "output_type": "stream",
          "name": "stderr",
          "text": [
            "/usr/local/lib/python3.7/dist-packages/sklearn/metrics/_classification.py:1318: UndefinedMetricWarning: Precision is ill-defined and being set to 0.0 due to no predicted samples. Use `zero_division` parameter to control this behavior.\n",
            "  _warn_prf(average, modifier, msg_start, len(result))\n"
          ]
        }
      ]
    },
    {
      "cell_type": "code",
      "source": [
        "#Calculo la exactitud del modelo\n",
        "from sklearn.metrics import accuracy_score\n",
        "exactitud= accuracy_score(y_test, y_pred)\n",
        "print('Exactitud del modelo')\n",
        "print(exactitud)"
      ],
      "metadata": {
        "id": "8rzcfP756yra",
        "colab": {
          "base_uri": "https://localhost:8080/"
        },
        "outputId": "1cd8ea90-f9f5-45d3-94fe-7fed35ecd998"
      },
      "execution_count": 484,
      "outputs": [
        {
          "output_type": "stream",
          "name": "stdout",
          "text": [
            "Exactitud del modelo\n",
            "0.7070707070707071\n"
          ]
        }
      ]
    },
    {
      "cell_type": "code",
      "source": [
        "#Calculo la sensibilidad del modelo \n",
        "from sklearn.metrics import recall_score\n",
        "sensibilidad=recall_score(y_test, y_pred, average=\"binary\", pos_label=\"yes\")\n",
        "print('Sensibilidad del modelo')\n",
        "print(sensibilidad)"
      ],
      "metadata": {
        "id": "yyHK7M4_604m",
        "colab": {
          "base_uri": "https://localhost:8080/"
        },
        "outputId": "72ee26d7-a991-4317-d3ff-58f547a5c4cf"
      },
      "execution_count": 485,
      "outputs": [
        {
          "output_type": "stream",
          "name": "stdout",
          "text": [
            "Sensibilidad del modelo\n",
            "0.0\n"
          ]
        }
      ]
    },
    {
      "cell_type": "markdown",
      "source": [
        "3."
      ],
      "metadata": {
        "id": "58Uhc6hM7Sz8"
      }
    },
    {
      "cell_type": "code",
      "source": [
        "#Declaramos las variables dependientes e independientes para la regresión logística\n",
        "Vars_Indep= Microretailer_Datos_Limpios[['272_card_days_receive_money', '24_burnout','103_number_own_fridges']]\n",
        "Var_Dep= Microretailer_Datos_Limpios['102_does_the_micro_retailer_sells_fresh_products_']"
      ],
      "metadata": {
        "id": "UpvgplnX7ThV"
      },
      "execution_count": 486,
      "outputs": []
    },
    {
      "cell_type": "code",
      "source": [
        "#Redefinimos las variables\n",
        "X= Vars_Indep\n",
        "y= Var_Dep"
      ],
      "metadata": {
        "id": "eLSx6Rel7W6Q"
      },
      "execution_count": 487,
      "outputs": []
    },
    {
      "cell_type": "code",
      "source": [
        "#Dividimos el conjunto de datos en la parte de entrenamiento y prueba:\n",
        "X_micro, X_test, y_micro, y_test = train_test_split(X, y, test_size=0.3, random_state =None)"
      ],
      "metadata": {
        "id": "ez57y39z7bNv"
      },
      "execution_count": 488,
      "outputs": []
    },
    {
      "cell_type": "code",
      "source": [
        "#Se escalan todos los datos\n",
        "escalar= StandardScaler()"
      ],
      "metadata": {
        "id": "dN3iLFot7d9v"
      },
      "execution_count": 489,
      "outputs": []
    },
    {
      "cell_type": "code",
      "source": [
        "#Para realizar el escalamiento de las variables \"X\" tanto de entrenamiento como de prueba, utilizaremos fit_transform\n",
        "X_micro = escalar.fit_transform(X_micro)\n",
        "X_test = escalar.transform(X_test)"
      ],
      "metadata": {
        "id": "oxMnWjBS7gx8"
      },
      "execution_count": null,
      "outputs": []
    },
    {
      "cell_type": "code",
      "source": [
        "#Definimos el algoritmo a utilizar\n",
        "from sklearn.linear_model import LogisticRegression\n",
        "algoritmo = LogisticRegression()"
      ],
      "metadata": {
        "id": "AZhJGPP-7jdu"
      },
      "execution_count": 490,
      "outputs": []
    },
    {
      "cell_type": "code",
      "source": [
        "#Entrenamos el modelo\n",
        "algoritmo.fit(X_micro, y_micro)"
      ],
      "metadata": {
        "id": "Pc1JJHNA7l-F",
        "colab": {
          "base_uri": "https://localhost:8080/"
        },
        "outputId": "2b784984-b388-4736-deed-3d480b2472c3"
      },
      "execution_count": 491,
      "outputs": [
        {
          "output_type": "execute_result",
          "data": {
            "text/plain": [
              "LogisticRegression()"
            ]
          },
          "metadata": {},
          "execution_count": 491
        }
      ]
    },
    {
      "cell_type": "code",
      "source": [
        "#Realizamos una predicción\n",
        "y_pred= algoritmo.predict(X_test)\n",
        "y_pred "
      ],
      "metadata": {
        "id": "yMZkpCoS7oxd",
        "colab": {
          "base_uri": "https://localhost:8080/"
        },
        "outputId": "0c4d4962-9e34-4c98-c13e-b96b83b1c37b"
      },
      "execution_count": 492,
      "outputs": [
        {
          "output_type": "execute_result",
          "data": {
            "text/plain": [
              "array(['no', 'no', 'no', 'no', 'no', 'no', 'no', 'no', 'no', 'no', 'no',\n",
              "       'no', 'no', 'yes', 'no', 'no', 'yes', 'no', 'no', 'no', 'no', 'no',\n",
              "       'no', 'no', 'no', 'no', 'no', 'no', 'no', 'no', 'no', 'no', 'yes',\n",
              "       'no', 'no', 'no', 'no', 'no', 'no', 'no', 'no', 'yes', 'no', 'no',\n",
              "       'no', 'no', 'no', 'no', 'yes', 'no', 'no', 'no', 'no', 'no', 'no',\n",
              "       'no', 'no', 'no', 'no', 'no', 'no', 'no', 'no', 'yes', 'no', 'no',\n",
              "       'no', 'no', 'no', 'no', 'no', 'yes', 'no', 'no', 'no', 'no', 'yes',\n",
              "       'no', 'no', 'no', 'no', 'no', 'no', 'no', 'no', 'no', 'no', 'no',\n",
              "       'no', 'no', 'no', 'no', 'yes', 'no', 'no', 'no', 'yes', 'no', 'no'],\n",
              "      dtype=object)"
            ]
          },
          "metadata": {},
          "execution_count": 492
        }
      ]
    },
    {
      "cell_type": "code",
      "source": [
        "#Verifico la matriz de Confusión\n",
        "from sklearn.metrics import confusion_matrix\n",
        "matriz = confusion_matrix(y_test, y_pred)\n",
        "print('Matriz de Confusión:')\n",
        "print(matriz)"
      ],
      "metadata": {
        "id": "Xkc-mon67rrs"
      },
      "execution_count": 493,
      "outputs": []
    },
    {
      "cell_type": "code",
      "source": [
        "#Calculo la precisión del modelo \n",
        "from sklearn.metrics import precision_score\n",
        "precision= precision_score(y_test, y_pred, average=\"binary\", pos_label=\"yes\")\n",
        "print('Precision del modelo:')\n",
        "print(precision)"
      ],
      "metadata": {
        "id": "mggYtHhX7uT_",
        "colab": {
          "base_uri": "https://localhost:8080/"
        },
        "outputId": "00d8f10d-45a9-4faf-bc30-1680d2c31936"
      },
      "execution_count": 494,
      "outputs": [
        {
          "output_type": "stream",
          "name": "stdout",
          "text": [
            "Precision del modelo:\n",
            "0.7\n"
          ]
        }
      ]
    },
    {
      "cell_type": "code",
      "source": [
        "#Calculo la exactitud del modelo\n",
        "from sklearn.metrics import accuracy_score\n",
        "exactitud= accuracy_score(y_test, y_pred)\n",
        "print('Exactitud del modelo')\n",
        "print(exactitud)"
      ],
      "metadata": {
        "id": "YYWqGpqS7xvY",
        "colab": {
          "base_uri": "https://localhost:8080/"
        },
        "outputId": "ca402c76-67ee-4fa2-ea2f-31c37bb6f270"
      },
      "execution_count": 496,
      "outputs": [
        {
          "output_type": "stream",
          "name": "stdout",
          "text": [
            "Exactitud del modelo\n",
            "0.6161616161616161\n"
          ]
        }
      ]
    },
    {
      "cell_type": "code",
      "source": [
        "#Calculo la sensibilidad del modelo \n",
        "from sklearn.metrics import recall_score\n",
        "sensibilidad=recall_score(y_test, y_pred, average=\"binary\", pos_label=\"yes\")\n",
        "print('Sensibilidad del modelo')\n",
        "print(sensibilidad)"
      ],
      "metadata": {
        "id": "eBcuiDWH7z2l",
        "colab": {
          "base_uri": "https://localhost:8080/"
        },
        "outputId": "fa9f3b91-3c61-4488-918c-946a6d580aa0"
      },
      "execution_count": 497,
      "outputs": [
        {
          "output_type": "stream",
          "name": "stdout",
          "text": [
            "Sensibilidad del modelo\n",
            "0.16666666666666666\n"
          ]
        }
      ]
    }
  ]
}